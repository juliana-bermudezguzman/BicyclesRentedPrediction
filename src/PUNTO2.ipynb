{
  "cells": [
    {
      "cell_type": "markdown",
      "metadata": {
        "id": "kAwN4Foz5Kpv"
      },
      "source": [
        "# Punto 2\n",
        "\n",
        "**Integrantes:** Juliana Bermúdez y Valentina Herrera\n",
        "\n",
        "**Objetivo** Predecir el número total de bicicletas alquiladas (cnt) en un día, utilizando un modelo de\n",
        "regresión con kernel basado en características como condiciones climáticas, temporada,\n",
        "hora del día, temperatura, etc."
      ]
    },
    {
      "cell_type": "markdown",
      "metadata": {
        "id": "G6Dw4oO35n9n"
      },
      "source": [
        "## Carga y preprocesamiento"
      ]
    },
    {
      "cell_type": "markdown",
      "metadata": {
        "id": "yjKFSLGx5sEY"
      },
      "source": [
        "A continuación importamos las librerías que vamos a utilizar."
      ]
    },
    {
      "cell_type": "code",
      "execution_count": null,
      "metadata": {
        "id": "DNGsg6Jr5saN"
      },
      "outputs": [],
      "source": [
        "import numpy as np\n",
        "from functools import partial\n",
        "import pandas as pd\n",
        "import numpy as np\n",
        "import scipy.stats as stats\n",
        "import matplotlib.pyplot as plt\n",
        "from tabulate import tabulate\n",
        "from matplotlib import pyplot as plt\n",
        "import seaborn as sns\n",
        "import ipywidgets as widgets\n",
        "from IPython.display import display\n",
        "from sklearn.linear_model import LinearRegression\n",
        "from sklearn.metrics import mean_squared_error, r2_score, mean_absolute_error\n",
        "import statsmodels.api as sm\n",
        "from statsmodels.stats.diagnostic import linear_rainbow\n",
        "from statsmodels.stats.diagnostic import het_breuschpagan\n",
        "from sklearn.preprocessing import StandardScaler\n",
        "from sklearn.kernel_ridge import KernelRidge\n",
        "from sklearn.model_selection import GridSearchCV, train_test_split\n",
        "import warnings\n",
        "from sklearn.exceptions import ConvergenceWarning\n",
        "from scipy.linalg import LinAlgWarning\n",
        "from sklearn.compose import ColumnTransformer\n",
        "from sklearn.preprocessing import OneHotEncoder\n",
        "from sklearn.impute import SimpleImputer\n",
        "from sklearn.model_selection import KFold\n",
        "from statsmodels.formula.api import ols\n",
        "from typing import Literal, Any\n",
        "from sklearn.model_selection import KFold, cross_validate\n",
        "from sklearn.base import BaseEstimator\n",
        "from sklearn.neighbors import KNeighborsRegressor\n",
        "from typing import Tuple"
      ]
    },
    {
      "cell_type": "markdown",
      "metadata": {
        "id": "WGL-liUz6Bh1"
      },
      "source": [
        "Importamos los datos como un dataframe de Pandas."
      ]
    },
    {
      "cell_type": "code",
      "execution_count": null,
      "metadata": {
        "id": "K3jfqW5K5qCe"
      },
      "outputs": [],
      "source": [
        "df = pd.read_csv('/content/day.csv')"
      ]
    },
    {
      "cell_type": "code",
      "execution_count": null,
      "metadata": {
        "id": "87sqZ19k1ZFX"
      },
      "outputs": [],
      "source": [
        "df = df.dropna()"
      ]
    },
    {
      "cell_type": "code",
      "execution_count": null,
      "metadata": {
        "colab": {
          "base_uri": "https://localhost:8080/",
          "height": 226
        },
        "id": "7WZY-ZXbHy0L",
        "outputId": "fdbce946-391e-4e77-93d2-089c87190ff4"
      },
      "outputs": [
        {
          "output_type": "execute_result",
          "data": {
            "text/plain": [
              "   instant      dteday  season  yr  mnth  holiday  weekday  workingday  \\\n",
              "0        1  2011-01-01       1   0     1        0        6           0   \n",
              "1        2  2011-01-02       1   0     1        0        0           0   \n",
              "2        3  2011-01-03       1   0     1        0        1           1   \n",
              "3        4  2011-01-04       1   0     1        0        2           1   \n",
              "4        5  2011-01-05       1   0     1        0        3           1   \n",
              "\n",
              "   weathersit      temp     atemp       hum  windspeed  casual  registered  \\\n",
              "0           2  0.344167  0.363625  0.805833   0.160446     331         654   \n",
              "1           2  0.363478  0.353739  0.696087   0.248539     131         670   \n",
              "2           1  0.196364  0.189405  0.437273   0.248309     120        1229   \n",
              "3           1  0.200000  0.212122  0.590435   0.160296     108        1454   \n",
              "4           1  0.226957  0.229270  0.436957   0.186900      82        1518   \n",
              "\n",
              "    cnt  \n",
              "0   985  \n",
              "1   801  \n",
              "2  1349  \n",
              "3  1562  \n",
              "4  1600  "
            ],
            "text/html": [
              "\n",
              "  <div id=\"df-d8357894-91e4-41da-b538-94b67b4361a9\" class=\"colab-df-container\">\n",
              "    <div>\n",
              "<style scoped>\n",
              "    .dataframe tbody tr th:only-of-type {\n",
              "        vertical-align: middle;\n",
              "    }\n",
              "\n",
              "    .dataframe tbody tr th {\n",
              "        vertical-align: top;\n",
              "    }\n",
              "\n",
              "    .dataframe thead th {\n",
              "        text-align: right;\n",
              "    }\n",
              "</style>\n",
              "<table border=\"1\" class=\"dataframe\">\n",
              "  <thead>\n",
              "    <tr style=\"text-align: right;\">\n",
              "      <th></th>\n",
              "      <th>instant</th>\n",
              "      <th>dteday</th>\n",
              "      <th>season</th>\n",
              "      <th>yr</th>\n",
              "      <th>mnth</th>\n",
              "      <th>holiday</th>\n",
              "      <th>weekday</th>\n",
              "      <th>workingday</th>\n",
              "      <th>weathersit</th>\n",
              "      <th>temp</th>\n",
              "      <th>atemp</th>\n",
              "      <th>hum</th>\n",
              "      <th>windspeed</th>\n",
              "      <th>casual</th>\n",
              "      <th>registered</th>\n",
              "      <th>cnt</th>\n",
              "    </tr>\n",
              "  </thead>\n",
              "  <tbody>\n",
              "    <tr>\n",
              "      <th>0</th>\n",
              "      <td>1</td>\n",
              "      <td>2011-01-01</td>\n",
              "      <td>1</td>\n",
              "      <td>0</td>\n",
              "      <td>1</td>\n",
              "      <td>0</td>\n",
              "      <td>6</td>\n",
              "      <td>0</td>\n",
              "      <td>2</td>\n",
              "      <td>0.344167</td>\n",
              "      <td>0.363625</td>\n",
              "      <td>0.805833</td>\n",
              "      <td>0.160446</td>\n",
              "      <td>331</td>\n",
              "      <td>654</td>\n",
              "      <td>985</td>\n",
              "    </tr>\n",
              "    <tr>\n",
              "      <th>1</th>\n",
              "      <td>2</td>\n",
              "      <td>2011-01-02</td>\n",
              "      <td>1</td>\n",
              "      <td>0</td>\n",
              "      <td>1</td>\n",
              "      <td>0</td>\n",
              "      <td>0</td>\n",
              "      <td>0</td>\n",
              "      <td>2</td>\n",
              "      <td>0.363478</td>\n",
              "      <td>0.353739</td>\n",
              "      <td>0.696087</td>\n",
              "      <td>0.248539</td>\n",
              "      <td>131</td>\n",
              "      <td>670</td>\n",
              "      <td>801</td>\n",
              "    </tr>\n",
              "    <tr>\n",
              "      <th>2</th>\n",
              "      <td>3</td>\n",
              "      <td>2011-01-03</td>\n",
              "      <td>1</td>\n",
              "      <td>0</td>\n",
              "      <td>1</td>\n",
              "      <td>0</td>\n",
              "      <td>1</td>\n",
              "      <td>1</td>\n",
              "      <td>1</td>\n",
              "      <td>0.196364</td>\n",
              "      <td>0.189405</td>\n",
              "      <td>0.437273</td>\n",
              "      <td>0.248309</td>\n",
              "      <td>120</td>\n",
              "      <td>1229</td>\n",
              "      <td>1349</td>\n",
              "    </tr>\n",
              "    <tr>\n",
              "      <th>3</th>\n",
              "      <td>4</td>\n",
              "      <td>2011-01-04</td>\n",
              "      <td>1</td>\n",
              "      <td>0</td>\n",
              "      <td>1</td>\n",
              "      <td>0</td>\n",
              "      <td>2</td>\n",
              "      <td>1</td>\n",
              "      <td>1</td>\n",
              "      <td>0.200000</td>\n",
              "      <td>0.212122</td>\n",
              "      <td>0.590435</td>\n",
              "      <td>0.160296</td>\n",
              "      <td>108</td>\n",
              "      <td>1454</td>\n",
              "      <td>1562</td>\n",
              "    </tr>\n",
              "    <tr>\n",
              "      <th>4</th>\n",
              "      <td>5</td>\n",
              "      <td>2011-01-05</td>\n",
              "      <td>1</td>\n",
              "      <td>0</td>\n",
              "      <td>1</td>\n",
              "      <td>0</td>\n",
              "      <td>3</td>\n",
              "      <td>1</td>\n",
              "      <td>1</td>\n",
              "      <td>0.226957</td>\n",
              "      <td>0.229270</td>\n",
              "      <td>0.436957</td>\n",
              "      <td>0.186900</td>\n",
              "      <td>82</td>\n",
              "      <td>1518</td>\n",
              "      <td>1600</td>\n",
              "    </tr>\n",
              "  </tbody>\n",
              "</table>\n",
              "</div>\n",
              "    <div class=\"colab-df-buttons\">\n",
              "\n",
              "  <div class=\"colab-df-container\">\n",
              "    <button class=\"colab-df-convert\" onclick=\"convertToInteractive('df-d8357894-91e4-41da-b538-94b67b4361a9')\"\n",
              "            title=\"Convert this dataframe to an interactive table.\"\n",
              "            style=\"display:none;\">\n",
              "\n",
              "  <svg xmlns=\"http://www.w3.org/2000/svg\" height=\"24px\" viewBox=\"0 -960 960 960\">\n",
              "    <path d=\"M120-120v-720h720v720H120Zm60-500h600v-160H180v160Zm220 220h160v-160H400v160Zm0 220h160v-160H400v160ZM180-400h160v-160H180v160Zm440 0h160v-160H620v160ZM180-180h160v-160H180v160Zm440 0h160v-160H620v160Z\"/>\n",
              "  </svg>\n",
              "    </button>\n",
              "\n",
              "  <style>\n",
              "    .colab-df-container {\n",
              "      display:flex;\n",
              "      gap: 12px;\n",
              "    }\n",
              "\n",
              "    .colab-df-convert {\n",
              "      background-color: #E8F0FE;\n",
              "      border: none;\n",
              "      border-radius: 50%;\n",
              "      cursor: pointer;\n",
              "      display: none;\n",
              "      fill: #1967D2;\n",
              "      height: 32px;\n",
              "      padding: 0 0 0 0;\n",
              "      width: 32px;\n",
              "    }\n",
              "\n",
              "    .colab-df-convert:hover {\n",
              "      background-color: #E2EBFA;\n",
              "      box-shadow: 0px 1px 2px rgba(60, 64, 67, 0.3), 0px 1px 3px 1px rgba(60, 64, 67, 0.15);\n",
              "      fill: #174EA6;\n",
              "    }\n",
              "\n",
              "    .colab-df-buttons div {\n",
              "      margin-bottom: 4px;\n",
              "    }\n",
              "\n",
              "    [theme=dark] .colab-df-convert {\n",
              "      background-color: #3B4455;\n",
              "      fill: #D2E3FC;\n",
              "    }\n",
              "\n",
              "    [theme=dark] .colab-df-convert:hover {\n",
              "      background-color: #434B5C;\n",
              "      box-shadow: 0px 1px 3px 1px rgba(0, 0, 0, 0.15);\n",
              "      filter: drop-shadow(0px 1px 2px rgba(0, 0, 0, 0.3));\n",
              "      fill: #FFFFFF;\n",
              "    }\n",
              "  </style>\n",
              "\n",
              "    <script>\n",
              "      const buttonEl =\n",
              "        document.querySelector('#df-d8357894-91e4-41da-b538-94b67b4361a9 button.colab-df-convert');\n",
              "      buttonEl.style.display =\n",
              "        google.colab.kernel.accessAllowed ? 'block' : 'none';\n",
              "\n",
              "      async function convertToInteractive(key) {\n",
              "        const element = document.querySelector('#df-d8357894-91e4-41da-b538-94b67b4361a9');\n",
              "        const dataTable =\n",
              "          await google.colab.kernel.invokeFunction('convertToInteractive',\n",
              "                                                    [key], {});\n",
              "        if (!dataTable) return;\n",
              "\n",
              "        const docLinkHtml = 'Like what you see? Visit the ' +\n",
              "          '<a target=\"_blank\" href=https://colab.research.google.com/notebooks/data_table.ipynb>data table notebook</a>'\n",
              "          + ' to learn more about interactive tables.';\n",
              "        element.innerHTML = '';\n",
              "        dataTable['output_type'] = 'display_data';\n",
              "        await google.colab.output.renderOutput(dataTable, element);\n",
              "        const docLink = document.createElement('div');\n",
              "        docLink.innerHTML = docLinkHtml;\n",
              "        element.appendChild(docLink);\n",
              "      }\n",
              "    </script>\n",
              "  </div>\n",
              "\n",
              "\n",
              "<div id=\"df-07c01bc1-684d-4f74-9f84-d47530074712\">\n",
              "  <button class=\"colab-df-quickchart\" onclick=\"quickchart('df-07c01bc1-684d-4f74-9f84-d47530074712')\"\n",
              "            title=\"Suggest charts\"\n",
              "            style=\"display:none;\">\n",
              "\n",
              "<svg xmlns=\"http://www.w3.org/2000/svg\" height=\"24px\"viewBox=\"0 0 24 24\"\n",
              "     width=\"24px\">\n",
              "    <g>\n",
              "        <path d=\"M19 3H5c-1.1 0-2 .9-2 2v14c0 1.1.9 2 2 2h14c1.1 0 2-.9 2-2V5c0-1.1-.9-2-2-2zM9 17H7v-7h2v7zm4 0h-2V7h2v10zm4 0h-2v-4h2v4z\"/>\n",
              "    </g>\n",
              "</svg>\n",
              "  </button>\n",
              "\n",
              "<style>\n",
              "  .colab-df-quickchart {\n",
              "      --bg-color: #E8F0FE;\n",
              "      --fill-color: #1967D2;\n",
              "      --hover-bg-color: #E2EBFA;\n",
              "      --hover-fill-color: #174EA6;\n",
              "      --disabled-fill-color: #AAA;\n",
              "      --disabled-bg-color: #DDD;\n",
              "  }\n",
              "\n",
              "  [theme=dark] .colab-df-quickchart {\n",
              "      --bg-color: #3B4455;\n",
              "      --fill-color: #D2E3FC;\n",
              "      --hover-bg-color: #434B5C;\n",
              "      --hover-fill-color: #FFFFFF;\n",
              "      --disabled-bg-color: #3B4455;\n",
              "      --disabled-fill-color: #666;\n",
              "  }\n",
              "\n",
              "  .colab-df-quickchart {\n",
              "    background-color: var(--bg-color);\n",
              "    border: none;\n",
              "    border-radius: 50%;\n",
              "    cursor: pointer;\n",
              "    display: none;\n",
              "    fill: var(--fill-color);\n",
              "    height: 32px;\n",
              "    padding: 0;\n",
              "    width: 32px;\n",
              "  }\n",
              "\n",
              "  .colab-df-quickchart:hover {\n",
              "    background-color: var(--hover-bg-color);\n",
              "    box-shadow: 0 1px 2px rgba(60, 64, 67, 0.3), 0 1px 3px 1px rgba(60, 64, 67, 0.15);\n",
              "    fill: var(--button-hover-fill-color);\n",
              "  }\n",
              "\n",
              "  .colab-df-quickchart-complete:disabled,\n",
              "  .colab-df-quickchart-complete:disabled:hover {\n",
              "    background-color: var(--disabled-bg-color);\n",
              "    fill: var(--disabled-fill-color);\n",
              "    box-shadow: none;\n",
              "  }\n",
              "\n",
              "  .colab-df-spinner {\n",
              "    border: 2px solid var(--fill-color);\n",
              "    border-color: transparent;\n",
              "    border-bottom-color: var(--fill-color);\n",
              "    animation:\n",
              "      spin 1s steps(1) infinite;\n",
              "  }\n",
              "\n",
              "  @keyframes spin {\n",
              "    0% {\n",
              "      border-color: transparent;\n",
              "      border-bottom-color: var(--fill-color);\n",
              "      border-left-color: var(--fill-color);\n",
              "    }\n",
              "    20% {\n",
              "      border-color: transparent;\n",
              "      border-left-color: var(--fill-color);\n",
              "      border-top-color: var(--fill-color);\n",
              "    }\n",
              "    30% {\n",
              "      border-color: transparent;\n",
              "      border-left-color: var(--fill-color);\n",
              "      border-top-color: var(--fill-color);\n",
              "      border-right-color: var(--fill-color);\n",
              "    }\n",
              "    40% {\n",
              "      border-color: transparent;\n",
              "      border-right-color: var(--fill-color);\n",
              "      border-top-color: var(--fill-color);\n",
              "    }\n",
              "    60% {\n",
              "      border-color: transparent;\n",
              "      border-right-color: var(--fill-color);\n",
              "    }\n",
              "    80% {\n",
              "      border-color: transparent;\n",
              "      border-right-color: var(--fill-color);\n",
              "      border-bottom-color: var(--fill-color);\n",
              "    }\n",
              "    90% {\n",
              "      border-color: transparent;\n",
              "      border-bottom-color: var(--fill-color);\n",
              "    }\n",
              "  }\n",
              "</style>\n",
              "\n",
              "  <script>\n",
              "    async function quickchart(key) {\n",
              "      const quickchartButtonEl =\n",
              "        document.querySelector('#' + key + ' button');\n",
              "      quickchartButtonEl.disabled = true;  // To prevent multiple clicks.\n",
              "      quickchartButtonEl.classList.add('colab-df-spinner');\n",
              "      try {\n",
              "        const charts = await google.colab.kernel.invokeFunction(\n",
              "            'suggestCharts', [key], {});\n",
              "      } catch (error) {\n",
              "        console.error('Error during call to suggestCharts:', error);\n",
              "      }\n",
              "      quickchartButtonEl.classList.remove('colab-df-spinner');\n",
              "      quickchartButtonEl.classList.add('colab-df-quickchart-complete');\n",
              "    }\n",
              "    (() => {\n",
              "      let quickchartButtonEl =\n",
              "        document.querySelector('#df-07c01bc1-684d-4f74-9f84-d47530074712 button');\n",
              "      quickchartButtonEl.style.display =\n",
              "        google.colab.kernel.accessAllowed ? 'block' : 'none';\n",
              "    })();\n",
              "  </script>\n",
              "</div>\n",
              "\n",
              "    </div>\n",
              "  </div>\n"
            ],
            "application/vnd.google.colaboratory.intrinsic+json": {
              "type": "dataframe",
              "variable_name": "df",
              "summary": "{\n  \"name\": \"df\",\n  \"rows\": 731,\n  \"fields\": [\n    {\n      \"column\": \"instant\",\n      \"properties\": {\n        \"dtype\": \"number\",\n        \"std\": 211,\n        \"min\": 1,\n        \"max\": 731,\n        \"num_unique_values\": 731,\n        \"samples\": [\n          704,\n          34,\n          301\n        ],\n        \"semantic_type\": \"\",\n        \"description\": \"\"\n      }\n    },\n    {\n      \"column\": \"dteday\",\n      \"properties\": {\n        \"dtype\": \"object\",\n        \"num_unique_values\": 731,\n        \"samples\": [\n          \"2012-12-04\",\n          \"2011-02-03\",\n          \"2011-10-28\"\n        ],\n        \"semantic_type\": \"\",\n        \"description\": \"\"\n      }\n    },\n    {\n      \"column\": \"season\",\n      \"properties\": {\n        \"dtype\": \"number\",\n        \"std\": 1,\n        \"min\": 1,\n        \"max\": 4,\n        \"num_unique_values\": 4,\n        \"samples\": [\n          2,\n          4,\n          1\n        ],\n        \"semantic_type\": \"\",\n        \"description\": \"\"\n      }\n    },\n    {\n      \"column\": \"yr\",\n      \"properties\": {\n        \"dtype\": \"number\",\n        \"std\": 0,\n        \"min\": 0,\n        \"max\": 1,\n        \"num_unique_values\": 2,\n        \"samples\": [\n          1,\n          0\n        ],\n        \"semantic_type\": \"\",\n        \"description\": \"\"\n      }\n    },\n    {\n      \"column\": \"mnth\",\n      \"properties\": {\n        \"dtype\": \"number\",\n        \"std\": 3,\n        \"min\": 1,\n        \"max\": 12,\n        \"num_unique_values\": 12,\n        \"samples\": [\n          11,\n          10\n        ],\n        \"semantic_type\": \"\",\n        \"description\": \"\"\n      }\n    },\n    {\n      \"column\": \"holiday\",\n      \"properties\": {\n        \"dtype\": \"number\",\n        \"std\": 0,\n        \"min\": 0,\n        \"max\": 1,\n        \"num_unique_values\": 2,\n        \"samples\": [\n          1,\n          0\n        ],\n        \"semantic_type\": \"\",\n        \"description\": \"\"\n      }\n    },\n    {\n      \"column\": \"weekday\",\n      \"properties\": {\n        \"dtype\": \"number\",\n        \"std\": 2,\n        \"min\": 0,\n        \"max\": 6,\n        \"num_unique_values\": 7,\n        \"samples\": [\n          6,\n          0\n        ],\n        \"semantic_type\": \"\",\n        \"description\": \"\"\n      }\n    },\n    {\n      \"column\": \"workingday\",\n      \"properties\": {\n        \"dtype\": \"number\",\n        \"std\": 0,\n        \"min\": 0,\n        \"max\": 1,\n        \"num_unique_values\": 2,\n        \"samples\": [\n          1,\n          0\n        ],\n        \"semantic_type\": \"\",\n        \"description\": \"\"\n      }\n    },\n    {\n      \"column\": \"weathersit\",\n      \"properties\": {\n        \"dtype\": \"number\",\n        \"std\": 0,\n        \"min\": 1,\n        \"max\": 3,\n        \"num_unique_values\": 3,\n        \"samples\": [\n          2,\n          1\n        ],\n        \"semantic_type\": \"\",\n        \"description\": \"\"\n      }\n    },\n    {\n      \"column\": \"temp\",\n      \"properties\": {\n        \"dtype\": \"number\",\n        \"std\": 0.18305099611148878,\n        \"min\": 0.0591304,\n        \"max\": 0.861667,\n        \"num_unique_values\": 499,\n        \"samples\": [\n          0.544167,\n          0.430435\n        ],\n        \"semantic_type\": \"\",\n        \"description\": \"\"\n      }\n    },\n    {\n      \"column\": \"atemp\",\n      \"properties\": {\n        \"dtype\": \"number\",\n        \"std\": 0.1629611783863113,\n        \"min\": 0.0790696,\n        \"max\": 0.840896,\n        \"num_unique_values\": 690,\n        \"samples\": [\n          0.463375,\n          0.599754\n        ],\n        \"semantic_type\": \"\",\n        \"description\": \"\"\n      }\n    },\n    {\n      \"column\": \"hum\",\n      \"properties\": {\n        \"dtype\": \"number\",\n        \"std\": 0.14242909513835394,\n        \"min\": 0.0,\n        \"max\": 0.9725,\n        \"num_unique_values\": 595,\n        \"samples\": [\n          0.707083,\n          0.718333\n        ],\n        \"semantic_type\": \"\",\n        \"description\": \"\"\n      }\n    },\n    {\n      \"column\": \"windspeed\",\n      \"properties\": {\n        \"dtype\": \"number\",\n        \"std\": 0.07749787068166941,\n        \"min\": 0.0223917,\n        \"max\": 0.507463,\n        \"num_unique_values\": 650,\n        \"samples\": [\n          0.100742,\n          0.139308\n        ],\n        \"semantic_type\": \"\",\n        \"description\": \"\"\n      }\n    },\n    {\n      \"column\": \"casual\",\n      \"properties\": {\n        \"dtype\": \"number\",\n        \"std\": 686,\n        \"min\": 2,\n        \"max\": 3410,\n        \"num_unique_values\": 606,\n        \"samples\": [\n          709,\n          449\n        ],\n        \"semantic_type\": \"\",\n        \"description\": \"\"\n      }\n    },\n    {\n      \"column\": \"registered\",\n      \"properties\": {\n        \"dtype\": \"number\",\n        \"std\": 1560,\n        \"min\": 20,\n        \"max\": 6946,\n        \"num_unique_values\": 679,\n        \"samples\": [\n          4531,\n          2553\n        ],\n        \"semantic_type\": \"\",\n        \"description\": \"\"\n      }\n    },\n    {\n      \"column\": \"cnt\",\n      \"properties\": {\n        \"dtype\": \"number\",\n        \"std\": 1937,\n        \"min\": 22,\n        \"max\": 8714,\n        \"num_unique_values\": 696,\n        \"samples\": [\n          5170,\n          1607\n        ],\n        \"semantic_type\": \"\",\n        \"description\": \"\"\n      }\n    }\n  ]\n}"
            }
          },
          "metadata": {},
          "execution_count": 4
        }
      ],
      "source": [
        "df.head()"
      ]
    },
    {
      "cell_type": "code",
      "execution_count": null,
      "metadata": {
        "colab": {
          "base_uri": "https://localhost:8080/",
          "height": 226
        },
        "id": "Iap4pb8nJAyP",
        "outputId": "5ecf2f85-25bd-4f6c-d8fd-2291bf3137fa"
      },
      "outputs": [
        {
          "output_type": "execute_result",
          "data": {
            "text/plain": [
              "     instant      dteday  season  yr  mnth  holiday  weekday  workingday  \\\n",
              "726      727  2012-12-27       1   1    12        0        4           1   \n",
              "727      728  2012-12-28       1   1    12        0        5           1   \n",
              "728      729  2012-12-29       1   1    12        0        6           0   \n",
              "729      730  2012-12-30       1   1    12        0        0           0   \n",
              "730      731  2012-12-31       1   1    12        0        1           1   \n",
              "\n",
              "     weathersit      temp     atemp       hum  windspeed  casual  registered  \\\n",
              "726           2  0.254167  0.226642  0.652917   0.350133     247        1867   \n",
              "727           2  0.253333  0.255046  0.590000   0.155471     644        2451   \n",
              "728           2  0.253333  0.242400  0.752917   0.124383     159        1182   \n",
              "729           1  0.255833  0.231700  0.483333   0.350754     364        1432   \n",
              "730           2  0.215833  0.223487  0.577500   0.154846     439        2290   \n",
              "\n",
              "      cnt  \n",
              "726  2114  \n",
              "727  3095  \n",
              "728  1341  \n",
              "729  1796  \n",
              "730  2729  "
            ],
            "text/html": [
              "\n",
              "  <div id=\"df-d7aaad77-40d5-470d-948e-80f01c0c9cc0\" class=\"colab-df-container\">\n",
              "    <div>\n",
              "<style scoped>\n",
              "    .dataframe tbody tr th:only-of-type {\n",
              "        vertical-align: middle;\n",
              "    }\n",
              "\n",
              "    .dataframe tbody tr th {\n",
              "        vertical-align: top;\n",
              "    }\n",
              "\n",
              "    .dataframe thead th {\n",
              "        text-align: right;\n",
              "    }\n",
              "</style>\n",
              "<table border=\"1\" class=\"dataframe\">\n",
              "  <thead>\n",
              "    <tr style=\"text-align: right;\">\n",
              "      <th></th>\n",
              "      <th>instant</th>\n",
              "      <th>dteday</th>\n",
              "      <th>season</th>\n",
              "      <th>yr</th>\n",
              "      <th>mnth</th>\n",
              "      <th>holiday</th>\n",
              "      <th>weekday</th>\n",
              "      <th>workingday</th>\n",
              "      <th>weathersit</th>\n",
              "      <th>temp</th>\n",
              "      <th>atemp</th>\n",
              "      <th>hum</th>\n",
              "      <th>windspeed</th>\n",
              "      <th>casual</th>\n",
              "      <th>registered</th>\n",
              "      <th>cnt</th>\n",
              "    </tr>\n",
              "  </thead>\n",
              "  <tbody>\n",
              "    <tr>\n",
              "      <th>726</th>\n",
              "      <td>727</td>\n",
              "      <td>2012-12-27</td>\n",
              "      <td>1</td>\n",
              "      <td>1</td>\n",
              "      <td>12</td>\n",
              "      <td>0</td>\n",
              "      <td>4</td>\n",
              "      <td>1</td>\n",
              "      <td>2</td>\n",
              "      <td>0.254167</td>\n",
              "      <td>0.226642</td>\n",
              "      <td>0.652917</td>\n",
              "      <td>0.350133</td>\n",
              "      <td>247</td>\n",
              "      <td>1867</td>\n",
              "      <td>2114</td>\n",
              "    </tr>\n",
              "    <tr>\n",
              "      <th>727</th>\n",
              "      <td>728</td>\n",
              "      <td>2012-12-28</td>\n",
              "      <td>1</td>\n",
              "      <td>1</td>\n",
              "      <td>12</td>\n",
              "      <td>0</td>\n",
              "      <td>5</td>\n",
              "      <td>1</td>\n",
              "      <td>2</td>\n",
              "      <td>0.253333</td>\n",
              "      <td>0.255046</td>\n",
              "      <td>0.590000</td>\n",
              "      <td>0.155471</td>\n",
              "      <td>644</td>\n",
              "      <td>2451</td>\n",
              "      <td>3095</td>\n",
              "    </tr>\n",
              "    <tr>\n",
              "      <th>728</th>\n",
              "      <td>729</td>\n",
              "      <td>2012-12-29</td>\n",
              "      <td>1</td>\n",
              "      <td>1</td>\n",
              "      <td>12</td>\n",
              "      <td>0</td>\n",
              "      <td>6</td>\n",
              "      <td>0</td>\n",
              "      <td>2</td>\n",
              "      <td>0.253333</td>\n",
              "      <td>0.242400</td>\n",
              "      <td>0.752917</td>\n",
              "      <td>0.124383</td>\n",
              "      <td>159</td>\n",
              "      <td>1182</td>\n",
              "      <td>1341</td>\n",
              "    </tr>\n",
              "    <tr>\n",
              "      <th>729</th>\n",
              "      <td>730</td>\n",
              "      <td>2012-12-30</td>\n",
              "      <td>1</td>\n",
              "      <td>1</td>\n",
              "      <td>12</td>\n",
              "      <td>0</td>\n",
              "      <td>0</td>\n",
              "      <td>0</td>\n",
              "      <td>1</td>\n",
              "      <td>0.255833</td>\n",
              "      <td>0.231700</td>\n",
              "      <td>0.483333</td>\n",
              "      <td>0.350754</td>\n",
              "      <td>364</td>\n",
              "      <td>1432</td>\n",
              "      <td>1796</td>\n",
              "    </tr>\n",
              "    <tr>\n",
              "      <th>730</th>\n",
              "      <td>731</td>\n",
              "      <td>2012-12-31</td>\n",
              "      <td>1</td>\n",
              "      <td>1</td>\n",
              "      <td>12</td>\n",
              "      <td>0</td>\n",
              "      <td>1</td>\n",
              "      <td>1</td>\n",
              "      <td>2</td>\n",
              "      <td>0.215833</td>\n",
              "      <td>0.223487</td>\n",
              "      <td>0.577500</td>\n",
              "      <td>0.154846</td>\n",
              "      <td>439</td>\n",
              "      <td>2290</td>\n",
              "      <td>2729</td>\n",
              "    </tr>\n",
              "  </tbody>\n",
              "</table>\n",
              "</div>\n",
              "    <div class=\"colab-df-buttons\">\n",
              "\n",
              "  <div class=\"colab-df-container\">\n",
              "    <button class=\"colab-df-convert\" onclick=\"convertToInteractive('df-d7aaad77-40d5-470d-948e-80f01c0c9cc0')\"\n",
              "            title=\"Convert this dataframe to an interactive table.\"\n",
              "            style=\"display:none;\">\n",
              "\n",
              "  <svg xmlns=\"http://www.w3.org/2000/svg\" height=\"24px\" viewBox=\"0 -960 960 960\">\n",
              "    <path d=\"M120-120v-720h720v720H120Zm60-500h600v-160H180v160Zm220 220h160v-160H400v160Zm0 220h160v-160H400v160ZM180-400h160v-160H180v160Zm440 0h160v-160H620v160ZM180-180h160v-160H180v160Zm440 0h160v-160H620v160Z\"/>\n",
              "  </svg>\n",
              "    </button>\n",
              "\n",
              "  <style>\n",
              "    .colab-df-container {\n",
              "      display:flex;\n",
              "      gap: 12px;\n",
              "    }\n",
              "\n",
              "    .colab-df-convert {\n",
              "      background-color: #E8F0FE;\n",
              "      border: none;\n",
              "      border-radius: 50%;\n",
              "      cursor: pointer;\n",
              "      display: none;\n",
              "      fill: #1967D2;\n",
              "      height: 32px;\n",
              "      padding: 0 0 0 0;\n",
              "      width: 32px;\n",
              "    }\n",
              "\n",
              "    .colab-df-convert:hover {\n",
              "      background-color: #E2EBFA;\n",
              "      box-shadow: 0px 1px 2px rgba(60, 64, 67, 0.3), 0px 1px 3px 1px rgba(60, 64, 67, 0.15);\n",
              "      fill: #174EA6;\n",
              "    }\n",
              "\n",
              "    .colab-df-buttons div {\n",
              "      margin-bottom: 4px;\n",
              "    }\n",
              "\n",
              "    [theme=dark] .colab-df-convert {\n",
              "      background-color: #3B4455;\n",
              "      fill: #D2E3FC;\n",
              "    }\n",
              "\n",
              "    [theme=dark] .colab-df-convert:hover {\n",
              "      background-color: #434B5C;\n",
              "      box-shadow: 0px 1px 3px 1px rgba(0, 0, 0, 0.15);\n",
              "      filter: drop-shadow(0px 1px 2px rgba(0, 0, 0, 0.3));\n",
              "      fill: #FFFFFF;\n",
              "    }\n",
              "  </style>\n",
              "\n",
              "    <script>\n",
              "      const buttonEl =\n",
              "        document.querySelector('#df-d7aaad77-40d5-470d-948e-80f01c0c9cc0 button.colab-df-convert');\n",
              "      buttonEl.style.display =\n",
              "        google.colab.kernel.accessAllowed ? 'block' : 'none';\n",
              "\n",
              "      async function convertToInteractive(key) {\n",
              "        const element = document.querySelector('#df-d7aaad77-40d5-470d-948e-80f01c0c9cc0');\n",
              "        const dataTable =\n",
              "          await google.colab.kernel.invokeFunction('convertToInteractive',\n",
              "                                                    [key], {});\n",
              "        if (!dataTable) return;\n",
              "\n",
              "        const docLinkHtml = 'Like what you see? Visit the ' +\n",
              "          '<a target=\"_blank\" href=https://colab.research.google.com/notebooks/data_table.ipynb>data table notebook</a>'\n",
              "          + ' to learn more about interactive tables.';\n",
              "        element.innerHTML = '';\n",
              "        dataTable['output_type'] = 'display_data';\n",
              "        await google.colab.output.renderOutput(dataTable, element);\n",
              "        const docLink = document.createElement('div');\n",
              "        docLink.innerHTML = docLinkHtml;\n",
              "        element.appendChild(docLink);\n",
              "      }\n",
              "    </script>\n",
              "  </div>\n",
              "\n",
              "\n",
              "<div id=\"df-66297f0b-ef17-4846-a6c0-17c329d2fea2\">\n",
              "  <button class=\"colab-df-quickchart\" onclick=\"quickchart('df-66297f0b-ef17-4846-a6c0-17c329d2fea2')\"\n",
              "            title=\"Suggest charts\"\n",
              "            style=\"display:none;\">\n",
              "\n",
              "<svg xmlns=\"http://www.w3.org/2000/svg\" height=\"24px\"viewBox=\"0 0 24 24\"\n",
              "     width=\"24px\">\n",
              "    <g>\n",
              "        <path d=\"M19 3H5c-1.1 0-2 .9-2 2v14c0 1.1.9 2 2 2h14c1.1 0 2-.9 2-2V5c0-1.1-.9-2-2-2zM9 17H7v-7h2v7zm4 0h-2V7h2v10zm4 0h-2v-4h2v4z\"/>\n",
              "    </g>\n",
              "</svg>\n",
              "  </button>\n",
              "\n",
              "<style>\n",
              "  .colab-df-quickchart {\n",
              "      --bg-color: #E8F0FE;\n",
              "      --fill-color: #1967D2;\n",
              "      --hover-bg-color: #E2EBFA;\n",
              "      --hover-fill-color: #174EA6;\n",
              "      --disabled-fill-color: #AAA;\n",
              "      --disabled-bg-color: #DDD;\n",
              "  }\n",
              "\n",
              "  [theme=dark] .colab-df-quickchart {\n",
              "      --bg-color: #3B4455;\n",
              "      --fill-color: #D2E3FC;\n",
              "      --hover-bg-color: #434B5C;\n",
              "      --hover-fill-color: #FFFFFF;\n",
              "      --disabled-bg-color: #3B4455;\n",
              "      --disabled-fill-color: #666;\n",
              "  }\n",
              "\n",
              "  .colab-df-quickchart {\n",
              "    background-color: var(--bg-color);\n",
              "    border: none;\n",
              "    border-radius: 50%;\n",
              "    cursor: pointer;\n",
              "    display: none;\n",
              "    fill: var(--fill-color);\n",
              "    height: 32px;\n",
              "    padding: 0;\n",
              "    width: 32px;\n",
              "  }\n",
              "\n",
              "  .colab-df-quickchart:hover {\n",
              "    background-color: var(--hover-bg-color);\n",
              "    box-shadow: 0 1px 2px rgba(60, 64, 67, 0.3), 0 1px 3px 1px rgba(60, 64, 67, 0.15);\n",
              "    fill: var(--button-hover-fill-color);\n",
              "  }\n",
              "\n",
              "  .colab-df-quickchart-complete:disabled,\n",
              "  .colab-df-quickchart-complete:disabled:hover {\n",
              "    background-color: var(--disabled-bg-color);\n",
              "    fill: var(--disabled-fill-color);\n",
              "    box-shadow: none;\n",
              "  }\n",
              "\n",
              "  .colab-df-spinner {\n",
              "    border: 2px solid var(--fill-color);\n",
              "    border-color: transparent;\n",
              "    border-bottom-color: var(--fill-color);\n",
              "    animation:\n",
              "      spin 1s steps(1) infinite;\n",
              "  }\n",
              "\n",
              "  @keyframes spin {\n",
              "    0% {\n",
              "      border-color: transparent;\n",
              "      border-bottom-color: var(--fill-color);\n",
              "      border-left-color: var(--fill-color);\n",
              "    }\n",
              "    20% {\n",
              "      border-color: transparent;\n",
              "      border-left-color: var(--fill-color);\n",
              "      border-top-color: var(--fill-color);\n",
              "    }\n",
              "    30% {\n",
              "      border-color: transparent;\n",
              "      border-left-color: var(--fill-color);\n",
              "      border-top-color: var(--fill-color);\n",
              "      border-right-color: var(--fill-color);\n",
              "    }\n",
              "    40% {\n",
              "      border-color: transparent;\n",
              "      border-right-color: var(--fill-color);\n",
              "      border-top-color: var(--fill-color);\n",
              "    }\n",
              "    60% {\n",
              "      border-color: transparent;\n",
              "      border-right-color: var(--fill-color);\n",
              "    }\n",
              "    80% {\n",
              "      border-color: transparent;\n",
              "      border-right-color: var(--fill-color);\n",
              "      border-bottom-color: var(--fill-color);\n",
              "    }\n",
              "    90% {\n",
              "      border-color: transparent;\n",
              "      border-bottom-color: var(--fill-color);\n",
              "    }\n",
              "  }\n",
              "</style>\n",
              "\n",
              "  <script>\n",
              "    async function quickchart(key) {\n",
              "      const quickchartButtonEl =\n",
              "        document.querySelector('#' + key + ' button');\n",
              "      quickchartButtonEl.disabled = true;  // To prevent multiple clicks.\n",
              "      quickchartButtonEl.classList.add('colab-df-spinner');\n",
              "      try {\n",
              "        const charts = await google.colab.kernel.invokeFunction(\n",
              "            'suggestCharts', [key], {});\n",
              "      } catch (error) {\n",
              "        console.error('Error during call to suggestCharts:', error);\n",
              "      }\n",
              "      quickchartButtonEl.classList.remove('colab-df-spinner');\n",
              "      quickchartButtonEl.classList.add('colab-df-quickchart-complete');\n",
              "    }\n",
              "    (() => {\n",
              "      let quickchartButtonEl =\n",
              "        document.querySelector('#df-66297f0b-ef17-4846-a6c0-17c329d2fea2 button');\n",
              "      quickchartButtonEl.style.display =\n",
              "        google.colab.kernel.accessAllowed ? 'block' : 'none';\n",
              "    })();\n",
              "  </script>\n",
              "</div>\n",
              "\n",
              "    </div>\n",
              "  </div>\n"
            ],
            "application/vnd.google.colaboratory.intrinsic+json": {
              "type": "dataframe",
              "repr_error": "0"
            }
          },
          "metadata": {},
          "execution_count": 5
        }
      ],
      "source": [
        "df.tail()"
      ]
    },
    {
      "cell_type": "markdown",
      "metadata": {
        "id": "R5bvAba0JHZ0"
      },
      "source": [
        "De primera mano, podemos ver que cada entrada corresponde a un día, razón por la que se puede quitar la fecha e instant dado que no son variables predictoras sino identificadoras."
      ]
    },
    {
      "cell_type": "markdown",
      "metadata": {
        "id": "JW8WrHAd6F4k"
      },
      "source": [
        "Utilizamos ```info()``` para ver de forma general los datos e identificar en qué aspectos requiere preprocesamiento."
      ]
    },
    {
      "cell_type": "code",
      "execution_count": null,
      "metadata": {
        "id": "bQb_lYbq0xjF"
      },
      "outputs": [],
      "source": [
        "df = df.drop(columns = ['dteday','instant'])"
      ]
    },
    {
      "cell_type": "code",
      "execution_count": null,
      "metadata": {
        "colab": {
          "base_uri": "https://localhost:8080/"
        },
        "id": "-Dol6ysL6d3m",
        "outputId": "d9873c48-b647-4753-81c5-bf8988f8e438"
      },
      "outputs": [
        {
          "output_type": "stream",
          "name": "stdout",
          "text": [
            "<class 'pandas.core.frame.DataFrame'>\n",
            "RangeIndex: 731 entries, 0 to 730\n",
            "Data columns (total 14 columns):\n",
            " #   Column      Non-Null Count  Dtype  \n",
            "---  ------      --------------  -----  \n",
            " 0   season      731 non-null    int64  \n",
            " 1   yr          731 non-null    int64  \n",
            " 2   mnth        731 non-null    int64  \n",
            " 3   holiday     731 non-null    int64  \n",
            " 4   weekday     731 non-null    int64  \n",
            " 5   workingday  731 non-null    int64  \n",
            " 6   weathersit  731 non-null    int64  \n",
            " 7   temp        731 non-null    float64\n",
            " 8   atemp       731 non-null    float64\n",
            " 9   hum         731 non-null    float64\n",
            " 10  windspeed   731 non-null    float64\n",
            " 11  casual      731 non-null    int64  \n",
            " 12  registered  731 non-null    int64  \n",
            " 13  cnt         731 non-null    int64  \n",
            "dtypes: float64(4), int64(10)\n",
            "memory usage: 80.1 KB\n"
          ]
        }
      ],
      "source": [
        "df.info()"
      ]
    },
    {
      "cell_type": "markdown",
      "metadata": {
        "id": "0xiTO-pE6n8L"
      },
      "source": [
        "Identificamos que no hay valores nulos y por tanto no es necesario hacer interpolación o eliminar variables por falta de datos. Sin embargo, analizando la escencia de las variables, se identifica que hay variables almacenadas como enteros que verdaderamente son variables categóricas que ya han sido codificadas. Luego, variables como season, yr, mnth, holiday, weekday, workingday y weathersit van a ser procesadas como categóricas."
      ]
    },
    {
      "cell_type": "code",
      "execution_count": null,
      "metadata": {
        "id": "y9V7be5qzJ0c"
      },
      "outputs": [],
      "source": [
        "categorical_cols = ['season', 'yr', 'mnth', 'holiday', 'weekday', 'workingday', 'weathersit']\n",
        "\n",
        "for col in categorical_cols:\n",
        "    df[col] = df[col].astype('object')"
      ]
    },
    {
      "cell_type": "markdown",
      "metadata": {
        "id": "sVIQwFV_8oZS"
      },
      "source": [
        "## Exploración de datos"
      ]
    },
    {
      "cell_type": "markdown",
      "metadata": {
        "id": "n0e4-jE-8qUV"
      },
      "source": [
        "### Variables categóricas"
      ]
    },
    {
      "cell_type": "code",
      "execution_count": null,
      "metadata": {
        "colab": {
          "base_uri": "https://localhost:8080/",
          "height": 206
        },
        "id": "IRYKiq9bztTW",
        "outputId": "5cceba25-7422-44ce-c731-9d7b4b1d3462"
      },
      "outputs": [
        {
          "output_type": "execute_result",
          "data": {
            "text/plain": [
              "  season yr mnth holiday weekday workingday weathersit\n",
              "0      1  0    1       0       6          0          2\n",
              "1      1  0    1       0       0          0          2\n",
              "2      1  0    1       0       1          1          1\n",
              "3      1  0    1       0       2          1          1\n",
              "4      1  0    1       0       3          1          1"
            ],
            "text/html": [
              "\n",
              "  <div id=\"df-9eb7ac43-09e0-44f4-9be3-8586dd17c7ff\" class=\"colab-df-container\">\n",
              "    <div>\n",
              "<style scoped>\n",
              "    .dataframe tbody tr th:only-of-type {\n",
              "        vertical-align: middle;\n",
              "    }\n",
              "\n",
              "    .dataframe tbody tr th {\n",
              "        vertical-align: top;\n",
              "    }\n",
              "\n",
              "    .dataframe thead th {\n",
              "        text-align: right;\n",
              "    }\n",
              "</style>\n",
              "<table border=\"1\" class=\"dataframe\">\n",
              "  <thead>\n",
              "    <tr style=\"text-align: right;\">\n",
              "      <th></th>\n",
              "      <th>season</th>\n",
              "      <th>yr</th>\n",
              "      <th>mnth</th>\n",
              "      <th>holiday</th>\n",
              "      <th>weekday</th>\n",
              "      <th>workingday</th>\n",
              "      <th>weathersit</th>\n",
              "    </tr>\n",
              "  </thead>\n",
              "  <tbody>\n",
              "    <tr>\n",
              "      <th>0</th>\n",
              "      <td>1</td>\n",
              "      <td>0</td>\n",
              "      <td>1</td>\n",
              "      <td>0</td>\n",
              "      <td>6</td>\n",
              "      <td>0</td>\n",
              "      <td>2</td>\n",
              "    </tr>\n",
              "    <tr>\n",
              "      <th>1</th>\n",
              "      <td>1</td>\n",
              "      <td>0</td>\n",
              "      <td>1</td>\n",
              "      <td>0</td>\n",
              "      <td>0</td>\n",
              "      <td>0</td>\n",
              "      <td>2</td>\n",
              "    </tr>\n",
              "    <tr>\n",
              "      <th>2</th>\n",
              "      <td>1</td>\n",
              "      <td>0</td>\n",
              "      <td>1</td>\n",
              "      <td>0</td>\n",
              "      <td>1</td>\n",
              "      <td>1</td>\n",
              "      <td>1</td>\n",
              "    </tr>\n",
              "    <tr>\n",
              "      <th>3</th>\n",
              "      <td>1</td>\n",
              "      <td>0</td>\n",
              "      <td>1</td>\n",
              "      <td>0</td>\n",
              "      <td>2</td>\n",
              "      <td>1</td>\n",
              "      <td>1</td>\n",
              "    </tr>\n",
              "    <tr>\n",
              "      <th>4</th>\n",
              "      <td>1</td>\n",
              "      <td>0</td>\n",
              "      <td>1</td>\n",
              "      <td>0</td>\n",
              "      <td>3</td>\n",
              "      <td>1</td>\n",
              "      <td>1</td>\n",
              "    </tr>\n",
              "  </tbody>\n",
              "</table>\n",
              "</div>\n",
              "    <div class=\"colab-df-buttons\">\n",
              "\n",
              "  <div class=\"colab-df-container\">\n",
              "    <button class=\"colab-df-convert\" onclick=\"convertToInteractive('df-9eb7ac43-09e0-44f4-9be3-8586dd17c7ff')\"\n",
              "            title=\"Convert this dataframe to an interactive table.\"\n",
              "            style=\"display:none;\">\n",
              "\n",
              "  <svg xmlns=\"http://www.w3.org/2000/svg\" height=\"24px\" viewBox=\"0 -960 960 960\">\n",
              "    <path d=\"M120-120v-720h720v720H120Zm60-500h600v-160H180v160Zm220 220h160v-160H400v160Zm0 220h160v-160H400v160ZM180-400h160v-160H180v160Zm440 0h160v-160H620v160ZM180-180h160v-160H180v160Zm440 0h160v-160H620v160Z\"/>\n",
              "  </svg>\n",
              "    </button>\n",
              "\n",
              "  <style>\n",
              "    .colab-df-container {\n",
              "      display:flex;\n",
              "      gap: 12px;\n",
              "    }\n",
              "\n",
              "    .colab-df-convert {\n",
              "      background-color: #E8F0FE;\n",
              "      border: none;\n",
              "      border-radius: 50%;\n",
              "      cursor: pointer;\n",
              "      display: none;\n",
              "      fill: #1967D2;\n",
              "      height: 32px;\n",
              "      padding: 0 0 0 0;\n",
              "      width: 32px;\n",
              "    }\n",
              "\n",
              "    .colab-df-convert:hover {\n",
              "      background-color: #E2EBFA;\n",
              "      box-shadow: 0px 1px 2px rgba(60, 64, 67, 0.3), 0px 1px 3px 1px rgba(60, 64, 67, 0.15);\n",
              "      fill: #174EA6;\n",
              "    }\n",
              "\n",
              "    .colab-df-buttons div {\n",
              "      margin-bottom: 4px;\n",
              "    }\n",
              "\n",
              "    [theme=dark] .colab-df-convert {\n",
              "      background-color: #3B4455;\n",
              "      fill: #D2E3FC;\n",
              "    }\n",
              "\n",
              "    [theme=dark] .colab-df-convert:hover {\n",
              "      background-color: #434B5C;\n",
              "      box-shadow: 0px 1px 3px 1px rgba(0, 0, 0, 0.15);\n",
              "      filter: drop-shadow(0px 1px 2px rgba(0, 0, 0, 0.3));\n",
              "      fill: #FFFFFF;\n",
              "    }\n",
              "  </style>\n",
              "\n",
              "    <script>\n",
              "      const buttonEl =\n",
              "        document.querySelector('#df-9eb7ac43-09e0-44f4-9be3-8586dd17c7ff button.colab-df-convert');\n",
              "      buttonEl.style.display =\n",
              "        google.colab.kernel.accessAllowed ? 'block' : 'none';\n",
              "\n",
              "      async function convertToInteractive(key) {\n",
              "        const element = document.querySelector('#df-9eb7ac43-09e0-44f4-9be3-8586dd17c7ff');\n",
              "        const dataTable =\n",
              "          await google.colab.kernel.invokeFunction('convertToInteractive',\n",
              "                                                    [key], {});\n",
              "        if (!dataTable) return;\n",
              "\n",
              "        const docLinkHtml = 'Like what you see? Visit the ' +\n",
              "          '<a target=\"_blank\" href=https://colab.research.google.com/notebooks/data_table.ipynb>data table notebook</a>'\n",
              "          + ' to learn more about interactive tables.';\n",
              "        element.innerHTML = '';\n",
              "        dataTable['output_type'] = 'display_data';\n",
              "        await google.colab.output.renderOutput(dataTable, element);\n",
              "        const docLink = document.createElement('div');\n",
              "        docLink.innerHTML = docLinkHtml;\n",
              "        element.appendChild(docLink);\n",
              "      }\n",
              "    </script>\n",
              "  </div>\n",
              "\n",
              "\n",
              "<div id=\"df-2c1cf97a-9e63-482d-8943-11022a1ec27f\">\n",
              "  <button class=\"colab-df-quickchart\" onclick=\"quickchart('df-2c1cf97a-9e63-482d-8943-11022a1ec27f')\"\n",
              "            title=\"Suggest charts\"\n",
              "            style=\"display:none;\">\n",
              "\n",
              "<svg xmlns=\"http://www.w3.org/2000/svg\" height=\"24px\"viewBox=\"0 0 24 24\"\n",
              "     width=\"24px\">\n",
              "    <g>\n",
              "        <path d=\"M19 3H5c-1.1 0-2 .9-2 2v14c0 1.1.9 2 2 2h14c1.1 0 2-.9 2-2V5c0-1.1-.9-2-2-2zM9 17H7v-7h2v7zm4 0h-2V7h2v10zm4 0h-2v-4h2v4z\"/>\n",
              "    </g>\n",
              "</svg>\n",
              "  </button>\n",
              "\n",
              "<style>\n",
              "  .colab-df-quickchart {\n",
              "      --bg-color: #E8F0FE;\n",
              "      --fill-color: #1967D2;\n",
              "      --hover-bg-color: #E2EBFA;\n",
              "      --hover-fill-color: #174EA6;\n",
              "      --disabled-fill-color: #AAA;\n",
              "      --disabled-bg-color: #DDD;\n",
              "  }\n",
              "\n",
              "  [theme=dark] .colab-df-quickchart {\n",
              "      --bg-color: #3B4455;\n",
              "      --fill-color: #D2E3FC;\n",
              "      --hover-bg-color: #434B5C;\n",
              "      --hover-fill-color: #FFFFFF;\n",
              "      --disabled-bg-color: #3B4455;\n",
              "      --disabled-fill-color: #666;\n",
              "  }\n",
              "\n",
              "  .colab-df-quickchart {\n",
              "    background-color: var(--bg-color);\n",
              "    border: none;\n",
              "    border-radius: 50%;\n",
              "    cursor: pointer;\n",
              "    display: none;\n",
              "    fill: var(--fill-color);\n",
              "    height: 32px;\n",
              "    padding: 0;\n",
              "    width: 32px;\n",
              "  }\n",
              "\n",
              "  .colab-df-quickchart:hover {\n",
              "    background-color: var(--hover-bg-color);\n",
              "    box-shadow: 0 1px 2px rgba(60, 64, 67, 0.3), 0 1px 3px 1px rgba(60, 64, 67, 0.15);\n",
              "    fill: var(--button-hover-fill-color);\n",
              "  }\n",
              "\n",
              "  .colab-df-quickchart-complete:disabled,\n",
              "  .colab-df-quickchart-complete:disabled:hover {\n",
              "    background-color: var(--disabled-bg-color);\n",
              "    fill: var(--disabled-fill-color);\n",
              "    box-shadow: none;\n",
              "  }\n",
              "\n",
              "  .colab-df-spinner {\n",
              "    border: 2px solid var(--fill-color);\n",
              "    border-color: transparent;\n",
              "    border-bottom-color: var(--fill-color);\n",
              "    animation:\n",
              "      spin 1s steps(1) infinite;\n",
              "  }\n",
              "\n",
              "  @keyframes spin {\n",
              "    0% {\n",
              "      border-color: transparent;\n",
              "      border-bottom-color: var(--fill-color);\n",
              "      border-left-color: var(--fill-color);\n",
              "    }\n",
              "    20% {\n",
              "      border-color: transparent;\n",
              "      border-left-color: var(--fill-color);\n",
              "      border-top-color: var(--fill-color);\n",
              "    }\n",
              "    30% {\n",
              "      border-color: transparent;\n",
              "      border-left-color: var(--fill-color);\n",
              "      border-top-color: var(--fill-color);\n",
              "      border-right-color: var(--fill-color);\n",
              "    }\n",
              "    40% {\n",
              "      border-color: transparent;\n",
              "      border-right-color: var(--fill-color);\n",
              "      border-top-color: var(--fill-color);\n",
              "    }\n",
              "    60% {\n",
              "      border-color: transparent;\n",
              "      border-right-color: var(--fill-color);\n",
              "    }\n",
              "    80% {\n",
              "      border-color: transparent;\n",
              "      border-right-color: var(--fill-color);\n",
              "      border-bottom-color: var(--fill-color);\n",
              "    }\n",
              "    90% {\n",
              "      border-color: transparent;\n",
              "      border-bottom-color: var(--fill-color);\n",
              "    }\n",
              "  }\n",
              "</style>\n",
              "\n",
              "  <script>\n",
              "    async function quickchart(key) {\n",
              "      const quickchartButtonEl =\n",
              "        document.querySelector('#' + key + ' button');\n",
              "      quickchartButtonEl.disabled = true;  // To prevent multiple clicks.\n",
              "      quickchartButtonEl.classList.add('colab-df-spinner');\n",
              "      try {\n",
              "        const charts = await google.colab.kernel.invokeFunction(\n",
              "            'suggestCharts', [key], {});\n",
              "      } catch (error) {\n",
              "        console.error('Error during call to suggestCharts:', error);\n",
              "      }\n",
              "      quickchartButtonEl.classList.remove('colab-df-spinner');\n",
              "      quickchartButtonEl.classList.add('colab-df-quickchart-complete');\n",
              "    }\n",
              "    (() => {\n",
              "      let quickchartButtonEl =\n",
              "        document.querySelector('#df-2c1cf97a-9e63-482d-8943-11022a1ec27f button');\n",
              "      quickchartButtonEl.style.display =\n",
              "        google.colab.kernel.accessAllowed ? 'block' : 'none';\n",
              "    })();\n",
              "  </script>\n",
              "</div>\n",
              "\n",
              "    </div>\n",
              "  </div>\n"
            ],
            "application/vnd.google.colaboratory.intrinsic+json": {
              "type": "dataframe",
              "variable_name": "categorical_cols",
              "summary": "{\n  \"name\": \"categorical_cols\",\n  \"rows\": 731,\n  \"fields\": [\n    {\n      \"column\": \"season\",\n      \"properties\": {\n        \"dtype\": \"date\",\n        \"min\": 1,\n        \"max\": 4,\n        \"num_unique_values\": 4,\n        \"samples\": [\n          2,\n          4,\n          1\n        ],\n        \"semantic_type\": \"\",\n        \"description\": \"\"\n      }\n    },\n    {\n      \"column\": \"yr\",\n      \"properties\": {\n        \"dtype\": \"date\",\n        \"min\": 0,\n        \"max\": 1,\n        \"num_unique_values\": 2,\n        \"samples\": [\n          1,\n          0\n        ],\n        \"semantic_type\": \"\",\n        \"description\": \"\"\n      }\n    },\n    {\n      \"column\": \"mnth\",\n      \"properties\": {\n        \"dtype\": \"date\",\n        \"min\": 1,\n        \"max\": 12,\n        \"num_unique_values\": 12,\n        \"samples\": [\n          11,\n          10\n        ],\n        \"semantic_type\": \"\",\n        \"description\": \"\"\n      }\n    },\n    {\n      \"column\": \"holiday\",\n      \"properties\": {\n        \"dtype\": \"date\",\n        \"min\": 0,\n        \"max\": 1,\n        \"num_unique_values\": 2,\n        \"samples\": [\n          1,\n          0\n        ],\n        \"semantic_type\": \"\",\n        \"description\": \"\"\n      }\n    },\n    {\n      \"column\": \"weekday\",\n      \"properties\": {\n        \"dtype\": \"date\",\n        \"min\": 0,\n        \"max\": 6,\n        \"num_unique_values\": 7,\n        \"samples\": [\n          6,\n          0\n        ],\n        \"semantic_type\": \"\",\n        \"description\": \"\"\n      }\n    },\n    {\n      \"column\": \"workingday\",\n      \"properties\": {\n        \"dtype\": \"date\",\n        \"min\": 0,\n        \"max\": 1,\n        \"num_unique_values\": 2,\n        \"samples\": [\n          1,\n          0\n        ],\n        \"semantic_type\": \"\",\n        \"description\": \"\"\n      }\n    },\n    {\n      \"column\": \"weathersit\",\n      \"properties\": {\n        \"dtype\": \"date\",\n        \"min\": 1,\n        \"max\": 3,\n        \"num_unique_values\": 3,\n        \"samples\": [\n          2,\n          1\n        ],\n        \"semantic_type\": \"\",\n        \"description\": \"\"\n      }\n    }\n  ]\n}"
            }
          },
          "metadata": {},
          "execution_count": 9
        }
      ],
      "source": [
        "categorical_cols = df.select_dtypes(include=['object'])\n",
        "categorical_cols.head()"
      ]
    },
    {
      "cell_type": "markdown",
      "metadata": {
        "id": "cro8e46o5jA5"
      },
      "source": [
        "**Diagrama de barras**"
      ]
    },
    {
      "cell_type": "markdown",
      "metadata": {
        "id": "u8n2KV2e8y-i"
      },
      "source": [
        "Dada la naturaleza de las variables, procedemos a hacer diagrama de barras."
      ]
    },
    {
      "cell_type": "code",
      "execution_count": null,
      "metadata": {
        "colab": {
          "base_uri": "https://localhost:8080/",
          "height": 932
        },
        "id": "uMAM9P8r0j--",
        "outputId": "d5f92c9b-4dc5-48f2-e3a4-7d7a51cd6231"
      },
      "outputs": [
        {
          "output_type": "display_data",
          "data": {
            "text/plain": [
              "<Figure size 1600x1200 with 7 Axes>"
            ],
            "image/png": "[encoded data removed]"
          },
          "metadata": {}
        }
      ],
      "source": [
        "warnings.filterwarnings(action='ignore', category=FutureWarning)\n",
        "\n",
        "plt.figure(figsize=(16, 12))\n",
        "for i, col in enumerate(categorical_cols, 1):\n",
        "    plt.subplot(3, 3, i)\n",
        "    sns.countplot(x=col, data=df, palette='pastel')\n",
        "    plt.title(f'Conteo de valores para {col}')\n",
        "    plt.xlabel(col)\n",
        "    plt.ylabel('Conteo')\n",
        "plt.tight_layout()\n",
        "plt.show()"
      ]
    },
    {
      "cell_type": "markdown",
      "metadata": {
        "id": "F5ELSxOSJo9-"
      },
      "source": [
        "Del diagrama de barras, podemos evidenciar que la mayoría de de datos en las variables están distribuidos homogeneamente entre sus categorías. Sin embargo, en la variable holiday casi todos están en la categoría codificada como 0."
      ]
    },
    {
      "cell_type": "markdown",
      "metadata": {
        "id": "tJFlJWYp5lsF"
      },
      "source": [
        "**Boxplot**"
      ]
    },
    {
      "cell_type": "code",
      "execution_count": null,
      "metadata": {
        "colab": {
          "base_uri": "https://localhost:8080/",
          "height": 932
        },
        "id": "2rjjfmvP1GZH",
        "outputId": "ceeb4bdb-0ad3-4fb6-e4fe-298dcd31a2c6"
      },
      "outputs": [
        {
          "output_type": "display_data",
          "data": {
            "text/plain": [
              "<Figure size 1600x1200 with 7 Axes>"
            ],
            "image/png": "[encoded data removed]"
          },
          "metadata": {}
        }
      ],
      "source": [
        "warnings.filterwarnings(action='ignore', category=FutureWarning)\n",
        "\n",
        "plt.figure(figsize=(16, 12))\n",
        "for i, col in enumerate(categorical_cols, 1):\n",
        "    plt.subplot(3, 3, i)\n",
        "    sns.boxplot(x=col, y='cnt', data=df, palette='pastel')\n",
        "    plt.title(f'Diagrama de caja para {col}')\n",
        "    plt.xlabel(col)\n",
        "    plt.ylabel('cnt')\n",
        "plt.tight_layout()\n",
        "plt.show()"
      ]
    },
    {
      "cell_type": "markdown",
      "metadata": {
        "id": "cEWX2cWgKL_m"
      },
      "source": [
        "En lo que respecta a los diagramas de caja, se evidencia que en algunas variables como weekday y workingday las medias están casi que en el mismo nivel todos los días y los cuartiles tampoco distan por mucho. Por tanto, se podría decir que en estos casos los días de la semana no influirían tan considerablemente en el cnt. Al mismo tiempo, hay varibales como season y month donde a partir de las medias se puede ver superificialmente un tipo de comportamiento casi que normal, llevando a pensar que la relación puede tener una distribución de este tipo. Por otro lado, hay boxplots donde las medias y las amplitudes de los cuartiles distan en una misma variable, como es el caso de weathershit y yr."
      ]
    },
    {
      "cell_type": "markdown",
      "metadata": {
        "id": "v2jvgLoO3j_5"
      },
      "source": [
        "**Anova**\n"
      ]
    },
    {
      "cell_type": "code",
      "execution_count": null,
      "metadata": {
        "colab": {
          "base_uri": "https://localhost:8080/"
        },
        "id": "iKWAqtv73pB_",
        "outputId": "acb59d23-fe6e-4b1f-e581-67acb670287c"
      },
      "outputs": [
        {
          "output_type": "stream",
          "name": "stdout",
          "text": [
            "      Columna       P_Value\n",
            "0      season  6.720391e-67\n",
            "1          yr  2.483540e-63\n",
            "2        mnth  4.251077e-70\n",
            "3     holiday  6.475936e-02\n",
            "4     weekday  5.834941e-01\n",
            "5  workingday  9.849496e-02\n",
            "6  weathersit  3.106317e-17\n"
          ]
        }
      ],
      "source": [
        "results = []\n",
        "for col in categorical_cols.columns:\n",
        "    modelo = ols('cnt ~ C('+col+')', data=df).fit()\n",
        "    resultados_anova = sm.stats.anova_lm(modelo, typ=2)\n",
        "    p_valor = resultados_anova.loc['C('+col+')', 'PR(>F)']\n",
        "    results.append({'Columna': col, 'P_Value': p_valor})\n",
        "\n",
        "df_anova = pd.DataFrame(results)\n",
        "print(df_anova)\n"
      ]
    },
    {
      "cell_type": "markdown",
      "metadata": {
        "id": "zVt4caYNGHXu"
      },
      "source": [
        "Para nuestras variables categoricas podemos decir que con respecto al ánalisis de varianza ANOVA realizado con respecto el número total de bicicletas alquiladas en un día, las variables season, yr, mnth y weathersit tienen un impacto significativo con nuestra variable. Por otro lado, las variables holiday y workingday afectan cnt pero no muestran ser tan significativas. Finalmente, weekday no pasa la prueba y por tanto no tiene una influencia significativa, lo cual corrobora el análisis gráfico realizado sobre el diagrama de barras y el boxplot. Estos hallazgos resaltan la importancia de considerar ciertas variables al predecir el número total de bicicletas alquiladas, mientras que otras pueden no ser relevantes para este propósito. Por consiguiente, eliminamos weekday."
      ]
    },
    {
      "cell_type": "code",
      "execution_count": null,
      "metadata": {
        "id": "afHuq_E1Lhve"
      },
      "outputs": [],
      "source": [
        "categorical_cols = categorical_cols.drop(columns=['weekday'])"
      ]
    },
    {
      "cell_type": "markdown",
      "metadata": {
        "id": "fZWqdaYl0gFO"
      },
      "source": [
        "### Variables númericas"
      ]
    },
    {
      "cell_type": "code",
      "execution_count": null,
      "metadata": {
        "colab": {
          "base_uri": "https://localhost:8080/",
          "height": 206
        },
        "id": "fKT-cxNRz0g4",
        "outputId": "a995378d-5bd9-455e-ac32-fc667797ffd3"
      },
      "outputs": [
        {
          "output_type": "execute_result",
          "data": {
            "text/plain": [
              "       temp     atemp       hum  windspeed  casual  registered   cnt\n",
              "0  0.344167  0.363625  0.805833   0.160446     331         654   985\n",
              "1  0.363478  0.353739  0.696087   0.248539     131         670   801\n",
              "2  0.196364  0.189405  0.437273   0.248309     120        1229  1349\n",
              "3  0.200000  0.212122  0.590435   0.160296     108        1454  1562\n",
              "4  0.226957  0.229270  0.436957   0.186900      82        1518  1600"
            ],
            "text/html": [
              "\n",
              "  <div id=\"df-c8572fd4-5e21-49f9-8ab1-e2bb33acc381\" class=\"colab-df-container\">\n",
              "    <div>\n",
              "<style scoped>\n",
              "    .dataframe tbody tr th:only-of-type {\n",
              "        vertical-align: middle;\n",
              "    }\n",
              "\n",
              "    .dataframe tbody tr th {\n",
              "        vertical-align: top;\n",
              "    }\n",
              "\n",
              "    .dataframe thead th {\n",
              "        text-align: right;\n",
              "    }\n",
              "</style>\n",
              "<table border=\"1\" class=\"dataframe\">\n",
              "  <thead>\n",
              "    <tr style=\"text-align: right;\">\n",
              "      <th></th>\n",
              "      <th>temp</th>\n",
              "      <th>atemp</th>\n",
              "      <th>hum</th>\n",
              "      <th>windspeed</th>\n",
              "      <th>casual</th>\n",
              "      <th>registered</th>\n",
              "      <th>cnt</th>\n",
              "    </tr>\n",
              "  </thead>\n",
              "  <tbody>\n",
              "    <tr>\n",
              "      <th>0</th>\n",
              "      <td>0.344167</td>\n",
              "      <td>0.363625</td>\n",
              "      <td>0.805833</td>\n",
              "      <td>0.160446</td>\n",
              "      <td>331</td>\n",
              "      <td>654</td>\n",
              "      <td>985</td>\n",
              "    </tr>\n",
              "    <tr>\n",
              "      <th>1</th>\n",
              "      <td>0.363478</td>\n",
              "      <td>0.353739</td>\n",
              "      <td>0.696087</td>\n",
              "      <td>0.248539</td>\n",
              "      <td>131</td>\n",
              "      <td>670</td>\n",
              "      <td>801</td>\n",
              "    </tr>\n",
              "    <tr>\n",
              "      <th>2</th>\n",
              "      <td>0.196364</td>\n",
              "      <td>0.189405</td>\n",
              "      <td>0.437273</td>\n",
              "      <td>0.248309</td>\n",
              "      <td>120</td>\n",
              "      <td>1229</td>\n",
              "      <td>1349</td>\n",
              "    </tr>\n",
              "    <tr>\n",
              "      <th>3</th>\n",
              "      <td>0.200000</td>\n",
              "      <td>0.212122</td>\n",
              "      <td>0.590435</td>\n",
              "      <td>0.160296</td>\n",
              "      <td>108</td>\n",
              "      <td>1454</td>\n",
              "      <td>1562</td>\n",
              "    </tr>\n",
              "    <tr>\n",
              "      <th>4</th>\n",
              "      <td>0.226957</td>\n",
              "      <td>0.229270</td>\n",
              "      <td>0.436957</td>\n",
              "      <td>0.186900</td>\n",
              "      <td>82</td>\n",
              "      <td>1518</td>\n",
              "      <td>1600</td>\n",
              "    </tr>\n",
              "  </tbody>\n",
              "</table>\n",
              "</div>\n",
              "    <div class=\"colab-df-buttons\">\n",
              "\n",
              "  <div class=\"colab-df-container\">\n",
              "    <button class=\"colab-df-convert\" onclick=\"convertToInteractive('df-c8572fd4-5e21-49f9-8ab1-e2bb33acc381')\"\n",
              "            title=\"Convert this dataframe to an interactive table.\"\n",
              "            style=\"display:none;\">\n",
              "\n",
              "  <svg xmlns=\"http://www.w3.org/2000/svg\" height=\"24px\" viewBox=\"0 -960 960 960\">\n",
              "    <path d=\"M120-120v-720h720v720H120Zm60-500h600v-160H180v160Zm220 220h160v-160H400v160Zm0 220h160v-160H400v160ZM180-400h160v-160H180v160Zm440 0h160v-160H620v160ZM180-180h160v-160H180v160Zm440 0h160v-160H620v160Z\"/>\n",
              "  </svg>\n",
              "    </button>\n",
              "\n",
              "  <style>\n",
              "    .colab-df-container {\n",
              "      display:flex;\n",
              "      gap: 12px;\n",
              "    }\n",
              "\n",
              "    .colab-df-convert {\n",
              "      background-color: #E8F0FE;\n",
              "      border: none;\n",
              "      border-radius: 50%;\n",
              "      cursor: pointer;\n",
              "      display: none;\n",
              "      fill: #1967D2;\n",
              "      height: 32px;\n",
              "      padding: 0 0 0 0;\n",
              "      width: 32px;\n",
              "    }\n",
              "\n",
              "    .colab-df-convert:hover {\n",
              "      background-color: #E2EBFA;\n",
              "      box-shadow: 0px 1px 2px rgba(60, 64, 67, 0.3), 0px 1px 3px 1px rgba(60, 64, 67, 0.15);\n",
              "      fill: #174EA6;\n",
              "    }\n",
              "\n",
              "    .colab-df-buttons div {\n",
              "      margin-bottom: 4px;\n",
              "    }\n",
              "\n",
              "    [theme=dark] .colab-df-convert {\n",
              "      background-color: #3B4455;\n",
              "      fill: #D2E3FC;\n",
              "    }\n",
              "\n",
              "    [theme=dark] .colab-df-convert:hover {\n",
              "      background-color: #434B5C;\n",
              "      box-shadow: 0px 1px 3px 1px rgba(0, 0, 0, 0.15);\n",
              "      filter: drop-shadow(0px 1px 2px rgba(0, 0, 0, 0.3));\n",
              "      fill: #FFFFFF;\n",
              "    }\n",
              "  </style>\n",
              "\n",
              "    <script>\n",
              "      const buttonEl =\n",
              "        document.querySelector('#df-c8572fd4-5e21-49f9-8ab1-e2bb33acc381 button.colab-df-convert');\n",
              "      buttonEl.style.display =\n",
              "        google.colab.kernel.accessAllowed ? 'block' : 'none';\n",
              "\n",
              "      async function convertToInteractive(key) {\n",
              "        const element = document.querySelector('#df-c8572fd4-5e21-49f9-8ab1-e2bb33acc381');\n",
              "        const dataTable =\n",
              "          await google.colab.kernel.invokeFunction('convertToInteractive',\n",
              "                                                    [key], {});\n",
              "        if (!dataTable) return;\n",
              "\n",
              "        const docLinkHtml = 'Like what you see? Visit the ' +\n",
              "          '<a target=\"_blank\" href=https://colab.research.google.com/notebooks/data_table.ipynb>data table notebook</a>'\n",
              "          + ' to learn more about interactive tables.';\n",
              "        element.innerHTML = '';\n",
              "        dataTable['output_type'] = 'display_data';\n",
              "        await google.colab.output.renderOutput(dataTable, element);\n",
              "        const docLink = document.createElement('div');\n",
              "        docLink.innerHTML = docLinkHtml;\n",
              "        element.appendChild(docLink);\n",
              "      }\n",
              "    </script>\n",
              "  </div>\n",
              "\n",
              "\n",
              "<div id=\"df-47fea509-8805-4ac0-a300-a7741526351d\">\n",
              "  <button class=\"colab-df-quickchart\" onclick=\"quickchart('df-47fea509-8805-4ac0-a300-a7741526351d')\"\n",
              "            title=\"Suggest charts\"\n",
              "            style=\"display:none;\">\n",
              "\n",
              "<svg xmlns=\"http://www.w3.org/2000/svg\" height=\"24px\"viewBox=\"0 0 24 24\"\n",
              "     width=\"24px\">\n",
              "    <g>\n",
              "        <path d=\"M19 3H5c-1.1 0-2 .9-2 2v14c0 1.1.9 2 2 2h14c1.1 0 2-.9 2-2V5c0-1.1-.9-2-2-2zM9 17H7v-7h2v7zm4 0h-2V7h2v10zm4 0h-2v-4h2v4z\"/>\n",
              "    </g>\n",
              "</svg>\n",
              "  </button>\n",
              "\n",
              "<style>\n",
              "  .colab-df-quickchart {\n",
              "      --bg-color: #E8F0FE;\n",
              "      --fill-color: #1967D2;\n",
              "      --hover-bg-color: #E2EBFA;\n",
              "      --hover-fill-color: #174EA6;\n",
              "      --disabled-fill-color: #AAA;\n",
              "      --disabled-bg-color: #DDD;\n",
              "  }\n",
              "\n",
              "  [theme=dark] .colab-df-quickchart {\n",
              "      --bg-color: #3B4455;\n",
              "      --fill-color: #D2E3FC;\n",
              "      --hover-bg-color: #434B5C;\n",
              "      --hover-fill-color: #FFFFFF;\n",
              "      --disabled-bg-color: #3B4455;\n",
              "      --disabled-fill-color: #666;\n",
              "  }\n",
              "\n",
              "  .colab-df-quickchart {\n",
              "    background-color: var(--bg-color);\n",
              "    border: none;\n",
              "    border-radius: 50%;\n",
              "    cursor: pointer;\n",
              "    display: none;\n",
              "    fill: var(--fill-color);\n",
              "    height: 32px;\n",
              "    padding: 0;\n",
              "    width: 32px;\n",
              "  }\n",
              "\n",
              "  .colab-df-quickchart:hover {\n",
              "    background-color: var(--hover-bg-color);\n",
              "    box-shadow: 0 1px 2px rgba(60, 64, 67, 0.3), 0 1px 3px 1px rgba(60, 64, 67, 0.15);\n",
              "    fill: var(--button-hover-fill-color);\n",
              "  }\n",
              "\n",
              "  .colab-df-quickchart-complete:disabled,\n",
              "  .colab-df-quickchart-complete:disabled:hover {\n",
              "    background-color: var(--disabled-bg-color);\n",
              "    fill: var(--disabled-fill-color);\n",
              "    box-shadow: none;\n",
              "  }\n",
              "\n",
              "  .colab-df-spinner {\n",
              "    border: 2px solid var(--fill-color);\n",
              "    border-color: transparent;\n",
              "    border-bottom-color: var(--fill-color);\n",
              "    animation:\n",
              "      spin 1s steps(1) infinite;\n",
              "  }\n",
              "\n",
              "  @keyframes spin {\n",
              "    0% {\n",
              "      border-color: transparent;\n",
              "      border-bottom-color: var(--fill-color);\n",
              "      border-left-color: var(--fill-color);\n",
              "    }\n",
              "    20% {\n",
              "      border-color: transparent;\n",
              "      border-left-color: var(--fill-color);\n",
              "      border-top-color: var(--fill-color);\n",
              "    }\n",
              "    30% {\n",
              "      border-color: transparent;\n",
              "      border-left-color: var(--fill-color);\n",
              "      border-top-color: var(--fill-color);\n",
              "      border-right-color: var(--fill-color);\n",
              "    }\n",
              "    40% {\n",
              "      border-color: transparent;\n",
              "      border-right-color: var(--fill-color);\n",
              "      border-top-color: var(--fill-color);\n",
              "    }\n",
              "    60% {\n",
              "      border-color: transparent;\n",
              "      border-right-color: var(--fill-color);\n",
              "    }\n",
              "    80% {\n",
              "      border-color: transparent;\n",
              "      border-right-color: var(--fill-color);\n",
              "      border-bottom-color: var(--fill-color);\n",
              "    }\n",
              "    90% {\n",
              "      border-color: transparent;\n",
              "      border-bottom-color: var(--fill-color);\n",
              "    }\n",
              "  }\n",
              "</style>\n",
              "\n",
              "  <script>\n",
              "    async function quickchart(key) {\n",
              "      const quickchartButtonEl =\n",
              "        document.querySelector('#' + key + ' button');\n",
              "      quickchartButtonEl.disabled = true;  // To prevent multiple clicks.\n",
              "      quickchartButtonEl.classList.add('colab-df-spinner');\n",
              "      try {\n",
              "        const charts = await google.colab.kernel.invokeFunction(\n",
              "            'suggestCharts', [key], {});\n",
              "      } catch (error) {\n",
              "        console.error('Error during call to suggestCharts:', error);\n",
              "      }\n",
              "      quickchartButtonEl.classList.remove('colab-df-spinner');\n",
              "      quickchartButtonEl.classList.add('colab-df-quickchart-complete');\n",
              "    }\n",
              "    (() => {\n",
              "      let quickchartButtonEl =\n",
              "        document.querySelector('#df-47fea509-8805-4ac0-a300-a7741526351d button');\n",
              "      quickchartButtonEl.style.display =\n",
              "        google.colab.kernel.accessAllowed ? 'block' : 'none';\n",
              "    })();\n",
              "  </script>\n",
              "</div>\n",
              "\n",
              "    </div>\n",
              "  </div>\n"
            ],
            "application/vnd.google.colaboratory.intrinsic+json": {
              "type": "dataframe",
              "variable_name": "numeric_cols",
              "summary": "{\n  \"name\": \"numeric_cols\",\n  \"rows\": 731,\n  \"fields\": [\n    {\n      \"column\": \"temp\",\n      \"properties\": {\n        \"dtype\": \"number\",\n        \"std\": 0.18305099611148878,\n        \"min\": 0.0591304,\n        \"max\": 0.861667,\n        \"num_unique_values\": 499,\n        \"samples\": [\n          0.544167,\n          0.430435,\n          0.494167\n        ],\n        \"semantic_type\": \"\",\n        \"description\": \"\"\n      }\n    },\n    {\n      \"column\": \"atemp\",\n      \"properties\": {\n        \"dtype\": \"number\",\n        \"std\": 0.1629611783863113,\n        \"min\": 0.0790696,\n        \"max\": 0.840896,\n        \"num_unique_values\": 690,\n        \"samples\": [\n          0.463375,\n          0.599754,\n          0.554963\n        ],\n        \"semantic_type\": \"\",\n        \"description\": \"\"\n      }\n    },\n    {\n      \"column\": \"hum\",\n      \"properties\": {\n        \"dtype\": \"number\",\n        \"std\": 0.14242909513835394,\n        \"min\": 0.0,\n        \"max\": 0.9725,\n        \"num_unique_values\": 595,\n        \"samples\": [\n          0.707083,\n          0.718333,\n          0.437083\n        ],\n        \"semantic_type\": \"\",\n        \"description\": \"\"\n      }\n    },\n    {\n      \"column\": \"windspeed\",\n      \"properties\": {\n        \"dtype\": \"number\",\n        \"std\": 0.07749787068166941,\n        \"min\": 0.0223917,\n        \"max\": 0.507463,\n        \"num_unique_values\": 650,\n        \"samples\": [\n          0.100742,\n          0.139308,\n          0.312139\n        ],\n        \"semantic_type\": \"\",\n        \"description\": \"\"\n      }\n    },\n    {\n      \"column\": \"casual\",\n      \"properties\": {\n        \"dtype\": \"number\",\n        \"std\": 686,\n        \"min\": 2,\n        \"max\": 3410,\n        \"num_unique_values\": 606,\n        \"samples\": [\n          709,\n          449,\n          317\n        ],\n        \"semantic_type\": \"\",\n        \"description\": \"\"\n      }\n    },\n    {\n      \"column\": \"registered\",\n      \"properties\": {\n        \"dtype\": \"number\",\n        \"std\": 1560,\n        \"min\": 20,\n        \"max\": 6946,\n        \"num_unique_values\": 679,\n        \"samples\": [\n          4531,\n          2553,\n          1628\n        ],\n        \"semantic_type\": \"\",\n        \"description\": \"\"\n      }\n    },\n    {\n      \"column\": \"cnt\",\n      \"properties\": {\n        \"dtype\": \"number\",\n        \"std\": 1937,\n        \"min\": 22,\n        \"max\": 8714,\n        \"num_unique_values\": 696,\n        \"samples\": [\n          5170,\n          1607,\n          7733\n        ],\n        \"semantic_type\": \"\",\n        \"description\": \"\"\n      }\n    }\n  ]\n}"
            }
          },
          "metadata": {},
          "execution_count": 14
        }
      ],
      "source": [
        "numeric_cols = df.select_dtypes(include=['int64', 'float64'])\n",
        "numeric_cols.head()"
      ]
    },
    {
      "cell_type": "markdown",
      "metadata": {
        "id": "2Yeu8AR25oDi"
      },
      "source": [
        "**Correlación de Pearson**"
      ]
    },
    {
      "cell_type": "code",
      "execution_count": null,
      "metadata": {
        "colab": {
          "base_uri": "https://localhost:8080/"
        },
        "id": "RD6ElWwM5HBt",
        "outputId": "5c600da0-c3aa-4835-86bb-150b642f6ecb"
      },
      "outputs": [
        {
          "output_type": "stream",
          "name": "stdout",
          "text": [
            "+----+------------+-----------+------------+------------+\n",
            "|    | Columna    |   Pearson |    Kendall |   Spearman |\n",
            "|----+------------+-----------+------------+------------|\n",
            "|  0 | temp       |  0.627494 |  0.432009  |  0.622034  |\n",
            "|  1 | atemp      |  0.631066 |  0.432185  |  0.622782  |\n",
            "|  2 | hum        | \u001b[1;31m-0.100659\u001b[0m | \u001b[1;31m-0.0692299\u001b[0m | \u001b[1;31m-0.0981258\u001b[0m |\n",
            "|  3 | windspeed  | -0.234545 | \u001b[1;31m-0.14711\u001b[0m   | -0.217197  |\n",
            "|  4 | casual     |  0.672804 |  0.560225  |  0.753501  |\n",
            "|  5 | registered |  0.945517 |  0.810807  |  0.940319  |\n",
            "|  6 | cnt        |  1        |  1         |  1         |\n",
            "+----+------------+-----------+------------+------------+\n"
          ]
        }
      ],
      "source": [
        "correlaciones_pearson = numeric_cols.corr(method='pearson')\n",
        "correlaciones_kendall = numeric_cols.corr(method='kendall')\n",
        "correlaciones_spearman = numeric_cols.corr(method='spearman')\n",
        "\n",
        "y = 'cnt'\n",
        "\n",
        "# Pearson\n",
        "df_correlacion_pearson = pd.DataFrame(correlaciones_pearson[y]).reset_index().rename(columns={'index':'Columna', y:'Pearson'})\n",
        "\n",
        "# Kendall\n",
        "df_correlacion_kendall = pd.DataFrame(correlaciones_kendall[y]).reset_index().rename(columns={'index':'Columna', y:'Kendall'})\n",
        "\n",
        "# Spearman\n",
        "df_correlacion_spearman = pd.DataFrame(correlaciones_spearman[y]).reset_index().rename(columns={'index':'Columna', y:'Spearman'})\n",
        "\n",
        "\n",
        "df_correlacion = df_correlacion_pearson.merge(df_correlacion_kendall, on='Columna').merge(df_correlacion_spearman, on='Columna')\n",
        "\n",
        "for columna in ['Pearson', 'Kendall', 'Spearman']:\n",
        "    df_correlacion[columna] = df_correlacion.apply(lambda x: '\\033[1;31m'+str(x[columna])+'\\033[0m' if abs(x[columna]) < 0.2 else x[columna], axis=1)\n",
        "print(tabulate(df_correlacion, headers='keys', tablefmt='psql'))"
      ]
    },
    {
      "cell_type": "markdown",
      "metadata": {
        "id": "erDNqCYqL6jB"
      },
      "source": [
        "Teniendo en cuenta las tres correlaciones empleadas, se pensaría que eliminar hum es una buena medida. Esto, dado que no está correlacionada significativamente. Por otro lado, se podría pensar en eliminar windspeed pero con los demás test se comprobará si efectivamente es necesario."
      ]
    },
    {
      "cell_type": "markdown",
      "metadata": {
        "id": "cgsv1FcC5tGJ"
      },
      "source": [
        "**QQ-plot**"
      ]
    },
    {
      "cell_type": "code",
      "execution_count": null,
      "metadata": {
        "colab": {
          "base_uri": "https://localhost:8080/",
          "height": 596,
          "referenced_widgets": [
            "230fa860d7fb40148632580e450d76f2",
            "b043fb2e8b6f422ba78c66911ed63d47",
            "3612b1a5e2b44e20a156595e03cf4566",
            "4cb5baea40da458698975e3e309bbfe6",
            "aae442e489a5437d8f39dc365a36d054",
            "8d71ed41e8784e5cbf6b7579229befea",
            "f662b76c6b5d4727a3b69c03aed78059"
          ]
        },
        "id": "y1KyQfJi5qyX",
        "outputId": "ab5b1a85-c770-4b86-cd42-5e5dbe05ab41"
      },
      "outputs": [
        {
          "output_type": "display_data",
          "data": {
            "text/plain": [
              "interactive(children=(Dropdown(description='Variable:', options=('temp', 'atemp', 'hum', 'windspeed', 'casual'…"
            ],
            "application/vnd.jupyter.widget-view+json": {
              "version_major": 2,
              "version_minor": 0,
              "model_id": "230fa860d7fb40148632580e450d76f2"
            }
          },
          "metadata": {}
        }
      ],
      "source": [
        "columnas_numericas = numeric_cols.drop(columns=['cnt']).columns\n",
        "\n",
        "def plot_qqplot(columna):\n",
        "    plt.figure(figsize=(10, 6))\n",
        "    stats.probplot(numeric_cols[columna], fit=True, plot=plt, rvalue=True)\n",
        "    plt.title(f'QQ-plot de {columna}')\n",
        "    plt.grid()\n",
        "    plt.show()\n",
        "\n",
        "columna_widget = widgets.Dropdown(options=columnas_numericas, description='Variable:')\n",
        "widgets.interactive(plot_qqplot, columna=columna_widget)"
      ]
    },
    {
      "cell_type": "markdown",
      "metadata": {
        "id": "YQxtdJOQMOZY"
      },
      "source": [
        "El qqplot muestra que en todas las variables los errores son bien comportados (normales) y por tanto una recta llevaría a un valor de r² satisfactorio. Por tanto, está prueba no es lo suficientemente concluyente."
      ]
    },
    {
      "cell_type": "markdown",
      "metadata": {
        "id": "83CsAPhZ6KCl"
      },
      "source": [
        "**Regresión Lineal**"
      ]
    },
    {
      "cell_type": "code",
      "execution_count": null,
      "metadata": {
        "colab": {
          "base_uri": "https://localhost:8080/",
          "height": 622,
          "referenced_widgets": [
            "094a1ebefdf84e5bb238940816e9eac3",
            "34713b3eea594eb3a5e0e180fc55de0f",
            "de30fc0807b54fbcb79b934a07c71158",
            "40d71d35f6a04a929772fff4cba8884a",
            "12e1680099604ea88f67a739799e2633",
            "dc1e0bab20b94a32a2f898d0501b2ae9",
            "4f5cba82991344e49c2e972d3797a7c0"
          ]
        },
        "id": "5UJ09mj46MUe",
        "outputId": "198d26ae-1867-4098-96fd-86b71ba616a1"
      },
      "outputs": [
        {
          "output_type": "display_data",
          "data": {
            "text/plain": [
              "interactive(children=(Dropdown(description='Columna:', options=('temp', 'atemp', 'hum', 'windspeed', 'casual',…"
            ],
            "application/vnd.jupyter.widget-view+json": {
              "version_major": 2,
              "version_minor": 0,
              "model_id": "094a1ebefdf84e5bb238940816e9eac3"
            }
          },
          "metadata": {}
        }
      ],
      "source": [
        "def plot_linear_regression(columna):\n",
        "    X = np.array(numeric_cols[columna]).reshape(-1, 1)\n",
        "    y = np.array(numeric_cols['cnt'])\n",
        "\n",
        "    modelo = LinearRegression()\n",
        "\n",
        "    modelo.fit(X, y)\n",
        "    predicciones = modelo.predict(X)\n",
        "\n",
        "    error_cuadratico_medio = mean_squared_error(y, predicciones)\n",
        "    coeficiente_determinacion = r2_score(y, predicciones)\n",
        "\n",
        "    plt.figure(figsize=(10, 6))\n",
        "    plt.scatter(X, y, color='blue', marker='x', label='Datos reales')\n",
        "    plt.plot(X, predicciones, color='red', label='Regresión lineal')\n",
        "    plt.title(f'Regresión lineal para {columna}\\n$R^2$={coeficiente_determinacion:.2f}, MSE={error_cuadratico_medio:.2f}')\n",
        "    plt.xlabel(columna)\n",
        "    plt.ylabel('SalePrice')\n",
        "    plt.legend()\n",
        "    plt.grid(True)\n",
        "    plt.show()\n",
        "\n",
        "columna_widget = widgets.Dropdown(options=numeric_cols.columns.drop('cnt'), description='Columna:')\n",
        "widgets.interactive(plot_linear_regression, columna=columna_widget)"
      ]
    },
    {
      "cell_type": "markdown",
      "metadata": {
        "id": "_Dl5CU12IH7V"
      },
      "source": [
        "Podemos concluir del analisis lineal:\n",
        "\n",
        "- De los resultados obtenidos podemos ver que en la correlación las variables temp, atemp, casual y registered tienen correlaciones positivas fuertes con el número total de bicicletas alquiladas, mientras que hum muestra una correlación negativa moderada. Esto sugiere que estas características podrían ser importantes predictores del número total de bicicletas alquiladas en un día.\n",
        "\n",
        "- Al ver los resultados de los qq-plots y el R2 asociado, podemos observar que las variables muestran una buena concordancia con la distribución normal esperada.\n",
        "\n",
        "- Por ultimo podemos observar que al hacer una regresión lineal la gran mayoria de las variables muestran un alto coeficiente de determinacion, lo que sugiere que estas caractristicas tienen una fuerte influencia en la prediccion del número total de bicicletas alquiladas por día sin embargo notamos que hum y windspeed no tanto, por lo tanto procedemos a quitarlas a partir de todo el analisis.\n"
      ]
    },
    {
      "cell_type": "markdown",
      "metadata": {
        "id": "LzLrFnIbJRcN"
      },
      "source": [
        "Eliminación final:"
      ]
    },
    {
      "cell_type": "code",
      "execution_count": null,
      "metadata": {
        "id": "5Jv_PRt9NUHs"
      },
      "outputs": [],
      "source": [
        "numeric_cols = numeric_cols.drop(columns = ['hum', 'windspeed'])"
      ]
    },
    {
      "cell_type": "code",
      "execution_count": null,
      "metadata": {
        "colab": {
          "base_uri": "https://localhost:8080/"
        },
        "id": "caLZwliwKEhO",
        "outputId": "3ceea367-94ce-435c-f337-4c456189ff75"
      },
      "outputs": [
        {
          "output_type": "stream",
          "name": "stdout",
          "text": [
            "<class 'pandas.core.frame.DataFrame'>\n",
            "RangeIndex: 731 entries, 0 to 730\n",
            "Data columns (total 5 columns):\n",
            " #   Column      Non-Null Count  Dtype  \n",
            "---  ------      --------------  -----  \n",
            " 0   temp        731 non-null    float64\n",
            " 1   atemp       731 non-null    float64\n",
            " 2   casual      731 non-null    int64  \n",
            " 3   registered  731 non-null    int64  \n",
            " 4   cnt         731 non-null    int64  \n",
            "dtypes: float64(2), int64(3)\n",
            "memory usage: 28.7 KB\n"
          ]
        }
      ],
      "source": [
        "numeric_cols.info()"
      ]
    },
    {
      "cell_type": "markdown",
      "metadata": {
        "id": "-qOBbvqFLeqv"
      },
      "source": [
        "##Kernel"
      ]
    },
    {
      "cell_type": "markdown",
      "metadata": {
        "id": "vso-pMe4NOVQ"
      },
      "source": [
        "### Búsqueda de parámetros  y validación\"tradicional\""
      ]
    },
    {
      "cell_type": "markdown",
      "metadata": {
        "id": "DeOHNapZ9s26"
      },
      "source": [
        "Para empezar con el kernel vamos a usar las variables categoricas y numericas"
      ]
    },
    {
      "cell_type": "code",
      "execution_count": null,
      "metadata": {
        "id": "IexCCT5B9xUn"
      },
      "outputs": [],
      "source": [
        "categorical_cols = ['season', 'yr', 'mnth', 'holiday', 'workingday', 'weathersit']\n",
        "\n",
        "for col in categorical_cols:\n",
        "    df[col] = df[col].astype('int')"
      ]
    },
    {
      "cell_type": "code",
      "execution_count": null,
      "metadata": {
        "colab": {
          "base_uri": "https://localhost:8080/"
        },
        "id": "FSuyWFDS-vCN",
        "outputId": "74a0bdd7-f4c2-40cb-c582-f9a4e5e9b6d3"
      },
      "outputs": [
        {
          "output_type": "stream",
          "name": "stdout",
          "text": [
            "<class 'pandas.core.frame.DataFrame'>\n",
            "RangeIndex: 731 entries, 0 to 730\n",
            "Data columns (total 14 columns):\n",
            " #   Column      Non-Null Count  Dtype  \n",
            "---  ------      --------------  -----  \n",
            " 0   season      731 non-null    int64  \n",
            " 1   yr          731 non-null    int64  \n",
            " 2   mnth        731 non-null    int64  \n",
            " 3   holiday     731 non-null    int64  \n",
            " 4   weekday     731 non-null    object \n",
            " 5   workingday  731 non-null    int64  \n",
            " 6   weathersit  731 non-null    int64  \n",
            " 7   temp        731 non-null    float64\n",
            " 8   atemp       731 non-null    float64\n",
            " 9   hum         731 non-null    float64\n",
            " 10  windspeed   731 non-null    float64\n",
            " 11  casual      731 non-null    int64  \n",
            " 12  registered  731 non-null    int64  \n",
            " 13  cnt         731 non-null    int64  \n",
            "dtypes: float64(4), int64(9), object(1)\n",
            "memory usage: 80.1+ KB\n"
          ]
        }
      ],
      "source": [
        "df.info()"
      ]
    },
    {
      "cell_type": "code",
      "execution_count": null,
      "metadata": {
        "id": "F31s4rlK-7t5"
      },
      "outputs": [],
      "source": [
        "df = df.drop(columns = ['hum', 'windspeed', 'weekday'])"
      ]
    },
    {
      "cell_type": "markdown",
      "metadata": {
        "id": "d_S0hopQNSk3"
      },
      "source": [
        "Para KernelRidge buscamos los mejores parámetros con gridsearch dividiendo el conjunto de datos en entrenamiento y testeo."
      ]
    },
    {
      "cell_type": "code",
      "execution_count": null,
      "metadata": {
        "id": "eElwrh3Q86co"
      },
      "outputs": [],
      "source": [
        "X = df.drop(columns='cnt')\n",
        "y = df['cnt']\n",
        "\n",
        "X_train, X_test, y_train, y_test = train_test_split(X, y, test_size=0.2, random_state=42)"
      ]
    },
    {
      "cell_type": "code",
      "execution_count": null,
      "metadata": {
        "id": "PHj3yYaO9FNr"
      },
      "outputs": [],
      "source": [
        "sc = StandardScaler()\n",
        "X_train_sc = sc.fit_transform(X_train)\n",
        "X_test_sc = sc.transform(X_test)"
      ]
    },
    {
      "cell_type": "code",
      "execution_count": null,
      "metadata": {
        "colab": {
          "base_uri": "https://localhost:8080/"
        },
        "id": "Rrs3Ws_X9GzP",
        "outputId": "87929e58-203b-424b-8a91-28fbfbcc112b"
      },
      "outputs": [
        {
          "output_type": "stream",
          "name": "stdout",
          "text": [
            "Mejores parámetros encontrados:\n",
            "{'alpha': 0.001, 'gamma': 0.01, 'kernel': 'poly'}\n",
            "RMSE: 0.6974320695650659\n",
            "MAE: 0.4266156458960147\n",
            "R^2: 0.9999998786968154\n"
          ]
        }
      ],
      "source": [
        "warnings.filterwarnings(action='ignore', category=UserWarning, module='sklearn')\n",
        "warnings.filterwarnings(action='ignore', category=LinAlgWarning)\n",
        "\n",
        "parameters = {\n",
        "    'kernel': ['linear', 'poly', 'rbf', 'laplacian', 'sigmoid'],\n",
        "    'alpha': np.logspace(-3, 3, 7),\n",
        "    'gamma': np.logspace(-3, 3, 7)\n",
        "}\n",
        "\n",
        "model = KernelRidge()\n",
        "grid_search = GridSearchCV(estimator=model, param_grid=parameters, cv=10, scoring='neg_mean_squared_error')\n",
        "grid_search.fit(X_train_sc, y_train)\n",
        "\n",
        "best_params = grid_search.best_params_\n",
        "print(\"Mejores parámetros encontrados:\")\n",
        "print(best_params)\n",
        "\n",
        "best_model = grid_search.best_estimator_\n",
        "y_pred = best_model.predict(X_test_sc)\n",
        "\n",
        "rmse = np.sqrt(mean_squared_error(y_test, y_pred))\n",
        "mae = mean_absolute_error(y_test, y_pred)\n",
        "r2 = r2_score(y_test, y_pred)\n",
        "\n",
        "print(\"RMSE:\", rmse)\n",
        "print(\"MAE:\", mae)\n",
        "print(\"R^2:\", r2)"
      ]
    },
    {
      "cell_type": "markdown",
      "metadata": {
        "id": "mMjYFfbmvxHo"
      },
      "source": [
        "### Kernel Gaussiano, Epanechnikov, Tricube y Rectangular"
      ]
    },
    {
      "cell_type": "markdown",
      "metadata": {
        "id": "fQDJtQaGvowM"
      },
      "source": [
        "Primero, importamos las funciones de suavizado de kernel que utilizamos en clase para aplicarlas sobre el modelo y encontrar el mejor."
      ]
    },
    {
      "cell_type": "code",
      "execution_count": null,
      "metadata": {
        "id": "UqP_D5PHvwmG"
      },
      "outputs": [],
      "source": [
        "# Función de suavizado con kernel Gaussiano\n",
        "def Knn_Gaussian(lmbda: float, point: float, data_x: np.ndarray, data_y: np.ndarray) -> float:\n",
        "    t = np.absolute(data_x - point) / lmbda\n",
        "    k = (1 / np.sqrt(2 * np.pi)) * np.exp(-0.5 * t**2)\n",
        "    if k.sum() == 0:\n",
        "      return 0\n",
        "    else:\n",
        "      return (k @ data_y) / k.sum()\n",
        "\n",
        "# Función de suavizado con kernel Tricúbico\n",
        "def knn_Tricubic(lmbda: float, point: float, data_x: np.ndarray, data_y: np.ndarray) -> float:\n",
        "    t = np.absolute(data_x - point) / lmbda\n",
        "    k = np.where(t <= 1, (1 - t**3)**3, 0)\n",
        "    if k.sum() == 0:\n",
        "        return 0\n",
        "    else:\n",
        "        return (k @ data_y) / k.sum()\n",
        "\n",
        "# Función de suavizado con kernel Epanechnikov\n",
        "def knn_Epanechnikov(lmbda: float, point: float, data_x: np.ndarray, data_y: np.ndarray) -> float:\n",
        "    t = np.absolute(data_x - point) / lmbda\n",
        "    k = np.where(t <= 1, .75*(1 - t**2), 0)\n",
        "    if k.sum() == 0:\n",
        "        return 0\n",
        "    else:\n",
        "        return (k @ data_y).sum()/k.sum()\n",
        "\n",
        "# Función de suavizado con kernel rectangular\n",
        "def knn_basic(k: int, point:float, data_x:np.ndarray, data_y:np.ndarray) -> float:\n",
        "    idx_sorted = np.argsort((data_x-point)*(data_x-point))[:k]\n",
        "    return data_y[idx_sorted].mean()"
      ]
    },
    {
      "cell_type": "markdown",
      "metadata": {
        "id": "7Q5I1hs5x9pM"
      },
      "source": [
        "#### Variando hiperparámetros"
      ]
    },
    {
      "cell_type": "markdown",
      "metadata": {
        "id": "1JiQGJ4KyGOT"
      },
      "source": [
        "A medida que vamos variando el tamaño de la ventana y el lambda, se va haciendo validación cruzada con k=5 para determinar el mejor tamaño para cada tipo de Kernel. Para encontrar cual es el mejor, utilizamos las métricas de RMSE, MAE y R².\n",
        "Posteriormente, guardamos los mejores hiperparámetros para cada variable y graficamos como quedaría cada variable con su mejor aproximación para cada tipo de función de suavizado."
      ]
    },
    {
      "cell_type": "markdown",
      "metadata": {
        "id": "2WPT-3OEywfD"
      },
      "source": [
        "##### Rectangular"
      ]
    },
    {
      "cell_type": "code",
      "execution_count": null,
      "metadata": {
        "colab": {
          "base_uri": "https://localhost:8080/",
          "height": 757,
          "referenced_widgets": [
            "7f2fbcf143c6479e8a038dc5373476cb",
            "698e4836cea64178872cff7482e64b79",
            "dbb8433a264f41c0ac7e8acead6be61e",
            "3ab7fdabae914127a1b763449ddc8ca6",
            "f07dc2013bd64a20bef3db3694b69e4d",
            "121a988980374c1283b3679502031fc5",
            "11ac02096f4c4583bfae19204a47f994"
          ]
        },
        "id": "uSmDtHV5OIqY",
        "outputId": "55b6d573-0643-4daf-b2fa-e298db408a8b"
      },
      "outputs": [
        {
          "output_type": "display_data",
          "data": {
            "text/plain": [
              "interactive(children=(Dropdown(description='Variable:', options=('season', 'yr', 'mnth', 'holiday', 'workingda…"
            ],
            "application/vnd.jupyter.widget-view+json": {
              "version_major": 2,
              "version_minor": 0,
              "model_id": "7f2fbcf143c6479e8a038dc5373476cb"
            }
          },
          "metadata": {}
        }
      ],
      "source": [
        "def kernel_cv(data, feature, k_values, n_splits=5):\n",
        "    kf = KFold(n_splits=n_splits, shuffle=True, random_state=42)\n",
        "\n",
        "    results = []\n",
        "    best_k = None\n",
        "    best_r2_test = -float('inf')\n",
        "\n",
        "    for k in k_values:\n",
        "        rmse_train_cv = []\n",
        "        mae_train_cv = []\n",
        "        r2_train_cv = []\n",
        "        rmse_test_cv = []\n",
        "        mae_test_cv = []\n",
        "        r2_test_cv = []\n",
        "\n",
        "        for train_index, test_index in kf.split(data):\n",
        "            X_train, X_test = data.iloc[train_index][feature], data.iloc[test_index][feature]\n",
        "            y_train, y_test = data.iloc[train_index]['cnt'], data.iloc[test_index]['cnt']\n",
        "\n",
        "            y_train_pred = np.array([knn_basic(k, point, X_train.values, y_train.values) for point in X_train.values])\n",
        "            y_test_pred = np.array([knn_basic(k, point, X_train.values, y_train.values) for point in X_test.values])\n",
        "\n",
        "            rmse_train_cv.append(np.sqrt(mean_squared_error(y_train, y_train_pred)))\n",
        "            mae_train_cv.append(mean_absolute_error(y_train, y_train_pred))\n",
        "            r2_train_cv.append(r2_score(y_train, y_train_pred))\n",
        "            rmse_test_cv.append(np.sqrt(mean_squared_error(y_test, y_test_pred)))\n",
        "            mae_test_cv.append(mean_absolute_error(y_test, y_test_pred))\n",
        "            r2_test_cv.append(r2_score(y_test, y_test_pred))\n",
        "\n",
        "        avg_rmse_train = np.mean(rmse_train_cv)\n",
        "        avg_mae_train = np.mean(mae_train_cv)\n",
        "        avg_r2_train = np.mean(r2_train_cv)\n",
        "        avg_rmse_test = np.mean(rmse_test_cv)\n",
        "        avg_mae_test = np.mean(mae_test_cv)\n",
        "        avg_r2_test = np.mean(r2_test_cv)\n",
        "\n",
        "        results.append({\n",
        "            \"k\": k,\n",
        "            \"avg_rmse_train\": avg_rmse_train,\n",
        "            \"avg_mae_train\": avg_mae_train,\n",
        "            \"avg_r2_train\": avg_r2_train,\n",
        "            \"avg_rmse_test\": avg_rmse_test,\n",
        "            \"avg_mae_test\": avg_mae_test,\n",
        "            \"avg_r2_test\": avg_r2_test\n",
        "        })\n",
        "\n",
        "        if avg_r2_test > best_r2_test:\n",
        "            best_r2_test = avg_r2_test\n",
        "            best_k = k\n",
        "\n",
        "    return results, best_k\n",
        "\n",
        "\n",
        "\n",
        "def interactive_kernel_analysis(feature):\n",
        "    k_values = range(1, 101, 5)\n",
        "    results, best_k = kernel_cv(df, feature, k_values)\n",
        "\n",
        "    result_df = pd.DataFrame(results)\n",
        "    result_df.set_index('k', inplace=True)\n",
        "    display(result_df)\n",
        "    print(f\"El mejor valor de k para la variable {feature} es: {best_k}\")\n",
        "\n",
        "best_rectangular = {}\n",
        "\n",
        "for i in df:\n",
        "  k_values = range(1, 101, 5)\n",
        "  results,best_k = kernel_cv(df, i, k_values)\n",
        "  best_rectangular[i] = best_k\n",
        "\n",
        "numeric_features = df.drop(columns='cnt').columns.tolist()\n",
        "\n",
        "feature_dropdown = widgets.Dropdown(options=numeric_features, description='Variable:')\n",
        "interactive_plot = widgets.interactive(interactive_kernel_analysis, feature=feature_dropdown)\n",
        "\n",
        "display(interactive_plot)"
      ]
    },
    {
      "cell_type": "code",
      "source": [
        "print(best_rectangular)"
      ],
      "metadata": {
        "colab": {
          "base_uri": "https://localhost:8080/"
        },
        "id": "5b85BqoEFCcD",
        "outputId": "d8d11720-5573-4aa0-ef65-5314946625b2"
      },
      "execution_count": null,
      "outputs": [
        {
          "output_type": "stream",
          "name": "stdout",
          "text": [
            "{'season': 41, 'yr': 11, 'mnth': 56, 'holiday': 6, 'workingday': 96, 'weathersit': 86, 'temp': 86, 'atemp': 76, 'casual': 46, 'registered': 31, 'cnt': 1}\n"
          ]
        }
      ]
    },
    {
      "cell_type": "markdown",
      "metadata": {
        "id": "QTd-HZoyy1tl"
      },
      "source": [
        "##### Epanechnikov"
      ]
    },
    {
      "cell_type": "code",
      "execution_count": null,
      "metadata": {
        "colab": {
          "base_uri": "https://localhost:8080/",
          "height": 757,
          "referenced_widgets": [
            "e86005877b464ec8852bd702ae483c65",
            "d2db460df47643558874d1b9be917f6b",
            "3486cf1112c445eab187f40a464615cb",
            "69ccec45e8a64205ae186063fabf1f7c",
            "81f869d20d194c7ba64ea7ba6e77976c",
            "acc8787314114452a570fb768ea0078b",
            "50bf3e6169b24abd9f2e98a25aaa3934"
          ]
        },
        "id": "U2fwc-8iBqkp",
        "outputId": "0a090398-866e-457b-b2db-3193754992a3"
      },
      "outputs": [
        {
          "output_type": "display_data",
          "data": {
            "text/plain": [
              "interactive(children=(Dropdown(description='Feature:', options=('season', 'yr', 'mnth', 'holiday', 'workingday…"
            ],
            "application/vnd.jupyter.widget-view+json": {
              "version_major": 2,
              "version_minor": 0,
              "model_id": "e86005877b464ec8852bd702ae483c65"
            }
          },
          "metadata": {}
        }
      ],
      "source": [
        "def kernel_cv(data, feature, lambda_values, n_splits=5):\n",
        "    kf = KFold(n_splits=n_splits, shuffle=True, random_state=42)\n",
        "\n",
        "    results = []\n",
        "    best_lambda = None\n",
        "    best_r2_test = -float('inf')\n",
        "\n",
        "    for lmbda in lambda_values:\n",
        "        rmse_train_cv = []\n",
        "        mae_train_cv = []\n",
        "        r2_train_cv = []\n",
        "        rmse_test_cv = []\n",
        "        mae_test_cv = []\n",
        "        r2_test_cv = []\n",
        "\n",
        "        for train_index, test_index in kf.split(data):\n",
        "            X_train, X_test = data.iloc[train_index][feature], data.iloc[test_index][feature]\n",
        "            y_train, y_test = data.iloc[train_index]['cnt'], data.iloc[test_index]['cnt']\n",
        "\n",
        "            y_train_pred = np.array([knn_Epanechnikov(lmbda, point, X_train.values, y_train.values) for point in X_train.values])\n",
        "            y_test_pred = np.array([knn_Epanechnikov(lmbda, point, X_train.values, y_train.values) for point in X_test.values])\n",
        "\n",
        "            rmse_train_cv.append(np.sqrt(mean_squared_error(y_train, y_train_pred)))\n",
        "            mae_train_cv.append(mean_absolute_error(y_train, y_train_pred))\n",
        "            r2_train_cv.append(r2_score(y_train, y_train_pred))\n",
        "            rmse_test_cv.append(np.sqrt(mean_squared_error(y_test, y_test_pred)))\n",
        "            mae_test_cv.append(mean_absolute_error(y_test, y_test_pred))\n",
        "            r2_test_cv.append(r2_score(y_test, y_test_pred))\n",
        "\n",
        "        avg_rmse_train = np.mean(rmse_train_cv)\n",
        "        avg_mae_train = np.mean(mae_train_cv)\n",
        "        avg_r2_train = np.mean(r2_train_cv)\n",
        "        avg_rmse_test = np.mean(rmse_test_cv)\n",
        "        avg_mae_test = np.mean(mae_test_cv)\n",
        "        avg_r2_test = np.mean(r2_test_cv)\n",
        "\n",
        "        results.append({\n",
        "            \"lambda\": lmbda,\n",
        "            \"avg_rmse_train\": avg_rmse_train,\n",
        "            \"avg_mae_train\": avg_mae_train,\n",
        "            \"avg_r2_train\": avg_r2_train,\n",
        "            \"avg_rmse_test\": avg_rmse_test,\n",
        "            \"avg_mae_test\": avg_mae_test,\n",
        "            \"avg_r2_test\": avg_r2_test\n",
        "        })\n",
        "\n",
        "        if avg_r2_test > best_r2_test:\n",
        "            best_r2_test = avg_r2_test\n",
        "            best_lambda = lmbda\n",
        "\n",
        "    return results, best_lambda\n",
        "\n",
        "\n",
        "\n",
        "def interactive_kernel_analysis(feature):\n",
        "    lambda_values = np.arange(0.01, 10, 0.5)\n",
        "    results, best_lambda = kernel_cv(df, feature, lambda_values)\n",
        "\n",
        "    result_df = pd.DataFrame(results)\n",
        "    result_df.set_index('lambda', inplace=True)\n",
        "    display(result_df)\n",
        "    print(f\"La mejor lambda para la variable {feature} es: {best_lambda}\")\n",
        "\n",
        "best_epa = {}\n",
        "\n",
        "for i in df:\n",
        "  lambda_values = np.arange(0.01, 10, 0.5)\n",
        "  results, best_lambda = kernel_cv(df, i, lambda_values)\n",
        "  best_epa[i] = best_lambda\n",
        "\n",
        "numeric_features = df.drop(columns='cnt').columns.tolist()\n",
        "\n",
        "feature_dropdown = widgets.Dropdown(options=numeric_features, description='Feature:')\n",
        "interactive_plot = widgets.interactive(interactive_kernel_analysis, feature=feature_dropdown)\n",
        "display(interactive_plot)"
      ]
    },
    {
      "cell_type": "code",
      "source": [
        "print(best_epa)"
      ],
      "metadata": {
        "colab": {
          "base_uri": "https://localhost:8080/"
        },
        "id": "aMT3KEzSIDGa",
        "outputId": "d09b4232-5004-44ef-a65e-197da3deb9ed"
      },
      "execution_count": null,
      "outputs": [
        {
          "output_type": "stream",
          "name": "stdout",
          "text": [
            "{'season': 1.01, 'yr': 0.01, 'mnth': 1.51, 'holiday': 0.01, 'workingday': 1.01, 'weathersit': 0.01, 'temp': 0.01, 'atemp': 0.01, 'casual': 9.51, 'registered': 9.51, 'cnt': 9.51}\n"
          ]
        }
      ]
    },
    {
      "cell_type": "markdown",
      "metadata": {
        "id": "p9-IaQ-yBn9y"
      },
      "source": [
        "##### Tricúbico"
      ]
    },
    {
      "cell_type": "code",
      "execution_count": null,
      "metadata": {
        "colab": {
          "base_uri": "https://localhost:8080/",
          "height": 757,
          "referenced_widgets": [
            "f15248a7b9224768842741b485df31b9",
            "1abdf640f56a460cbd85c0507904a92a",
            "20e2cfda455445e8b10858c826391607",
            "9c785cafd3144e33b5bbeba890af1f3d",
            "ba49c3eb7ec248f2aa88f944c1087b24",
            "da1acfb2e2a4431e96ff9fe013d6f4a0",
            "7f3cdbefb4f84b7db10117311cfe3e48"
          ]
        },
        "id": "yLzsrsU-B-f6",
        "outputId": "17606848-fff9-4688-efa9-ea04ee58095f"
      },
      "outputs": [
        {
          "output_type": "display_data",
          "data": {
            "text/plain": [
              "interactive(children=(Dropdown(description='Feature:', options=('season', 'yr', 'mnth', 'holiday', 'workingday…"
            ],
            "application/vnd.jupyter.widget-view+json": {
              "version_major": 2,
              "version_minor": 0,
              "model_id": "f15248a7b9224768842741b485df31b9"
            }
          },
          "metadata": {}
        }
      ],
      "source": [
        "def kernel_cv(data, feature, lambda_values, n_splits=5):\n",
        "    kf = KFold(n_splits=n_splits, shuffle=True, random_state=42)\n",
        "\n",
        "    results = []\n",
        "    best_lambda = None\n",
        "    best_r2_test = -float('inf')\n",
        "\n",
        "    for lmbda in lambda_values:\n",
        "        rmse_train_cv = []\n",
        "        mae_train_cv = []\n",
        "        r2_train_cv = []\n",
        "        rmse_test_cv = []\n",
        "        mae_test_cv = []\n",
        "        r2_test_cv = []\n",
        "\n",
        "        for train_index, test_index in kf.split(data):\n",
        "            X_train, X_test = data.iloc[train_index][feature], data.iloc[test_index][feature]\n",
        "            y_train, y_test = data.iloc[train_index]['cnt'], data.iloc[test_index]['cnt']\n",
        "\n",
        "            y_train_pred = np.array([knn_Tricubic(lmbda, point, X_train.values, y_train.values) for point in X_train.values])\n",
        "            y_test_pred = np.array([knn_Tricubic(lmbda, point, X_train.values, y_train.values) for point in X_test.values])\n",
        "\n",
        "            rmse_train_cv.append(np.sqrt(mean_squared_error(y_train, y_train_pred)))\n",
        "            mae_train_cv.append(mean_absolute_error(y_train, y_train_pred))\n",
        "            r2_train_cv.append(r2_score(y_train, y_train_pred))\n",
        "            rmse_test_cv.append(np.sqrt(mean_squared_error(y_test, y_test_pred)))\n",
        "            mae_test_cv.append(mean_absolute_error(y_test, y_test_pred))\n",
        "            r2_test_cv.append(r2_score(y_test, y_test_pred))\n",
        "\n",
        "        avg_rmse_train = np.mean(rmse_train_cv)\n",
        "        avg_mae_train = np.mean(mae_train_cv)\n",
        "        avg_r2_train = np.mean(r2_train_cv)\n",
        "        avg_rmse_test = np.mean(rmse_test_cv)\n",
        "        avg_mae_test = np.mean(mae_test_cv)\n",
        "        avg_r2_test = np.mean(r2_test_cv)\n",
        "\n",
        "        results.append({\n",
        "            \"lambda\": lmbda,\n",
        "            \"avg_rmse_train\": avg_rmse_train,\n",
        "            \"avg_mae_train\": avg_mae_train,\n",
        "            \"avg_r2_train\": avg_r2_train,\n",
        "            \"avg_rmse_test\": avg_rmse_test,\n",
        "            \"avg_mae_test\": avg_mae_test,\n",
        "            \"avg_r2_test\": avg_r2_test\n",
        "        })\n",
        "\n",
        "        if avg_r2_test > best_r2_test:\n",
        "            best_r2_test = avg_r2_test\n",
        "            best_lambda = lmbda\n",
        "\n",
        "    return results, best_lambda\n",
        "\n",
        "\n",
        "def interactive_kernel_analysis(feature):\n",
        "    lambda_values = np.arange(0.01, 10, 0.5)\n",
        "    results, best_lambda = kernel_cv(df, feature, lambda_values)\n",
        "\n",
        "    result_df = pd.DataFrame(results)\n",
        "    result_df.set_index('lambda', inplace=True)\n",
        "    display(result_df)\n",
        "    print(f\"La mejor lambda para la variable {feature} es: {best_lambda}\")\n",
        "\n",
        "best_tri={}\n",
        "\n",
        "for i in df:\n",
        "  lambda_values = np.arange(0.01, 10, 0.5)\n",
        "  results, best_lambda = kernel_cv(df, i, lambda_values)\n",
        "  best_tri[i] = best_lambda\n",
        "\n",
        "numeric_features = df.drop(columns='cnt').columns.tolist()\n",
        "\n",
        "feature_dropdown = widgets.Dropdown(options=numeric_features, description='Feature:')\n",
        "interactive_plot = widgets.interactive(interactive_kernel_analysis, feature=feature_dropdown)\n",
        "display(interactive_plot)"
      ]
    },
    {
      "cell_type": "code",
      "source": [
        "print(best_tri)"
      ],
      "metadata": {
        "colab": {
          "base_uri": "https://localhost:8080/"
        },
        "id": "FVQS6zOiI7SI",
        "outputId": "aee4d144-251d-44bc-e3ad-2bdd7229bde9"
      },
      "execution_count": null,
      "outputs": [
        {
          "output_type": "stream",
          "name": "stdout",
          "text": [
            "{'season': 1.01, 'yr': 1.01, 'mnth': 2.01, 'holiday': 1.01, 'workingday': 1.51, 'weathersit': 1.01, 'temp': 0.01, 'atemp': 0.01, 'casual': 9.51, 'registered': 9.51, 'cnt': 9.01}\n"
          ]
        }
      ]
    },
    {
      "cell_type": "markdown",
      "metadata": {
        "id": "aMKZImKVBRHU"
      },
      "source": [
        "##### Gaussian"
      ]
    },
    {
      "cell_type": "code",
      "execution_count": null,
      "metadata": {
        "colab": {
          "base_uri": "https://localhost:8080/",
          "height": 757,
          "referenced_widgets": [
            "c0db67d4549948e69b8de3be712e9dd3",
            "ee88b2237edd4024b73558db24b2d060",
            "e108642fe6aa4b1198b338c42283026a",
            "27e4952f084449b695410c40f9f471a7",
            "5bccce1568e34eab97214fa43db8614f",
            "799088075f204b2f9923eafdf09cc052",
            "6aba4c14200c48ca859d0538f408d767"
          ]
        },
        "id": "Rbo3Gp961Ify",
        "outputId": "dc084f13-0c4f-4d1d-ac15-6b63f939d7d7"
      },
      "outputs": [
        {
          "output_type": "display_data",
          "data": {
            "text/plain": [
              "interactive(children=(Dropdown(description='Feature:', options=('season', 'yr', 'mnth', 'holiday', 'workingday…"
            ],
            "application/vnd.jupyter.widget-view+json": {
              "version_major": 2,
              "version_minor": 0,
              "model_id": "c0db67d4549948e69b8de3be712e9dd3"
            }
          },
          "metadata": {}
        }
      ],
      "source": [
        "def kernel_cv(data, feature, lambda_values, n_splits=5):\n",
        "    kf = KFold(n_splits=n_splits, shuffle=True, random_state=42)\n",
        "\n",
        "    results = []\n",
        "    best_lambda = None\n",
        "    best_r2_test = -float('inf')\n",
        "\n",
        "    for lmbda in lambda_values:\n",
        "        rmse_train_cv = []\n",
        "        mae_train_cv = []\n",
        "        r2_train_cv = []\n",
        "        rmse_test_cv = []\n",
        "        mae_test_cv = []\n",
        "        r2_test_cv = []\n",
        "\n",
        "        for train_index, test_index in kf.split(data):\n",
        "            X_train, X_test = data.iloc[train_index][feature], data.iloc[test_index][feature]\n",
        "            y_train, y_test = data.iloc[train_index]['cnt'], data.iloc[test_index]['cnt']\n",
        "\n",
        "            y_train_pred = np.array([Knn_Gaussian(lmbda, point, X_train.values, y_train.values) for point in X_train.values])\n",
        "            y_test_pred = np.array([Knn_Gaussian(lmbda, point, X_train.values, y_train.values) for point in X_test.values])\n",
        "\n",
        "            rmse_train_cv.append(np.sqrt(mean_squared_error(y_train, y_train_pred)))\n",
        "            mae_train_cv.append(mean_absolute_error(y_train, y_train_pred))\n",
        "            r2_train_cv.append(r2_score(y_train, y_train_pred))\n",
        "            rmse_test_cv.append(np.sqrt(mean_squared_error(y_test, y_test_pred)))\n",
        "            mae_test_cv.append(mean_absolute_error(y_test, y_test_pred))\n",
        "            r2_test_cv.append(r2_score(y_test, y_test_pred))\n",
        "\n",
        "        avg_rmse_train = np.mean(rmse_train_cv)\n",
        "        avg_mae_train = np.mean(mae_train_cv)\n",
        "        avg_r2_train = np.mean(r2_train_cv)\n",
        "        avg_rmse_test = np.mean(rmse_test_cv)\n",
        "        avg_mae_test = np.mean(mae_test_cv)\n",
        "        avg_r2_test = np.mean(r2_test_cv)\n",
        "\n",
        "        results.append({\n",
        "            \"lambda\": lmbda,\n",
        "            \"avg_rmse_train\": avg_rmse_train,\n",
        "            \"avg_mae_train\": avg_mae_train,\n",
        "            \"avg_r2_train\": avg_r2_train,\n",
        "            \"avg_rmse_test\": avg_rmse_test,\n",
        "            \"avg_mae_test\": avg_mae_test,\n",
        "            \"avg_r2_test\": avg_r2_test\n",
        "        })\n",
        "\n",
        "        if avg_r2_test > best_r2_test:\n",
        "            best_r2_test = avg_r2_test\n",
        "            best_lambda = lmbda\n",
        "\n",
        "    return results, best_lambda\n",
        "\n",
        "\n",
        "\n",
        "def interactive_kernel_analysis(feature):\n",
        "    lambda_values = np.arange(0.01, 10, 0.5)\n",
        "    results, best_lambda = kernel_cv(df, feature, lambda_values)\n",
        "\n",
        "    result_df = pd.DataFrame(results)\n",
        "    result_df.set_index('lambda', inplace=True)\n",
        "    display(result_df)\n",
        "    print(f\"La mejor lambda para la variable {feature} es: {best_lambda}\")\n",
        "\n",
        "best_gau = {}\n",
        "for i in df:\n",
        "  lambda_values = np.arange(0.01, 10, 0.5)\n",
        "  results, best_lambda = kernel_cv(df, i, lambda_values)\n",
        "  best_gau[i] = best_lambda\n",
        "\n",
        "\n",
        "numeric_features = df.drop(columns='cnt').columns.tolist()\n",
        "\n",
        "feature_dropdown = widgets.Dropdown(options=numeric_features, description='Feature:')\n",
        "interactive_plot = widgets.interactive(interactive_kernel_analysis, feature=feature_dropdown)\n",
        "display(interactive_plot)"
      ]
    },
    {
      "cell_type": "code",
      "source": [
        "print(best_gau)"
      ],
      "metadata": {
        "colab": {
          "base_uri": "https://localhost:8080/"
        },
        "id": "2W0n4lwdI9q_",
        "outputId": "9556f33c-6271-46ef-ef55-ecdac6833e97"
      },
      "execution_count": null,
      "outputs": [
        {
          "output_type": "stream",
          "name": "stdout",
          "text": [
            "{'season': 0.01, 'yr': 0.01, 'mnth': 0.51, 'holiday': 0.01, 'workingday': 0.51, 'weathersit': 0.01, 'temp': 0.01, 'atemp': 0.01, 'casual': 9.51, 'registered': 9.51, 'cnt': 9.51}\n"
          ]
        }
      ]
    },
    {
      "cell_type": "markdown",
      "source": [
        "#### Visualización univariada"
      ],
      "metadata": {
        "id": "REmBCi-eJG7h"
      }
    },
    {
      "cell_type": "markdown",
      "source": [
        "Teniendo en cuenta los diccionarios en los que guardamos el mejor hiperparámetro para cada variable para cada tipo de kernel, permitimos que el usuario revise como quedaría el ajuste."
      ],
      "metadata": {
        "id": "R3XrmnX3KGOw"
      }
    },
    {
      "cell_type": "code",
      "execution_count": null,
      "metadata": {
        "colab": {
          "base_uri": "https://localhost:8080/",
          "height": 596,
          "referenced_widgets": [
            "46591ccf5e19428f8da95a5b3aab6301",
            "59cd42ea35534c958224c7188bdce94b",
            "9184d3cc69534cb48538dd310ae20616",
            "cf3a1ee48dd5460caaf6cf55ae3a5f44",
            "cd8c152fbed94f3aa959dc275fe2ce08",
            "6f831555e3a445e2a509ee317174e2d4",
            "21ed9ae6a01747be880b48042015ab3e",
            "4bffc27f3d5a45428a4d82fc2bf499fb",
            "496f9ff62d9f4002ba5169abf2d085fd",
            "f3058dfc351845dd9a6dc76771f2688c"
          ]
        },
        "id": "0Y5LXrcIv4R1",
        "outputId": "9d018367-fad1-4866-e9cf-db63d68b4627"
      },
      "outputs": [
        {
          "output_type": "display_data",
          "data": {
            "text/plain": [
              "HBox(children=(Dropdown(description='Columna:', options=('season', 'yr', 'mnth', 'holiday', 'workingday', 'wea…"
            ],
            "application/vnd.jupyter.widget-view+json": {
              "version_major": 2,
              "version_minor": 0,
              "model_id": "46591ccf5e19428f8da95a5b3aab6301"
            }
          },
          "metadata": {}
        },
        {
          "output_type": "display_data",
          "data": {
            "text/plain": [
              "Output()"
            ],
            "application/vnd.jupyter.widget-view+json": {
              "version_major": 2,
              "version_minor": 0,
              "model_id": "496f9ff62d9f4002ba5169abf2d085fd"
            }
          },
          "metadata": {}
        }
      ],
      "source": [
        "def knn_kernel_regression_plot(columna, kernel):\n",
        "    data_sorted = df.sort_values(by=columna)\n",
        "    data_x = data_sorted[columna].values\n",
        "    data_y = data_sorted['cnt'].values\n",
        "\n",
        "    k = 100\n",
        "\n",
        "    if kernel == 'Gaussian':\n",
        "        y_predicted = np.array([Knn_Gaussian(best_gau[columna], point, data_x, data_y) for point in data_x])\n",
        "    elif kernel == 'Tricubic':\n",
        "        y_predicted = np.array([knn_Tricubic(best_tri[columna], point, data_x, data_y) for point in data_x])\n",
        "    elif kernel == 'Epanechnikov':\n",
        "        y_predicted = np.array([knn_Epanechnikov(best_epa[columna], point, data_x, data_y) for point in data_x])\n",
        "    elif kernel == 'Rectangular':\n",
        "        y_predicted = np.array([knn_basic(best_rectangular[columna], point, data_x, data_y) for point in data_x])\n",
        "\n",
        "    plt.figure(figsize=(10, 6))\n",
        "    plt.scatter(data_x, data_y, label=\"Datos Reales\")\n",
        "    plt.plot(data_x, y_predicted, color=\"red\", label=f\"KNN con kernel {kernel}\")\n",
        "    plt.xlabel(columna)\n",
        "    plt.ylabel(\"cnt\")\n",
        "    plt.title(f\"Kernel de cnt vs {columna}\")\n",
        "    plt.legend()\n",
        "    plt.show()\n",
        "\n",
        "column_selector = widgets.Dropdown(\n",
        "    options=X.columns,\n",
        "    description='Columna:',\n",
        "    disabled=False,\n",
        ")\n",
        "\n",
        "kernel_selector = widgets.Dropdown(\n",
        "    options=['Gaussian', 'Tricubic', 'Epanechnikov', 'Rectangular'],\n",
        "    description='Kernel:',\n",
        "    disabled=False,\n",
        ")\n",
        "\n",
        "output = widgets.interactive_output(knn_kernel_regression_plot, {'columna': column_selector, 'kernel': kernel_selector})\n",
        "display(widgets.HBox([column_selector, kernel_selector]), output)\n"
      ]
    },
    {
      "cell_type": "markdown",
      "source": [
        "La visualización y el análisis de métricas, nos permite evidenciar que la variable holiday, workingday y weathersit tiene r² demasiado bajo y que lo que se puede ajustar no representa verdaderamente los datos. Por tanto, para el modelo multivariado se decide eliminar."
      ],
      "metadata": {
        "id": "or4S0wJtLi2G"
      }
    },
    {
      "cell_type": "code",
      "source": [
        "df = df.drop(columns=['holiday', 'workingday', 'weathersit'])"
      ],
      "metadata": {
        "id": "8ODntn26MR17"
      },
      "execution_count": null,
      "outputs": []
    },
    {
      "cell_type": "markdown",
      "metadata": {
        "id": "8MtINRYvCN9h"
      },
      "source": [
        "###  Adaptar Kernel Gaussiano, Epanechnikov y Tricube a multiples variables\n"
      ]
    },
    {
      "cell_type": "markdown",
      "source": [
        "Para ajustar ahora un kernel multivariado, creamos una clase en la cual se realiza el proceso de ajuste con cada una de las técnicas de suavizado identificadas. Posteriormente, hace validación cruzada y retorna los mejores hiperparámetros por tipo de modelo con sus métricas, para poder definir cual se va a entrentar como el mejor modelo."
      ],
      "metadata": {
        "id": "xk5CaRp3MajW"
      }
    },
    {
      "cell_type": "code",
      "execution_count": null,
      "metadata": {
        "id": "oIrnU0i6COpr"
      },
      "outputs": [],
      "source": [
        "TipoKernel = Literal[\"epanechnikov\", \"gaussian\", \"tricube\"]\n",
        "\n",
        "class KernelRegression(LinearRegression):\n",
        "    def __init__(\n",
        "        self,\n",
        "        *,\n",
        "        lmbda: float,\n",
        "        tipo: TipoKernel = \"epanechnikov\",\n",
        "        fit_intercept: bool = True,\n",
        "        copy_X: bool = True,\n",
        "        n_jobs: int | None = None,\n",
        "        positive: bool = False,\n",
        "    ) -> None:\n",
        "        super().__init__(\n",
        "            fit_intercept=fit_intercept, copy_X=copy_X, n_jobs=n_jobs, positive=positive\n",
        "        )\n",
        "        self.lmbda = lmbda\n",
        "        self.tipo = tipo\n",
        "\n",
        "    def fit(\n",
        "        self, X: np.ndarray, y: np.ndarray, sample_weight: np.ndarray | None = None\n",
        "    ) -> \"KernelRegression\":\n",
        "        self.X = X\n",
        "        self.y = y\n",
        "        return super().fit(X, y, sample_weight)\n",
        "\n",
        "    def predict(self, X: np.ndarray) -> np.ndarray:\n",
        "        preds = np.zeros(X.shape)\n",
        "        for i, puntos in enumerate(X.T):\n",
        "            for j, punto in enumerate(puntos):\n",
        "                t = np.absolute(self.X.T[i] - punto) / self.lmbda\n",
        "                match self.tipo:\n",
        "                    case \"epanechnikov\":\n",
        "                        k = np.where(t <= 1, 0.75 * (1 - t), 0)\n",
        "                    case \"gaussian\":\n",
        "                        k = (1 / np.sqrt(2 * np.pi)) * np.exp(-0.5 * t**2)\n",
        "                    case \"tricube\":\n",
        "                        k = np.where(t <= 1, (1 - t**3) ** 3, 0)\n",
        "                    case _:\n",
        "                        raise ValueError(\"Tipo Kernel inválido\")\n",
        "                denominator = k.sum()\n",
        "                if denominator != 0:\n",
        "                    preds[j, i] = (k @ self.y) / denominator\n",
        "                else:\n",
        "                    # Manejar el caso de división por cero\n",
        "                    preds[j, i] = 0  # Asignar cero como valor predeterminado\n",
        "        return np.mean(preds, axis=1)\n",
        "\n",
        "def validacion_cruzada(\n",
        "    modelo: KernelRegression,\n",
        "    X: np.ndarray,\n",
        "    y: np.ndarray,\n",
        "    metricas={\n",
        "        \"r2\": \"r2\",\n",
        "        \"mse\": \"neg_mean_squared_error\",\n",
        "        \"mae\": \"neg_mean_absolute_error\",\n",
        "        \"rmse\": \"neg_root_mean_squared_error\",\n",
        "    },\n",
        "    n_splits=15\n",
        ") -> dict[str, Any]:\n",
        "    kf = KFold(n_splits=n_splits, shuffle=True, random_state=0)\n",
        "    cv: dict[str, Any] = cross_validate(\n",
        "        modelo,\n",
        "        X,\n",
        "        y,\n",
        "        cv=kf,\n",
        "        scoring=metricas,\n",
        "        return_train_score=True,\n",
        "    )\n",
        "\n",
        "    metricas_negativas = {\"mse\", \"mae\", \"rmse\"}\n",
        "    for metrica in cv.keys():\n",
        "        cv[metrica] = np.mean(cv[metrica])\n",
        "        if metrica.split(\"_\")[-1] in metricas_negativas:\n",
        "            cv[metrica] = abs(cv[metrica])\n",
        "    return cv\n",
        "\n",
        "def evaluar_kernel(\n",
        "    X: np.ndarray,\n",
        "    y: np.ndarray,\n",
        "    lmbdas: list[float],\n",
        "    tipos: list[TipoKernel] = [\"epanechnikov\"],\n",
        ") -> Tuple[pd.DataFrame, dict[str, float]]:\n",
        "    resultados = []\n",
        "    mejores_lambdas = {}\n",
        "    for idx, tipo in enumerate(tipos):\n",
        "        modelo = KernelRegression(lmbda=lmbdas[idx], tipo=tipo)\n",
        "        cv = validacion_cruzada(modelo, X, y, n_splits=5)\n",
        "        resultados.append(cv)\n",
        "        mejores_lambdas[tipo] = lmbdas[idx]\n",
        "\n",
        "    df = pd.DataFrame(resultados)\n",
        "    df.index = tipos\n",
        "    display(df)\n",
        "    return df, mejores_lambdas"
      ]
    },
    {
      "cell_type": "code",
      "execution_count": null,
      "metadata": {
        "colab": {
          "base_uri": "https://localhost:8080/",
          "height": 161
        },
        "id": "klBY9NveCWzq",
        "outputId": "55bc346f-e2dc-49d0-cb50-9bde369bae86"
      },
      "outputs": [
        {
          "output_type": "display_data",
          "data": {
            "text/plain": [
              "              fit_time  score_time   test_r2  train_r2      test_mse  \\\n",
              "epanechnikov  0.001863    0.028829  0.134276  0.775691  3.236680e+06   \n",
              "gaussian      0.001729    0.037554  0.512945  0.645076  1.825900e+06   \n",
              "tricube       0.001427    0.059727  0.088658  0.669586  3.412702e+06   \n",
              "\n",
              "                 train_mse     test_mae   train_mae    test_rmse   train_rmse  \n",
              "epanechnikov  8.405667e+05  1415.184244  747.949470  1798.001051   916.770759  \n",
              "gaussian      1.329912e+06  1101.965508  939.994239  1349.114460  1153.180562  \n",
              "tricube       1.238110e+06  1466.072376  902.330641  1845.446624  1112.661493  "
            ],
            "text/html": [
              "\n",
              "  <div id=\"df-c8df3898-3f4f-41f6-b8f4-dbd6d930c2f7\" class=\"colab-df-container\">\n",
              "    <div>\n",
              "<style scoped>\n",
              "    .dataframe tbody tr th:only-of-type {\n",
              "        vertical-align: middle;\n",
              "    }\n",
              "\n",
              "    .dataframe tbody tr th {\n",
              "        vertical-align: top;\n",
              "    }\n",
              "\n",
              "    .dataframe thead th {\n",
              "        text-align: right;\n",
              "    }\n",
              "</style>\n",
              "<table border=\"1\" class=\"dataframe\">\n",
              "  <thead>\n",
              "    <tr style=\"text-align: right;\">\n",
              "      <th></th>\n",
              "      <th>fit_time</th>\n",
              "      <th>score_time</th>\n",
              "      <th>test_r2</th>\n",
              "      <th>train_r2</th>\n",
              "      <th>test_mse</th>\n",
              "      <th>train_mse</th>\n",
              "      <th>test_mae</th>\n",
              "      <th>train_mae</th>\n",
              "      <th>test_rmse</th>\n",
              "      <th>train_rmse</th>\n",
              "    </tr>\n",
              "  </thead>\n",
              "  <tbody>\n",
              "    <tr>\n",
              "      <th>epanechnikov</th>\n",
              "      <td>0.001863</td>\n",
              "      <td>0.028829</td>\n",
              "      <td>0.134276</td>\n",
              "      <td>0.775691</td>\n",
              "      <td>3.236680e+06</td>\n",
              "      <td>8.405667e+05</td>\n",
              "      <td>1415.184244</td>\n",
              "      <td>747.949470</td>\n",
              "      <td>1798.001051</td>\n",
              "      <td>916.770759</td>\n",
              "    </tr>\n",
              "    <tr>\n",
              "      <th>gaussian</th>\n",
              "      <td>0.001729</td>\n",
              "      <td>0.037554</td>\n",
              "      <td>0.512945</td>\n",
              "      <td>0.645076</td>\n",
              "      <td>1.825900e+06</td>\n",
              "      <td>1.329912e+06</td>\n",
              "      <td>1101.965508</td>\n",
              "      <td>939.994239</td>\n",
              "      <td>1349.114460</td>\n",
              "      <td>1153.180562</td>\n",
              "    </tr>\n",
              "    <tr>\n",
              "      <th>tricube</th>\n",
              "      <td>0.001427</td>\n",
              "      <td>0.059727</td>\n",
              "      <td>0.088658</td>\n",
              "      <td>0.669586</td>\n",
              "      <td>3.412702e+06</td>\n",
              "      <td>1.238110e+06</td>\n",
              "      <td>1466.072376</td>\n",
              "      <td>902.330641</td>\n",
              "      <td>1845.446624</td>\n",
              "      <td>1112.661493</td>\n",
              "    </tr>\n",
              "  </tbody>\n",
              "</table>\n",
              "</div>\n",
              "    <div class=\"colab-df-buttons\">\n",
              "\n",
              "  <div class=\"colab-df-container\">\n",
              "    <button class=\"colab-df-convert\" onclick=\"convertToInteractive('df-c8df3898-3f4f-41f6-b8f4-dbd6d930c2f7')\"\n",
              "            title=\"Convert this dataframe to an interactive table.\"\n",
              "            style=\"display:none;\">\n",
              "\n",
              "  <svg xmlns=\"http://www.w3.org/2000/svg\" height=\"24px\" viewBox=\"0 -960 960 960\">\n",
              "    <path d=\"M120-120v-720h720v720H120Zm60-500h600v-160H180v160Zm220 220h160v-160H400v160Zm0 220h160v-160H400v160ZM180-400h160v-160H180v160Zm440 0h160v-160H620v160ZM180-180h160v-160H180v160Zm440 0h160v-160H620v160Z\"/>\n",
              "  </svg>\n",
              "    </button>\n",
              "\n",
              "  <style>\n",
              "    .colab-df-container {\n",
              "      display:flex;\n",
              "      gap: 12px;\n",
              "    }\n",
              "\n",
              "    .colab-df-convert {\n",
              "      background-color: #E8F0FE;\n",
              "      border: none;\n",
              "      border-radius: 50%;\n",
              "      cursor: pointer;\n",
              "      display: none;\n",
              "      fill: #1967D2;\n",
              "      height: 32px;\n",
              "      padding: 0 0 0 0;\n",
              "      width: 32px;\n",
              "    }\n",
              "\n",
              "    .colab-df-convert:hover {\n",
              "      background-color: #E2EBFA;\n",
              "      box-shadow: 0px 1px 2px rgba(60, 64, 67, 0.3), 0px 1px 3px 1px rgba(60, 64, 67, 0.15);\n",
              "      fill: #174EA6;\n",
              "    }\n",
              "\n",
              "    .colab-df-buttons div {\n",
              "      margin-bottom: 4px;\n",
              "    }\n",
              "\n",
              "    [theme=dark] .colab-df-convert {\n",
              "      background-color: #3B4455;\n",
              "      fill: #D2E3FC;\n",
              "    }\n",
              "\n",
              "    [theme=dark] .colab-df-convert:hover {\n",
              "      background-color: #434B5C;\n",
              "      box-shadow: 0px 1px 3px 1px rgba(0, 0, 0, 0.15);\n",
              "      filter: drop-shadow(0px 1px 2px rgba(0, 0, 0, 0.3));\n",
              "      fill: #FFFFFF;\n",
              "    }\n",
              "  </style>\n",
              "\n",
              "    <script>\n",
              "      const buttonEl =\n",
              "        document.querySelector('#df-c8df3898-3f4f-41f6-b8f4-dbd6d930c2f7 button.colab-df-convert');\n",
              "      buttonEl.style.display =\n",
              "        google.colab.kernel.accessAllowed ? 'block' : 'none';\n",
              "\n",
              "      async function convertToInteractive(key) {\n",
              "        const element = document.querySelector('#df-c8df3898-3f4f-41f6-b8f4-dbd6d930c2f7');\n",
              "        const dataTable =\n",
              "          await google.colab.kernel.invokeFunction('convertToInteractive',\n",
              "                                                    [key], {});\n",
              "        if (!dataTable) return;\n",
              "\n",
              "        const docLinkHtml = 'Like what you see? Visit the ' +\n",
              "          '<a target=\"_blank\" href=https://colab.research.google.com/notebooks/data_table.ipynb>data table notebook</a>'\n",
              "          + ' to learn more about interactive tables.';\n",
              "        element.innerHTML = '';\n",
              "        dataTable['output_type'] = 'display_data';\n",
              "        await google.colab.output.renderOutput(dataTable, element);\n",
              "        const docLink = document.createElement('div');\n",
              "        docLink.innerHTML = docLinkHtml;\n",
              "        element.appendChild(docLink);\n",
              "      }\n",
              "    </script>\n",
              "  </div>\n",
              "\n",
              "\n",
              "<div id=\"df-440a45dd-ed2c-4aa4-b04f-1cd74284af94\">\n",
              "  <button class=\"colab-df-quickchart\" onclick=\"quickchart('df-440a45dd-ed2c-4aa4-b04f-1cd74284af94')\"\n",
              "            title=\"Suggest charts\"\n",
              "            style=\"display:none;\">\n",
              "\n",
              "<svg xmlns=\"http://www.w3.org/2000/svg\" height=\"24px\"viewBox=\"0 0 24 24\"\n",
              "     width=\"24px\">\n",
              "    <g>\n",
              "        <path d=\"M19 3H5c-1.1 0-2 .9-2 2v14c0 1.1.9 2 2 2h14c1.1 0 2-.9 2-2V5c0-1.1-.9-2-2-2zM9 17H7v-7h2v7zm4 0h-2V7h2v10zm4 0h-2v-4h2v4z\"/>\n",
              "    </g>\n",
              "</svg>\n",
              "  </button>\n",
              "\n",
              "<style>\n",
              "  .colab-df-quickchart {\n",
              "      --bg-color: #E8F0FE;\n",
              "      --fill-color: #1967D2;\n",
              "      --hover-bg-color: #E2EBFA;\n",
              "      --hover-fill-color: #174EA6;\n",
              "      --disabled-fill-color: #AAA;\n",
              "      --disabled-bg-color: #DDD;\n",
              "  }\n",
              "\n",
              "  [theme=dark] .colab-df-quickchart {\n",
              "      --bg-color: #3B4455;\n",
              "      --fill-color: #D2E3FC;\n",
              "      --hover-bg-color: #434B5C;\n",
              "      --hover-fill-color: #FFFFFF;\n",
              "      --disabled-bg-color: #3B4455;\n",
              "      --disabled-fill-color: #666;\n",
              "  }\n",
              "\n",
              "  .colab-df-quickchart {\n",
              "    background-color: var(--bg-color);\n",
              "    border: none;\n",
              "    border-radius: 50%;\n",
              "    cursor: pointer;\n",
              "    display: none;\n",
              "    fill: var(--fill-color);\n",
              "    height: 32px;\n",
              "    padding: 0;\n",
              "    width: 32px;\n",
              "  }\n",
              "\n",
              "  .colab-df-quickchart:hover {\n",
              "    background-color: var(--hover-bg-color);\n",
              "    box-shadow: 0 1px 2px rgba(60, 64, 67, 0.3), 0 1px 3px 1px rgba(60, 64, 67, 0.15);\n",
              "    fill: var(--button-hover-fill-color);\n",
              "  }\n",
              "\n",
              "  .colab-df-quickchart-complete:disabled,\n",
              "  .colab-df-quickchart-complete:disabled:hover {\n",
              "    background-color: var(--disabled-bg-color);\n",
              "    fill: var(--disabled-fill-color);\n",
              "    box-shadow: none;\n",
              "  }\n",
              "\n",
              "  .colab-df-spinner {\n",
              "    border: 2px solid var(--fill-color);\n",
              "    border-color: transparent;\n",
              "    border-bottom-color: var(--fill-color);\n",
              "    animation:\n",
              "      spin 1s steps(1) infinite;\n",
              "  }\n",
              "\n",
              "  @keyframes spin {\n",
              "    0% {\n",
              "      border-color: transparent;\n",
              "      border-bottom-color: var(--fill-color);\n",
              "      border-left-color: var(--fill-color);\n",
              "    }\n",
              "    20% {\n",
              "      border-color: transparent;\n",
              "      border-left-color: var(--fill-color);\n",
              "      border-top-color: var(--fill-color);\n",
              "    }\n",
              "    30% {\n",
              "      border-color: transparent;\n",
              "      border-left-color: var(--fill-color);\n",
              "      border-top-color: var(--fill-color);\n",
              "      border-right-color: var(--fill-color);\n",
              "    }\n",
              "    40% {\n",
              "      border-color: transparent;\n",
              "      border-right-color: var(--fill-color);\n",
              "      border-top-color: var(--fill-color);\n",
              "    }\n",
              "    60% {\n",
              "      border-color: transparent;\n",
              "      border-right-color: var(--fill-color);\n",
              "    }\n",
              "    80% {\n",
              "      border-color: transparent;\n",
              "      border-right-color: var(--fill-color);\n",
              "      border-bottom-color: var(--fill-color);\n",
              "    }\n",
              "    90% {\n",
              "      border-color: transparent;\n",
              "      border-bottom-color: var(--fill-color);\n",
              "    }\n",
              "  }\n",
              "</style>\n",
              "\n",
              "  <script>\n",
              "    async function quickchart(key) {\n",
              "      const quickchartButtonEl =\n",
              "        document.querySelector('#' + key + ' button');\n",
              "      quickchartButtonEl.disabled = true;  // To prevent multiple clicks.\n",
              "      quickchartButtonEl.classList.add('colab-df-spinner');\n",
              "      try {\n",
              "        const charts = await google.colab.kernel.invokeFunction(\n",
              "            'suggestCharts', [key], {});\n",
              "      } catch (error) {\n",
              "        console.error('Error during call to suggestCharts:', error);\n",
              "      }\n",
              "      quickchartButtonEl.classList.remove('colab-df-spinner');\n",
              "      quickchartButtonEl.classList.add('colab-df-quickchart-complete');\n",
              "    }\n",
              "    (() => {\n",
              "      let quickchartButtonEl =\n",
              "        document.querySelector('#df-440a45dd-ed2c-4aa4-b04f-1cd74284af94 button');\n",
              "      quickchartButtonEl.style.display =\n",
              "        google.colab.kernel.accessAllowed ? 'block' : 'none';\n",
              "    })();\n",
              "  </script>\n",
              "</div>\n",
              "\n",
              "    </div>\n",
              "  </div>\n"
            ],
            "application/vnd.google.colaboratory.intrinsic+json": {
              "type": "dataframe",
              "summary": "{\n  \"name\": \"print(\\\"Mejores lambdas:\\\", mejores_lambdas)\",\n  \"rows\": 3,\n  \"fields\": [\n    {\n      \"column\": \"fit_time\",\n      \"properties\": {\n        \"dtype\": \"number\",\n        \"std\": 0.00022316492684747567,\n        \"min\": 0.0014273166656494141,\n        \"max\": 0.0018629074096679688,\n        \"num_unique_values\": 3,\n        \"samples\": [\n          0.0018629074096679688,\n          0.0017293930053710938,\n          0.0014273166656494141\n        ],\n        \"semantic_type\": \"\",\n        \"description\": \"\"\n      }\n    },\n    {\n      \"column\": \"score_time\",\n      \"properties\": {\n        \"dtype\": \"number\",\n        \"std\": 0.015929764120719555,\n        \"min\": 0.02882862091064453,\n        \"max\": 0.05972747802734375,\n        \"num_unique_values\": 3,\n        \"samples\": [\n          0.02882862091064453,\n          0.03755364418029785,\n          0.05972747802734375\n        ],\n        \"semantic_type\": \"\",\n        \"description\": \"\"\n      }\n    },\n    {\n      \"column\": \"test_r2\",\n      \"properties\": {\n        \"dtype\": \"number\",\n        \"std\": 0.23291319148980474,\n        \"min\": 0.08865783469759018,\n        \"max\": 0.512945201110218,\n        \"num_unique_values\": 3,\n        \"samples\": [\n          0.13427573210219487,\n          0.512945201110218,\n          0.08865783469759018\n        ],\n        \"semantic_type\": \"\",\n        \"description\": \"\"\n      }\n    },\n    {\n      \"column\": \"train_r2\",\n      \"properties\": {\n        \"dtype\": \"number\",\n        \"std\": 0.06942502462954657,\n        \"min\": 0.6450763836540505,\n        \"max\": 0.7756906993459172,\n        \"num_unique_values\": 3,\n        \"samples\": [\n          0.7756906993459172,\n          0.6450763836540505,\n          0.6695861452999996\n        ],\n        \"semantic_type\": \"\",\n        \"description\": \"\"\n      }\n    },\n    {\n      \"column\": \"test_mse\",\n      \"properties\": {\n        \"dtype\": \"number\",\n        \"std\": 869791.3971798677,\n        \"min\": 1825899.9988865193,\n        \"max\": 3412701.635258437,\n        \"num_unique_values\": 3,\n        \"samples\": [\n          3236679.670718983,\n          1825899.9988865193,\n          3412701.635258437\n        ],\n        \"semantic_type\": \"\",\n        \"description\": \"\"\n      }\n    },\n    {\n      \"column\": \"train_mse\",\n      \"properties\": {\n        \"dtype\": \"number\",\n        \"std\": 260104.836482431,\n        \"min\": 840566.7313359042,\n        \"max\": 1329911.9818112992,\n        \"num_unique_values\": 3,\n        \"samples\": [\n          840566.7313359042,\n          1329911.9818112992,\n          1238110.2081527573\n        ],\n        \"semantic_type\": \"\",\n        \"description\": \"\"\n      }\n    },\n    {\n      \"column\": \"test_mae\",\n      \"properties\": {\n        \"dtype\": \"number\",\n        \"std\": 197.17563673668357,\n        \"min\": 1101.9655075837309,\n        \"max\": 1466.0723759691045,\n        \"num_unique_values\": 3,\n        \"samples\": [\n          1415.1842438326282,\n          1101.9655075837309,\n          1466.0723759691045\n        ],\n        \"semantic_type\": \"\",\n        \"description\": \"\"\n      }\n    },\n    {\n      \"column\": \"train_mae\",\n      \"properties\": {\n        \"dtype\": \"number\",\n        \"std\": 101.76221129960936,\n        \"min\": 747.9494700454151,\n        \"max\": 939.9942392615894,\n        \"num_unique_values\": 3,\n        \"samples\": [\n          747.9494700454151,\n          939.9942392615894,\n          902.3306406954409\n        ],\n        \"semantic_type\": \"\",\n        \"description\": \"\"\n      }\n    },\n    {\n      \"column\": \"test_rmse\",\n      \"properties\": {\n        \"dtype\": \"number\",\n        \"std\": 273.89044997855603,\n        \"min\": 1349.114459805123,\n        \"max\": 1845.4466241459413,\n        \"num_unique_values\": 3,\n        \"samples\": [\n          1798.0010510146858,\n          1349.114459805123,\n          1845.4466241459413\n        ],\n        \"semantic_type\": \"\",\n        \"description\": \"\"\n      }\n    },\n    {\n      \"column\": \"train_rmse\",\n      \"properties\": {\n        \"dtype\": \"number\",\n        \"std\": 126.42822042403797,\n        \"min\": 916.7707589177941,\n        \"max\": 1153.1805620345715,\n        \"num_unique_values\": 3,\n        \"samples\": [\n          916.7707589177941,\n          1153.1805620345715,\n          1112.661492527351\n        ],\n        \"semantic_type\": \"\",\n        \"description\": \"\"\n      }\n    }\n  ]\n}"
            }
          },
          "metadata": {}
        },
        {
          "output_type": "stream",
          "name": "stdout",
          "text": [
            "Mejores lambdas: {'epanechnikov': 0.01, 'gaussian': 0.51, 'tricube': 1.01}\n"
          ]
        }
      ],
      "source": [
        "X = df.drop(columns='cnt')\n",
        "y = df['cnt']\n",
        "X_values, y_values = X.to_numpy(), y.to_numpy()\n",
        "\n",
        "resultados, mejores_lambdas = evaluar_kernel(\n",
        "    X_values,\n",
        "    y_values,\n",
        "    lmbdas=np.arange(0.01, 10, 0.5),\n",
        "    tipos=[\"epanechnikov\", \"gaussian\", \"tricube\"],\n",
        ")\n",
        "\n",
        "print(\"Mejores lambdas:\", mejores_lambdas)"
      ]
    },
    {
      "cell_type": "markdown",
      "source": [
        "Al momento de analizar las métricas, se identifica que aplicar un kernel gaussiano resulta ser la mejor opción. La razón principal para eso es que las métricas tanto en entrenamiento como en testeo son similares. Esto es un aspecto determinante, dado  que cuando hay demasiada diferencia entre las métricas (como en epanechnikov y tricube) implica que hay un sobreajuste. En este caso, el sobreajuste en epanechnikov es bastante grande, dado que en train_r2 se tiene 0.77 y en test_r2 se tiene 0.134; lo cual es casi que 7 veces más pequeño. Además, esta situación se presenta tambien en las otras métricas. De manera similar, en tricube train_r2 = 0.669 y test_r2 = 0.088; lo cual también representa una diferencia demasiado alta que no debería existir."
      ],
      "metadata": {
        "id": "LKSHwJLwM6eJ"
      }
    },
    {
      "cell_type": "markdown",
      "source": [
        "### Ajuste modelo final"
      ],
      "metadata": {
        "id": "WZaS2Up5ON6G"
      }
    },
    {
      "cell_type": "markdown",
      "source": [
        "Entrenamos un kernel gausiano com lambda=0.51 que fue el que resultó ser el mejor después de nuestros análisis. Dado que fue el mejor tras hacer validación cruzada, entrenamos con todo el dataset para que posteriormente se pueda hacer testeo con los datos que desconocemos."
      ],
      "metadata": {
        "id": "drXt9xRiUMB-"
      }
    },
    {
      "cell_type": "code",
      "source": [
        "X = df.drop(columns=['cnt'])\n",
        "y = df['cnt']\n",
        "\n",
        "gaussian_model = KernelRegression(lmbda=0.51, tipo=\"gaussian\")\n",
        "\n",
        "gaussian_model.fit(X, y)"
      ],
      "metadata": {
        "colab": {
          "base_uri": "https://localhost:8080/",
          "height": 75
        },
        "id": "ke_fKi7jONME",
        "outputId": "4ba7dd7d-7777-4fff-e4b1-7af2c3975bc7"
      },
      "execution_count": null,
      "outputs": [
        {
          "output_type": "execute_result",
          "data": {
            "text/plain": [
              "KernelRegression(lmbda=0.51, tipo='gaussian')"
            ],
            "text/html": [
              "<style>#sk-container-id-1 {color: black;background-color: white;}#sk-container-id-1 pre{padding: 0;}#sk-container-id-1 div.sk-toggleable {background-color: white;}#sk-container-id-1 label.sk-toggleable__label {cursor: pointer;display: block;width: 100%;margin-bottom: 0;padding: 0.3em;box-sizing: border-box;text-align: center;}#sk-container-id-1 label.sk-toggleable__label-arrow:before {content: \"▸\";float: left;margin-right: 0.25em;color: #696969;}#sk-container-id-1 label.sk-toggleable__label-arrow:hover:before {color: black;}#sk-container-id-1 div.sk-estimator:hover label.sk-toggleable__label-arrow:before {color: black;}#sk-container-id-1 div.sk-toggleable__content {max-height: 0;max-width: 0;overflow: hidden;text-align: left;background-color: #f0f8ff;}#sk-container-id-1 div.sk-toggleable__content pre {margin: 0.2em;color: black;border-radius: 0.25em;background-color: #f0f8ff;}#sk-container-id-1 input.sk-toggleable__control:checked~div.sk-toggleable__content {max-height: 200px;max-width: 100%;overflow: auto;}#sk-container-id-1 input.sk-toggleable__control:checked~label.sk-toggleable__label-arrow:before {content: \"▾\";}#sk-container-id-1 div.sk-estimator input.sk-toggleable__control:checked~label.sk-toggleable__label {background-color: #d4ebff;}#sk-container-id-1 div.sk-label input.sk-toggleable__control:checked~label.sk-toggleable__label {background-color: #d4ebff;}#sk-container-id-1 input.sk-hidden--visually {border: 0;clip: rect(1px 1px 1px 1px);clip: rect(1px, 1px, 1px, 1px);height: 1px;margin: -1px;overflow: hidden;padding: 0;position: absolute;width: 1px;}#sk-container-id-1 div.sk-estimator {font-family: monospace;background-color: #f0f8ff;border: 1px dotted black;border-radius: 0.25em;box-sizing: border-box;margin-bottom: 0.5em;}#sk-container-id-1 div.sk-estimator:hover {background-color: #d4ebff;}#sk-container-id-1 div.sk-parallel-item::after {content: \"\";width: 100%;border-bottom: 1px solid gray;flex-grow: 1;}#sk-container-id-1 div.sk-label:hover label.sk-toggleable__label {background-color: #d4ebff;}#sk-container-id-1 div.sk-serial::before {content: \"\";position: absolute;border-left: 1px solid gray;box-sizing: border-box;top: 0;bottom: 0;left: 50%;z-index: 0;}#sk-container-id-1 div.sk-serial {display: flex;flex-direction: column;align-items: center;background-color: white;padding-right: 0.2em;padding-left: 0.2em;position: relative;}#sk-container-id-1 div.sk-item {position: relative;z-index: 1;}#sk-container-id-1 div.sk-parallel {display: flex;align-items: stretch;justify-content: center;background-color: white;position: relative;}#sk-container-id-1 div.sk-item::before, #sk-container-id-1 div.sk-parallel-item::before {content: \"\";position: absolute;border-left: 1px solid gray;box-sizing: border-box;top: 0;bottom: 0;left: 50%;z-index: -1;}#sk-container-id-1 div.sk-parallel-item {display: flex;flex-direction: column;z-index: 1;position: relative;background-color: white;}#sk-container-id-1 div.sk-parallel-item:first-child::after {align-self: flex-end;width: 50%;}#sk-container-id-1 div.sk-parallel-item:last-child::after {align-self: flex-start;width: 50%;}#sk-container-id-1 div.sk-parallel-item:only-child::after {width: 0;}#sk-container-id-1 div.sk-dashed-wrapped {border: 1px dashed gray;margin: 0 0.4em 0.5em 0.4em;box-sizing: border-box;padding-bottom: 0.4em;background-color: white;}#sk-container-id-1 div.sk-label label {font-family: monospace;font-weight: bold;display: inline-block;line-height: 1.2em;}#sk-container-id-1 div.sk-label-container {text-align: center;}#sk-container-id-1 div.sk-container {/* jupyter's `normalize.less` sets `[hidden] { display: none; }` but bootstrap.min.css set `[hidden] { display: none !important; }` so we also need the `!important` here to be able to override the default hidden behavior on the sphinx rendered scikit-learn.org. See: https://github.com/scikit-learn/scikit-learn/issues/21755 */display: inline-block !important;position: relative;}#sk-container-id-1 div.sk-text-repr-fallback {display: none;}</style><div id=\"sk-container-id-1\" class=\"sk-top-container\"><div class=\"sk-text-repr-fallback\"><pre>KernelRegression(lmbda=0.51, tipo=&#x27;gaussian&#x27;)</pre><b>In a Jupyter environment, please rerun this cell to show the HTML representation or trust the notebook. <br />On GitHub, the HTML representation is unable to render, please try loading this page with nbviewer.org.</b></div><div class=\"sk-container\" hidden><div class=\"sk-item\"><div class=\"sk-estimator sk-toggleable\"><input class=\"sk-toggleable__control sk-hidden--visually\" id=\"sk-estimator-id-1\" type=\"checkbox\" checked><label for=\"sk-estimator-id-1\" class=\"sk-toggleable__label sk-toggleable__label-arrow\">KernelRegression</label><div class=\"sk-toggleable__content\"><pre>KernelRegression(lmbda=0.51, tipo=&#x27;gaussian&#x27;)</pre></div></div></div></div></div>"
            ]
          },
          "metadata": {},
          "execution_count": 72
        }
      ]
    }
  ],
  "metadata": {
    "colab": {
      "provenance": [],
      "toc_visible": true
    },
    "kernelspec": {
      "display_name": "Python 3",
      "name": "python3"
    },
    "language_info": {
      "name": "python"
    },
    "widgets": {
      "application/vnd.jupyter.widget-state+json": {
        "230fa860d7fb40148632580e450d76f2": {
          "model_module": "@jupyter-widgets/controls",
          "model_name": "VBoxModel",
          "model_module_version": "1.5.0",
          "state": {
            "_dom_classes": [
              "widget-interact"
            ],
            "_model_module": "@jupyter-widgets/controls",
            "_model_module_version": "1.5.0",
            "_model_name": "VBoxModel",
            "_view_count": null,
            "_view_module": "@jupyter-widgets/controls",
            "_view_module_version": "1.5.0",
            "_view_name": "VBoxView",
            "box_style": "",
            "children": [
              "IPY_MODEL_b043fb2e8b6f422ba78c66911ed63d47",
              "IPY_MODEL_3612b1a5e2b44e20a156595e03cf4566"
            ],
            "layout": "IPY_MODEL_4cb5baea40da458698975e3e309bbfe6"
          }
        },
        "b043fb2e8b6f422ba78c66911ed63d47": {
          "model_module": "@jupyter-widgets/controls",
          "model_name": "DropdownModel",
          "model_module_version": "1.5.0",
          "state": {
            "_dom_classes": [],
            "_model_module": "@jupyter-widgets/controls",
            "_model_module_version": "1.5.0",
            "_model_name": "DropdownModel",
            "_options_labels": [
              "temp",
              "atemp",
              "hum",
              "windspeed",
              "casual",
              "registered"
            ],
            "_view_count": null,
            "_view_module": "@jupyter-widgets/controls",
            "_view_module_version": "1.5.0",
            "_view_name": "DropdownView",
            "description": "Variable:",
            "description_tooltip": null,
            "disabled": false,
            "index": 0,
            "layout": "IPY_MODEL_aae442e489a5437d8f39dc365a36d054",
            "style": "IPY_MODEL_8d71ed41e8784e5cbf6b7579229befea"
          }
        },
        "3612b1a5e2b44e20a156595e03cf4566": {
          "model_module": "@jupyter-widgets/output",
          "model_name": "OutputModel",
          "model_module_version": "1.0.0",
          "state": {
            "_dom_classes": [],
            "_model_module": "@jupyter-widgets/output",
            "_model_module_version": "1.0.0",
            "_model_name": "OutputModel",
            "_view_count": null,
            "_view_module": "@jupyter-widgets/output",
            "_view_module_version": "1.0.0",
            "_view_name": "OutputView",
            "layout": "IPY_MODEL_f662b76c6b5d4727a3b69c03aed78059",
            "msg_id": "",
            "outputs": [
              {
                "output_type": "display_data",
                "data": {
                  "text/plain": "<Figure size 1000x600 with 1 Axes>",
                  "image/png": "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\n"
                },
                "metadata": {}
              }
            ]
          }
        },
        "4cb5baea40da458698975e3e309bbfe6": {
          "model_module": "@jupyter-widgets/base",
          "model_name": "LayoutModel",
          "model_module_version": "1.2.0",
          "state": {
            "_model_module": "@jupyter-widgets/base",
            "_model_module_version": "1.2.0",
            "_model_name": "LayoutModel",
            "_view_count": null,
            "_view_module": "@jupyter-widgets/base",
            "_view_module_version": "1.2.0",
            "_view_name": "LayoutView",
            "align_content": null,
            "align_items": null,
            "align_self": null,
            "border": null,
            "bottom": null,
            "display": null,
            "flex": null,
            "flex_flow": null,
            "grid_area": null,
            "grid_auto_columns": null,
            "grid_auto_flow": null,
            "grid_auto_rows": null,
            "grid_column": null,
            "grid_gap": null,
            "grid_row": null,
            "grid_template_areas": null,
            "grid_template_columns": null,
            "grid_template_rows": null,
            "height": null,
            "justify_content": null,
            "justify_items": null,
            "left": null,
            "margin": null,
            "max_height": null,
            "max_width": null,
            "min_height": null,
            "min_width": null,
            "object_fit": null,
            "object_position": null,
            "order": null,
            "overflow": null,
            "overflow_x": null,
            "overflow_y": null,
            "padding": null,
            "right": null,
            "top": null,
            "visibility": null,
            "width": null
          }
        },
        "aae442e489a5437d8f39dc365a36d054": {
          "model_module": "@jupyter-widgets/base",
          "model_name": "LayoutModel",
          "model_module_version": "1.2.0",
          "state": {
            "_model_module": "@jupyter-widgets/base",
            "_model_module_version": "1.2.0",
            "_model_name": "LayoutModel",
            "_view_count": null,
            "_view_module": "@jupyter-widgets/base",
            "_view_module_version": "1.2.0",
            "_view_name": "LayoutView",
            "align_content": null,
            "align_items": null,
            "align_self": null,
            "border": null,
            "bottom": null,
            "display": null,
            "flex": null,
            "flex_flow": null,
            "grid_area": null,
            "grid_auto_columns": null,
            "grid_auto_flow": null,
            "grid_auto_rows": null,
            "grid_column": null,
            "grid_gap": null,
            "grid_row": null,
            "grid_template_areas": null,
            "grid_template_columns": null,
            "grid_template_rows": null,
            "height": null,
            "justify_content": null,
            "justify_items": null,
            "left": null,
            "margin": null,
            "max_height": null,
            "max_width": null,
            "min_height": null,
            "min_width": null,
            "object_fit": null,
            "object_position": null,
            "order": null,
            "overflow": null,
            "overflow_x": null,
            "overflow_y": null,
            "padding": null,
            "right": null,
            "top": null,
            "visibility": null,
            "width": null
          }
        },
        "8d71ed41e8784e5cbf6b7579229befea": {
          "model_module": "@jupyter-widgets/controls",
          "model_name": "DescriptionStyleModel",
          "model_module_version": "1.5.0",
          "state": {
            "_model_module": "@jupyter-widgets/controls",
            "_model_module_version": "1.5.0",
            "_model_name": "DescriptionStyleModel",
            "_view_count": null,
            "_view_module": "@jupyter-widgets/base",
            "_view_module_version": "1.2.0",
            "_view_name": "StyleView",
            "description_width": ""
          }
        },
        "f662b76c6b5d4727a3b69c03aed78059": {
          "model_module": "@jupyter-widgets/base",
          "model_name": "LayoutModel",
          "model_module_version": "1.2.0",
          "state": {
            "_model_module": "@jupyter-widgets/base",
            "_model_module_version": "1.2.0",
            "_model_name": "LayoutModel",
            "_view_count": null,
            "_view_module": "@jupyter-widgets/base",
            "_view_module_version": "1.2.0",
            "_view_name": "LayoutView",
            "align_content": null,
            "align_items": null,
            "align_self": null,
            "border": null,
            "bottom": null,
            "display": null,
            "flex": null,
            "flex_flow": null,
            "grid_area": null,
            "grid_auto_columns": null,
            "grid_auto_flow": null,
            "grid_auto_rows": null,
            "grid_column": null,
            "grid_gap": null,
            "grid_row": null,
            "grid_template_areas": null,
            "grid_template_columns": null,
            "grid_template_rows": null,
            "height": null,
            "justify_content": null,
            "justify_items": null,
            "left": null,
            "margin": null,
            "max_height": null,
            "max_width": null,
            "min_height": null,
            "min_width": null,
            "object_fit": null,
            "object_position": null,
            "order": null,
            "overflow": null,
            "overflow_x": null,
            "overflow_y": null,
            "padding": null,
            "right": null,
            "top": null,
            "visibility": null,
            "width": null
          }
        },
        "094a1ebefdf84e5bb238940816e9eac3": {
          "model_module": "@jupyter-widgets/controls",
          "model_name": "VBoxModel",
          "model_module_version": "1.5.0",
          "state": {
            "_dom_classes": [
              "widget-interact"
            ],
            "_model_module": "@jupyter-widgets/controls",
            "_model_module_version": "1.5.0",
            "_model_name": "VBoxModel",
            "_view_count": null,
            "_view_module": "@jupyter-widgets/controls",
            "_view_module_version": "1.5.0",
            "_view_name": "VBoxView",
            "box_style": "",
            "children": [
              "IPY_MODEL_34713b3eea594eb3a5e0e180fc55de0f",
              "IPY_MODEL_de30fc0807b54fbcb79b934a07c71158"
            ],
            "layout": "IPY_MODEL_40d71d35f6a04a929772fff4cba8884a"
          }
        },
        "34713b3eea594eb3a5e0e180fc55de0f": {
          "model_module": "@jupyter-widgets/controls",
          "model_name": "DropdownModel",
          "model_module_version": "1.5.0",
          "state": {
            "_dom_classes": [],
            "_model_module": "@jupyter-widgets/controls",
            "_model_module_version": "1.5.0",
            "_model_name": "DropdownModel",
            "_options_labels": [
              "temp",
              "atemp",
              "hum",
              "windspeed",
              "casual",
              "registered"
            ],
            "_view_count": null,
            "_view_module": "@jupyter-widgets/controls",
            "_view_module_version": "1.5.0",
            "_view_name": "DropdownView",
            "description": "Columna:",
            "description_tooltip": null,
            "disabled": false,
            "index": 0,
            "layout": "IPY_MODEL_12e1680099604ea88f67a739799e2633",
            "style": "IPY_MODEL_dc1e0bab20b94a32a2f898d0501b2ae9"
          }
        },
        "de30fc0807b54fbcb79b934a07c71158": {
          "model_module": "@jupyter-widgets/output",
          "model_name": "OutputModel",
          "model_module_version": "1.0.0",
          "state": {
            "_dom_classes": [],
            "_model_module": "@jupyter-widgets/output",
            "_model_module_version": "1.0.0",
            "_model_name": "OutputModel",
            "_view_count": null,
            "_view_module": "@jupyter-widgets/output",
            "_view_module_version": "1.0.0",
            "_view_name": "OutputView",
            "layout": "IPY_MODEL_4f5cba82991344e49c2e972d3797a7c0",
            "msg_id": "",
            "outputs": [
              {
                "output_type": "display_data",
                "data": {
                  "text/plain": "<Figure size 1000x600 with 1 Axes>",
                  "image/png": "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\n"
                },
                "metadata": {}
              }
            ]
          }
        },
        "40d71d35f6a04a929772fff4cba8884a": {
          "model_module": "@jupyter-widgets/base",
          "model_name": "LayoutModel",
          "model_module_version": "1.2.0",
          "state": {
            "_model_module": "@jupyter-widgets/base",
            "_model_module_version": "1.2.0",
            "_model_name": "LayoutModel",
            "_view_count": null,
            "_view_module": "@jupyter-widgets/base",
            "_view_module_version": "1.2.0",
            "_view_name": "LayoutView",
            "align_content": null,
            "align_items": null,
            "align_self": null,
            "border": null,
            "bottom": null,
            "display": null,
            "flex": null,
            "flex_flow": null,
            "grid_area": null,
            "grid_auto_columns": null,
            "grid_auto_flow": null,
            "grid_auto_rows": null,
            "grid_column": null,
            "grid_gap": null,
            "grid_row": null,
            "grid_template_areas": null,
            "grid_template_columns": null,
            "grid_template_rows": null,
            "height": null,
            "justify_content": null,
            "justify_items": null,
            "left": null,
            "margin": null,
            "max_height": null,
            "max_width": null,
            "min_height": null,
            "min_width": null,
            "object_fit": null,
            "object_position": null,
            "order": null,
            "overflow": null,
            "overflow_x": null,
            "overflow_y": null,
            "padding": null,
            "right": null,
            "top": null,
            "visibility": null,
            "width": null
          }
        },
        "12e1680099604ea88f67a739799e2633": {
          "model_module": "@jupyter-widgets/base",
          "model_name": "LayoutModel",
          "model_module_version": "1.2.0",
          "state": {
            "_model_module": "@jupyter-widgets/base",
            "_model_module_version": "1.2.0",
            "_model_name": "LayoutModel",
            "_view_count": null,
            "_view_module": "@jupyter-widgets/base",
            "_view_module_version": "1.2.0",
            "_view_name": "LayoutView",
            "align_content": null,
            "align_items": null,
            "align_self": null,
            "border": null,
            "bottom": null,
            "display": null,
            "flex": null,
            "flex_flow": null,
            "grid_area": null,
            "grid_auto_columns": null,
            "grid_auto_flow": null,
            "grid_auto_rows": null,
            "grid_column": null,
            "grid_gap": null,
            "grid_row": null,
            "grid_template_areas": null,
            "grid_template_columns": null,
            "grid_template_rows": null,
            "height": null,
            "justify_content": null,
            "justify_items": null,
            "left": null,
            "margin": null,
            "max_height": null,
            "max_width": null,
            "min_height": null,
            "min_width": null,
            "object_fit": null,
            "object_position": null,
            "order": null,
            "overflow": null,
            "overflow_x": null,
            "overflow_y": null,
            "padding": null,
            "right": null,
            "top": null,
            "visibility": null,
            "width": null
          }
        },
        "dc1e0bab20b94a32a2f898d0501b2ae9": {
          "model_module": "@jupyter-widgets/controls",
          "model_name": "DescriptionStyleModel",
          "model_module_version": "1.5.0",
          "state": {
            "_model_module": "@jupyter-widgets/controls",
            "_model_module_version": "1.5.0",
            "_model_name": "DescriptionStyleModel",
            "_view_count": null,
            "_view_module": "@jupyter-widgets/base",
            "_view_module_version": "1.2.0",
            "_view_name": "StyleView",
            "description_width": ""
          }
        },
        "4f5cba82991344e49c2e972d3797a7c0": {
          "model_module": "@jupyter-widgets/base",
          "model_name": "LayoutModel",
          "model_module_version": "1.2.0",
          "state": {
            "_model_module": "@jupyter-widgets/base",
            "_model_module_version": "1.2.0",
            "_model_name": "LayoutModel",
            "_view_count": null,
            "_view_module": "@jupyter-widgets/base",
            "_view_module_version": "1.2.0",
            "_view_name": "LayoutView",
            "align_content": null,
            "align_items": null,
            "align_self": null,
            "border": null,
            "bottom": null,
            "display": null,
            "flex": null,
            "flex_flow": null,
            "grid_area": null,
            "grid_auto_columns": null,
            "grid_auto_flow": null,
            "grid_auto_rows": null,
            "grid_column": null,
            "grid_gap": null,
            "grid_row": null,
            "grid_template_areas": null,
            "grid_template_columns": null,
            "grid_template_rows": null,
            "height": null,
            "justify_content": null,
            "justify_items": null,
            "left": null,
            "margin": null,
            "max_height": null,
            "max_width": null,
            "min_height": null,
            "min_width": null,
            "object_fit": null,
            "object_position": null,
            "order": null,
            "overflow": null,
            "overflow_x": null,
            "overflow_y": null,
            "padding": null,
            "right": null,
            "top": null,
            "visibility": null,
            "width": null
          }
        },
        "7f2fbcf143c6479e8a038dc5373476cb": {
          "model_module": "@jupyter-widgets/controls",
          "model_name": "VBoxModel",
          "model_module_version": "1.5.0",
          "state": {
            "_dom_classes": [
              "widget-interact"
            ],
            "_model_module": "@jupyter-widgets/controls",
            "_model_module_version": "1.5.0",
            "_model_name": "VBoxModel",
            "_view_count": null,
            "_view_module": "@jupyter-widgets/controls",
            "_view_module_version": "1.5.0",
            "_view_name": "VBoxView",
            "box_style": "",
            "children": [
              "IPY_MODEL_698e4836cea64178872cff7482e64b79",
              "IPY_MODEL_dbb8433a264f41c0ac7e8acead6be61e"
            ],
            "layout": "IPY_MODEL_3ab7fdabae914127a1b763449ddc8ca6"
          }
        },
        "698e4836cea64178872cff7482e64b79": {
          "model_module": "@jupyter-widgets/controls",
          "model_name": "DropdownModel",
          "model_module_version": "1.5.0",
          "state": {
            "_dom_classes": [],
            "_model_module": "@jupyter-widgets/controls",
            "_model_module_version": "1.5.0",
            "_model_name": "DropdownModel",
            "_options_labels": [
              "season",
              "yr",
              "mnth",
              "holiday",
              "workingday",
              "weathersit",
              "temp",
              "atemp",
              "casual",
              "registered"
            ],
            "_view_count": null,
            "_view_module": "@jupyter-widgets/controls",
            "_view_module_version": "1.5.0",
            "_view_name": "DropdownView",
            "description": "Variable:",
            "description_tooltip": null,
            "disabled": false,
            "index": 0,
            "layout": "IPY_MODEL_f07dc2013bd64a20bef3db3694b69e4d",
            "style": "IPY_MODEL_121a988980374c1283b3679502031fc5"
          }
        },
        "dbb8433a264f41c0ac7e8acead6be61e": {
          "model_module": "@jupyter-widgets/output",
          "model_name": "OutputModel",
          "model_module_version": "1.0.0",
          "state": {
            "_dom_classes": [],
            "_model_module": "@jupyter-widgets/output",
            "_model_module_version": "1.0.0",
            "_model_name": "OutputModel",
            "_view_count": null,
            "_view_module": "@jupyter-widgets/output",
            "_view_module_version": "1.0.0",
            "_view_name": "OutputView",
            "layout": "IPY_MODEL_11ac02096f4c4583bfae19204a47f994",
            "msg_id": "",
            "outputs": [
              {
                "output_type": "display_data",
                "data": {
                  "text/plain": "    avg_rmse_train  avg_mae_train  avg_r2_train  avg_rmse_test  avg_mae_test  \\\nk                                                                              \n1      2039.965251    1629.674710     -0.115787    2024.062382   1638.069257   \n6      1706.116229    1363.852558      0.220126    1715.159661   1368.558694   \n11     1784.865301    1435.201492      0.147781    1790.433908   1440.642395   \n16     1807.484226    1460.721896      0.125291    1806.167366   1458.744377   \n21     1807.400074    1459.996039      0.124689    1803.995507   1445.859638   \n26     1737.041435    1394.289678      0.192733    1740.788382   1400.592485   \n31     1662.217277    1342.947389      0.261511    1669.757049   1355.029459   \n36     1619.307379    1322.023690      0.299489    1629.234035   1332.347110   \n41     1603.841726    1319.285932      0.312876    1615.223968   1331.030780   \n46     1615.599411    1335.486508      0.302803    1629.335471   1348.090744   \n51     1634.854297    1354.312290      0.286024    1654.719290   1371.904212   \n56     1636.756334    1356.060646      0.284199    1664.115187   1381.939124   \n61     1626.425860    1345.512259      0.293301    1648.463433   1366.994274   \n66     1629.534424    1347.059575      0.290616    1651.164207   1367.992634   \n71     1637.210140    1354.228563      0.283982    1657.906509   1374.755338   \n76     1640.231731    1359.585888      0.281375    1662.798800   1380.285060   \n81     1641.528619    1361.431010      0.280248    1667.927693   1384.758325   \n86     1635.532507    1354.686073      0.285445    1661.688521   1377.947304   \n91     1632.217738    1348.216884      0.288295    1656.449155   1368.881391   \n96     1630.386732    1344.117275      0.289897    1653.110827   1363.159176   \n\n    avg_r2_test  \nk                \n1     -0.131574  \n6      0.199073  \n11     0.128721  \n16     0.115826  \n21     0.118384  \n26     0.178142  \n31     0.242532  \n36     0.277920  \n41     0.289780  \n46     0.276969  \n51     0.254859  \n56     0.247144  \n61     0.261889  \n66     0.259498  \n71     0.253366  \n76     0.248398  \n81     0.243512  \n86     0.249219  \n91     0.254041  \n96     0.256931  ",
                  "text/html": "\n  <div id=\"df-6ea28b53-9911-40ee-b376-dfd4a6f50889\" class=\"colab-df-container\">\n    <div>\n<style scoped>\n    .dataframe tbody tr th:only-of-type {\n        vertical-align: middle;\n    }\n\n    .dataframe tbody tr th {\n        vertical-align: top;\n    }\n\n    .dataframe thead th {\n        text-align: right;\n    }\n</style>\n<table border=\"1\" class=\"dataframe\">\n  <thead>\n    <tr style=\"text-align: right;\">\n      <th></th>\n      <th>avg_rmse_train</th>\n      <th>avg_mae_train</th>\n      <th>avg_r2_train</th>\n      <th>avg_rmse_test</th>\n      <th>avg_mae_test</th>\n      <th>avg_r2_test</th>\n    </tr>\n    <tr>\n      <th>k</th>\n      <th></th>\n      <th></th>\n      <th></th>\n      <th></th>\n      <th></th>\n      <th></th>\n    </tr>\n  </thead>\n  <tbody>\n    <tr>\n      <th>1</th>\n      <td>2039.965251</td>\n      <td>1629.674710</td>\n      <td>-0.115787</td>\n      <td>2024.062382</td>\n      <td>1638.069257</td>\n      <td>-0.131574</td>\n    </tr>\n    <tr>\n      <th>6</th>\n      <td>1706.116229</td>\n      <td>1363.852558</td>\n      <td>0.220126</td>\n      <td>1715.159661</td>\n      <td>1368.558694</td>\n      <td>0.199073</td>\n    </tr>\n    <tr>\n      <th>11</th>\n      <td>1784.865301</td>\n      <td>1435.201492</td>\n      <td>0.147781</td>\n      <td>1790.433908</td>\n      <td>1440.642395</td>\n      <td>0.128721</td>\n    </tr>\n    <tr>\n      <th>16</th>\n      <td>1807.484226</td>\n      <td>1460.721896</td>\n      <td>0.125291</td>\n      <td>1806.167366</td>\n      <td>1458.744377</td>\n      <td>0.115826</td>\n    </tr>\n    <tr>\n      <th>21</th>\n      <td>1807.400074</td>\n      <td>1459.996039</td>\n      <td>0.124689</td>\n      <td>1803.995507</td>\n      <td>1445.859638</td>\n      <td>0.118384</td>\n    </tr>\n    <tr>\n      <th>26</th>\n      <td>1737.041435</td>\n      <td>1394.289678</td>\n      <td>0.192733</td>\n      <td>1740.788382</td>\n      <td>1400.592485</td>\n      <td>0.178142</td>\n    </tr>\n    <tr>\n      <th>31</th>\n      <td>1662.217277</td>\n      <td>1342.947389</td>\n      <td>0.261511</td>\n      <td>1669.757049</td>\n      <td>1355.029459</td>\n      <td>0.242532</td>\n    </tr>\n    <tr>\n      <th>36</th>\n      <td>1619.307379</td>\n      <td>1322.023690</td>\n      <td>0.299489</td>\n      <td>1629.234035</td>\n      <td>1332.347110</td>\n      <td>0.277920</td>\n    </tr>\n    <tr>\n      <th>41</th>\n      <td>1603.841726</td>\n      <td>1319.285932</td>\n      <td>0.312876</td>\n      <td>1615.223968</td>\n      <td>1331.030780</td>\n      <td>0.289780</td>\n    </tr>\n    <tr>\n      <th>46</th>\n      <td>1615.599411</td>\n      <td>1335.486508</td>\n      <td>0.302803</td>\n      <td>1629.335471</td>\n      <td>1348.090744</td>\n      <td>0.276969</td>\n    </tr>\n    <tr>\n      <th>51</th>\n      <td>1634.854297</td>\n      <td>1354.312290</td>\n      <td>0.286024</td>\n      <td>1654.719290</td>\n      <td>1371.904212</td>\n      <td>0.254859</td>\n    </tr>\n    <tr>\n      <th>56</th>\n      <td>1636.756334</td>\n      <td>1356.060646</td>\n      <td>0.284199</td>\n      <td>1664.115187</td>\n      <td>1381.939124</td>\n      <td>0.247144</td>\n    </tr>\n    <tr>\n      <th>61</th>\n      <td>1626.425860</td>\n      <td>1345.512259</td>\n      <td>0.293301</td>\n      <td>1648.463433</td>\n      <td>1366.994274</td>\n      <td>0.261889</td>\n    </tr>\n    <tr>\n      <th>66</th>\n      <td>1629.534424</td>\n      <td>1347.059575</td>\n      <td>0.290616</td>\n      <td>1651.164207</td>\n      <td>1367.992634</td>\n      <td>0.259498</td>\n    </tr>\n    <tr>\n      <th>71</th>\n      <td>1637.210140</td>\n      <td>1354.228563</td>\n      <td>0.283982</td>\n      <td>1657.906509</td>\n      <td>1374.755338</td>\n      <td>0.253366</td>\n    </tr>\n    <tr>\n      <th>76</th>\n      <td>1640.231731</td>\n      <td>1359.585888</td>\n      <td>0.281375</td>\n      <td>1662.798800</td>\n      <td>1380.285060</td>\n      <td>0.248398</td>\n    </tr>\n    <tr>\n      <th>81</th>\n      <td>1641.528619</td>\n      <td>1361.431010</td>\n      <td>0.280248</td>\n      <td>1667.927693</td>\n      <td>1384.758325</td>\n      <td>0.243512</td>\n    </tr>\n    <tr>\n      <th>86</th>\n      <td>1635.532507</td>\n      <td>1354.686073</td>\n      <td>0.285445</td>\n      <td>1661.688521</td>\n      <td>1377.947304</td>\n      <td>0.249219</td>\n    </tr>\n    <tr>\n      <th>91</th>\n      <td>1632.217738</td>\n      <td>1348.216884</td>\n      <td>0.288295</td>\n      <td>1656.449155</td>\n      <td>1368.881391</td>\n      <td>0.254041</td>\n    </tr>\n    <tr>\n      <th>96</th>\n      <td>1630.386732</td>\n      <td>1344.117275</td>\n      <td>0.289897</td>\n      <td>1653.110827</td>\n      <td>1363.159176</td>\n      <td>0.256931</td>\n    </tr>\n  </tbody>\n</table>\n</div>\n    <div class=\"colab-df-buttons\">\n\n  <div class=\"colab-df-container\">\n    <button class=\"colab-df-convert\" onclick=\"convertToInteractive('df-6ea28b53-9911-40ee-b376-dfd4a6f50889')\"\n            title=\"Convert this dataframe to an interactive table.\"\n            style=\"display:none;\">\n\n  <svg xmlns=\"http://www.w3.org/2000/svg\" height=\"24px\" viewBox=\"0 -960 960 960\">\n    <path d=\"M120-120v-720h720v720H120Zm60-500h600v-160H180v160Zm220 220h160v-160H400v160Zm0 220h160v-160H400v160ZM180-400h160v-160H180v160Zm440 0h160v-160H620v160ZM180-180h160v-160H180v160Zm440 0h160v-160H620v160Z\"/>\n  </svg>\n    </button>\n\n  <style>\n    .colab-df-container {\n      display:flex;\n      gap: 12px;\n    }\n\n    .colab-df-convert {\n      background-color: #E8F0FE;\n      border: none;\n      border-radius: 50%;\n      cursor: pointer;\n      display: none;\n      fill: #1967D2;\n      height: 32px;\n      padding: 0 0 0 0;\n      width: 32px;\n    }\n\n    .colab-df-convert:hover {\n      background-color: #E2EBFA;\n      box-shadow: 0px 1px 2px rgba(60, 64, 67, 0.3), 0px 1px 3px 1px rgba(60, 64, 67, 0.15);\n      fill: #174EA6;\n    }\n\n    .colab-df-buttons div {\n      margin-bottom: 4px;\n    }\n\n    [theme=dark] .colab-df-convert {\n      background-color: #3B4455;\n      fill: #D2E3FC;\n    }\n\n    [theme=dark] .colab-df-convert:hover {\n      background-color: #434B5C;\n      box-shadow: 0px 1px 3px 1px rgba(0, 0, 0, 0.15);\n      filter: drop-shadow(0px 1px 2px rgba(0, 0, 0, 0.3));\n      fill: #FFFFFF;\n    }\n  </style>\n\n    <script>\n      const buttonEl =\n        document.querySelector('#df-6ea28b53-9911-40ee-b376-dfd4a6f50889 button.colab-df-convert');\n      buttonEl.style.display =\n        google.colab.kernel.accessAllowed ? 'block' : 'none';\n\n      async function convertToInteractive(key) {\n        const element = document.querySelector('#df-6ea28b53-9911-40ee-b376-dfd4a6f50889');\n        const dataTable =\n          await google.colab.kernel.invokeFunction('convertToInteractive',\n                                                    [key], {});\n        if (!dataTable) return;\n\n        const docLinkHtml = 'Like what you see? Visit the ' +\n          '<a target=\"_blank\" href=https://colab.research.google.com/notebooks/data_table.ipynb>data table notebook</a>'\n          + ' to learn more about interactive tables.';\n        element.innerHTML = '';\n        dataTable['output_type'] = 'display_data';\n        await google.colab.output.renderOutput(dataTable, element);\n        const docLink = document.createElement('div');\n        docLink.innerHTML = docLinkHtml;\n        element.appendChild(docLink);\n      }\n    </script>\n  </div>\n\n\n<div id=\"df-3def0ed2-ecbd-4a05-9bc8-ed751d44963e\">\n  <button class=\"colab-df-quickchart\" onclick=\"quickchart('df-3def0ed2-ecbd-4a05-9bc8-ed751d44963e')\"\n            title=\"Suggest charts\"\n            style=\"display:none;\">\n\n<svg xmlns=\"http://www.w3.org/2000/svg\" height=\"24px\"viewBox=\"0 0 24 24\"\n     width=\"24px\">\n    <g>\n        <path d=\"M19 3H5c-1.1 0-2 .9-2 2v14c0 1.1.9 2 2 2h14c1.1 0 2-.9 2-2V5c0-1.1-.9-2-2-2zM9 17H7v-7h2v7zm4 0h-2V7h2v10zm4 0h-2v-4h2v4z\"/>\n    </g>\n</svg>\n  </button>\n\n<style>\n  .colab-df-quickchart {\n      --bg-color: #E8F0FE;\n      --fill-color: #1967D2;\n      --hover-bg-color: #E2EBFA;\n      --hover-fill-color: #174EA6;\n      --disabled-fill-color: #AAA;\n      --disabled-bg-color: #DDD;\n  }\n\n  [theme=dark] .colab-df-quickchart {\n      --bg-color: #3B4455;\n      --fill-color: #D2E3FC;\n      --hover-bg-color: #434B5C;\n      --hover-fill-color: #FFFFFF;\n      --disabled-bg-color: #3B4455;\n      --disabled-fill-color: #666;\n  }\n\n  .colab-df-quickchart {\n    background-color: var(--bg-color);\n    border: none;\n    border-radius: 50%;\n    cursor: pointer;\n    display: none;\n    fill: var(--fill-color);\n    height: 32px;\n    padding: 0;\n    width: 32px;\n  }\n\n  .colab-df-quickchart:hover {\n    background-color: var(--hover-bg-color);\n    box-shadow: 0 1px 2px rgba(60, 64, 67, 0.3), 0 1px 3px 1px rgba(60, 64, 67, 0.15);\n    fill: var(--button-hover-fill-color);\n  }\n\n  .colab-df-quickchart-complete:disabled,\n  .colab-df-quickchart-complete:disabled:hover {\n    background-color: var(--disabled-bg-color);\n    fill: var(--disabled-fill-color);\n    box-shadow: none;\n  }\n\n  .colab-df-spinner {\n    border: 2px solid var(--fill-color);\n    border-color: transparent;\n    border-bottom-color: var(--fill-color);\n    animation:\n      spin 1s steps(1) infinite;\n  }\n\n  @keyframes spin {\n    0% {\n      border-color: transparent;\n      border-bottom-color: var(--fill-color);\n      border-left-color: var(--fill-color);\n    }\n    20% {\n      border-color: transparent;\n      border-left-color: var(--fill-color);\n      border-top-color: var(--fill-color);\n    }\n    30% {\n      border-color: transparent;\n      border-left-color: var(--fill-color);\n      border-top-color: var(--fill-color);\n      border-right-color: var(--fill-color);\n    }\n    40% {\n      border-color: transparent;\n      border-right-color: var(--fill-color);\n      border-top-color: var(--fill-color);\n    }\n    60% {\n      border-color: transparent;\n      border-right-color: var(--fill-color);\n    }\n    80% {\n      border-color: transparent;\n      border-right-color: var(--fill-color);\n      border-bottom-color: var(--fill-color);\n    }\n    90% {\n      border-color: transparent;\n      border-bottom-color: var(--fill-color);\n    }\n  }\n</style>\n\n  <script>\n    async function quickchart(key) {\n      const quickchartButtonEl =\n        document.querySelector('#' + key + ' button');\n      quickchartButtonEl.disabled = true;  // To prevent multiple clicks.\n      quickchartButtonEl.classList.add('colab-df-spinner');\n      try {\n        const charts = await google.colab.kernel.invokeFunction(\n            'suggestCharts', [key], {});\n      } catch (error) {\n        console.error('Error during call to suggestCharts:', error);\n      }\n      quickchartButtonEl.classList.remove('colab-df-spinner');\n      quickchartButtonEl.classList.add('colab-df-quickchart-complete');\n    }\n    (() => {\n      let quickchartButtonEl =\n        document.querySelector('#df-3def0ed2-ecbd-4a05-9bc8-ed751d44963e button');\n      quickchartButtonEl.style.display =\n        google.colab.kernel.accessAllowed ? 'block' : 'none';\n    })();\n  </script>\n</div>\n\n    </div>\n  </div>\n",
                  "application/vnd.google.colaboratory.intrinsic+json": {
                    "type": "dataframe",
                    "summary": "{\n  \"name\": \"display(interactive_plot)\",\n  \"rows\": 20,\n  \"fields\": [\n    {\n      \"column\": \"k\",\n      \"properties\": {\n        \"dtype\": \"number\",\n        \"std\": 29,\n        \"min\": 1,\n        \"max\": 96,\n        \"num_unique_values\": 20,\n        \"samples\": [\n          1,\n          86,\n          76\n        ],\n        \"semantic_type\": \"\",\n        \"description\": \"\"\n      }\n    },\n    {\n      \"column\": \"avg_rmse_train\",\n      \"properties\": {\n        \"dtype\": \"number\",\n        \"std\": 105.39440682238526,\n        \"min\": 1603.8417259825478,\n        \"max\": 2039.9652506027007,\n        \"num_unique_values\": 20,\n        \"samples\": [\n          2039.9652506027007,\n          1635.5325065075835,\n          1640.2317305640668\n        ],\n        \"semantic_type\": \"\",\n        \"description\": \"\"\n      }\n    },\n    {\n      \"column\": \"avg_mae_train\",\n      \"properties\": {\n        \"dtype\": \"number\",\n        \"std\": 71.46293179826701,\n        \"min\": 1319.285931746725,\n        \"max\": 1629.6747102212855,\n        \"num_unique_values\": 20,\n        \"samples\": [\n          1629.6747102212855,\n          1354.686072576056,\n          1359.5858875224153\n        ],\n        \"semantic_type\": \"\",\n        \"description\": \"\"\n      }\n    },\n    {\n      \"column\": \"avg_r2_train\",\n      \"properties\": {\n        \"dtype\": \"number\",\n        \"std\": 0.10230131065398475,\n        \"min\": -0.11578688715926663,\n        \"max\": 0.3128762520152299,\n        \"num_unique_values\": 20,\n        \"samples\": [\n          -0.11578688715926663,\n          0.28544510654703614,\n          0.28137529045862264\n        ],\n        \"semantic_type\": \"\",\n        \"description\": \"\"\n      }\n    },\n    {\n      \"column\": \"avg_rmse_test\",\n      \"properties\": {\n        \"dtype\": \"number\",\n        \"std\": 95.5328207346291,\n        \"min\": 1615.2239677923196,\n        \"max\": 2024.062381864643,\n        \"num_unique_values\": 20,\n        \"samples\": [\n          2024.062381864643,\n          1661.6885212708737,\n          1662.7988002301831\n        ],\n        \"semantic_type\": \"\",\n        \"description\": \"\"\n      }\n    },\n    {\n      \"column\": \"avg_mae_test\",\n      \"properties\": {\n        \"dtype\": \"number\",\n        \"std\": 66.96729928775932,\n        \"min\": 1331.030779528651,\n        \"max\": 1638.0692572919581,\n        \"num_unique_values\": 20,\n        \"samples\": [\n          1638.0692572919581,\n          1377.9473041590002,\n          1380.2850597629101\n        ],\n        \"semantic_type\": \"\",\n        \"description\": \"\"\n      }\n    },\n    {\n      \"column\": \"avg_r2_test\",\n      \"properties\": {\n        \"dtype\": \"number\",\n        \"std\": 0.09647992108411355,\n        \"min\": -0.13157373590611468,\n        \"max\": 0.28978022489100186,\n        \"num_unique_values\": 20,\n        \"samples\": [\n          -0.13157373590611468,\n          0.24921879756452622,\n          0.24839792430354976\n        ],\n        \"semantic_type\": \"\",\n        \"description\": \"\"\n      }\n    }\n  ]\n}"
                  }
                },
                "metadata": {}
              },
              {
                "output_type": "stream",
                "name": "stdout",
                "text": [
                  "El mejor valor de k para la variable season es: 41\n"
                ]
              }
            ]
          }
        },
        "3ab7fdabae914127a1b763449ddc8ca6": {
          "model_module": "@jupyter-widgets/base",
          "model_name": "LayoutModel",
          "model_module_version": "1.2.0",
          "state": {
            "_model_module": "@jupyter-widgets/base",
            "_model_module_version": "1.2.0",
            "_model_name": "LayoutModel",
            "_view_count": null,
            "_view_module": "@jupyter-widgets/base",
            "_view_module_version": "1.2.0",
            "_view_name": "LayoutView",
            "align_content": null,
            "align_items": null,
            "align_self": null,
            "border": null,
            "bottom": null,
            "display": null,
            "flex": null,
            "flex_flow": null,
            "grid_area": null,
            "grid_auto_columns": null,
            "grid_auto_flow": null,
            "grid_auto_rows": null,
            "grid_column": null,
            "grid_gap": null,
            "grid_row": null,
            "grid_template_areas": null,
            "grid_template_columns": null,
            "grid_template_rows": null,
            "height": null,
            "justify_content": null,
            "justify_items": null,
            "left": null,
            "margin": null,
            "max_height": null,
            "max_width": null,
            "min_height": null,
            "min_width": null,
            "object_fit": null,
            "object_position": null,
            "order": null,
            "overflow": null,
            "overflow_x": null,
            "overflow_y": null,
            "padding": null,
            "right": null,
            "top": null,
            "visibility": null,
            "width": null
          }
        },
        "f07dc2013bd64a20bef3db3694b69e4d": {
          "model_module": "@jupyter-widgets/base",
          "model_name": "LayoutModel",
          "model_module_version": "1.2.0",
          "state": {
            "_model_module": "@jupyter-widgets/base",
            "_model_module_version": "1.2.0",
            "_model_name": "LayoutModel",
            "_view_count": null,
            "_view_module": "@jupyter-widgets/base",
            "_view_module_version": "1.2.0",
            "_view_name": "LayoutView",
            "align_content": null,
            "align_items": null,
            "align_self": null,
            "border": null,
            "bottom": null,
            "display": null,
            "flex": null,
            "flex_flow": null,
            "grid_area": null,
            "grid_auto_columns": null,
            "grid_auto_flow": null,
            "grid_auto_rows": null,
            "grid_column": null,
            "grid_gap": null,
            "grid_row": null,
            "grid_template_areas": null,
            "grid_template_columns": null,
            "grid_template_rows": null,
            "height": null,
            "justify_content": null,
            "justify_items": null,
            "left": null,
            "margin": null,
            "max_height": null,
            "max_width": null,
            "min_height": null,
            "min_width": null,
            "object_fit": null,
            "object_position": null,
            "order": null,
            "overflow": null,
            "overflow_x": null,
            "overflow_y": null,
            "padding": null,
            "right": null,
            "top": null,
            "visibility": null,
            "width": null
          }
        },
        "121a988980374c1283b3679502031fc5": {
          "model_module": "@jupyter-widgets/controls",
          "model_name": "DescriptionStyleModel",
          "model_module_version": "1.5.0",
          "state": {
            "_model_module": "@jupyter-widgets/controls",
            "_model_module_version": "1.5.0",
            "_model_name": "DescriptionStyleModel",
            "_view_count": null,
            "_view_module": "@jupyter-widgets/base",
            "_view_module_version": "1.2.0",
            "_view_name": "StyleView",
            "description_width": ""
          }
        },
        "11ac02096f4c4583bfae19204a47f994": {
          "model_module": "@jupyter-widgets/base",
          "model_name": "LayoutModel",
          "model_module_version": "1.2.0",
          "state": {
            "_model_module": "@jupyter-widgets/base",
            "_model_module_version": "1.2.0",
            "_model_name": "LayoutModel",
            "_view_count": null,
            "_view_module": "@jupyter-widgets/base",
            "_view_module_version": "1.2.0",
            "_view_name": "LayoutView",
            "align_content": null,
            "align_items": null,
            "align_self": null,
            "border": null,
            "bottom": null,
            "display": null,
            "flex": null,
            "flex_flow": null,
            "grid_area": null,
            "grid_auto_columns": null,
            "grid_auto_flow": null,
            "grid_auto_rows": null,
            "grid_column": null,
            "grid_gap": null,
            "grid_row": null,
            "grid_template_areas": null,
            "grid_template_columns": null,
            "grid_template_rows": null,
            "height": null,
            "justify_content": null,
            "justify_items": null,
            "left": null,
            "margin": null,
            "max_height": null,
            "max_width": null,
            "min_height": null,
            "min_width": null,
            "object_fit": null,
            "object_position": null,
            "order": null,
            "overflow": null,
            "overflow_x": null,
            "overflow_y": null,
            "padding": null,
            "right": null,
            "top": null,
            "visibility": null,
            "width": null
          }
        },
        "e86005877b464ec8852bd702ae483c65": {
          "model_module": "@jupyter-widgets/controls",
          "model_name": "VBoxModel",
          "model_module_version": "1.5.0",
          "state": {
            "_dom_classes": [
              "widget-interact"
            ],
            "_model_module": "@jupyter-widgets/controls",
            "_model_module_version": "1.5.0",
            "_model_name": "VBoxModel",
            "_view_count": null,
            "_view_module": "@jupyter-widgets/controls",
            "_view_module_version": "1.5.0",
            "_view_name": "VBoxView",
            "box_style": "",
            "children": [
              "IPY_MODEL_d2db460df47643558874d1b9be917f6b",
              "IPY_MODEL_3486cf1112c445eab187f40a464615cb"
            ],
            "layout": "IPY_MODEL_69ccec45e8a64205ae186063fabf1f7c"
          }
        },
        "d2db460df47643558874d1b9be917f6b": {
          "model_module": "@jupyter-widgets/controls",
          "model_name": "DropdownModel",
          "model_module_version": "1.5.0",
          "state": {
            "_dom_classes": [],
            "_model_module": "@jupyter-widgets/controls",
            "_model_module_version": "1.5.0",
            "_model_name": "DropdownModel",
            "_options_labels": [
              "season",
              "yr",
              "mnth",
              "holiday",
              "workingday",
              "weathersit",
              "temp",
              "atemp",
              "casual",
              "registered"
            ],
            "_view_count": null,
            "_view_module": "@jupyter-widgets/controls",
            "_view_module_version": "1.5.0",
            "_view_name": "DropdownView",
            "description": "Feature:",
            "description_tooltip": null,
            "disabled": false,
            "index": 3,
            "layout": "IPY_MODEL_81f869d20d194c7ba64ea7ba6e77976c",
            "style": "IPY_MODEL_acc8787314114452a570fb768ea0078b"
          }
        },
        "3486cf1112c445eab187f40a464615cb": {
          "model_module": "@jupyter-widgets/output",
          "model_name": "OutputModel",
          "model_module_version": "1.0.0",
          "state": {
            "_dom_classes": [],
            "_model_module": "@jupyter-widgets/output",
            "_model_module_version": "1.0.0",
            "_model_name": "OutputModel",
            "_view_count": null,
            "_view_module": "@jupyter-widgets/output",
            "_view_module_version": "1.0.0",
            "_view_name": "OutputView",
            "layout": "IPY_MODEL_50bf3e6169b24abd9f2e98a25aaa3934",
            "msg_id": "",
            "outputs": [
              {
                "output_type": "display_data",
                "data": {
                  "text/plain": "        avg_rmse_train  avg_mae_train  avg_r2_train  avg_rmse_test  \\\nlambda                                                               \n0.01       1930.422679    1576.645865      0.004778    1937.638469   \n0.51       1933.735020    1580.182357      0.001354    1940.284377   \n1.01       1934.806521    1580.988711      0.000245    1941.311598   \n1.51       1934.936338    1581.120339      0.000111    1941.435372   \n2.01       1934.982134    1581.169626      0.000063    1941.478847   \n2.51       1935.003768    1581.193675      0.000041    1941.499348   \n3.01       1935.015686    1581.207464      0.000029    1941.510632   \n3.51       1935.022938    1581.215903      0.000021    1941.517496   \n4.01       1935.027675    1581.221554      0.000016    1941.521977   \n4.51       1935.030938    1581.225447      0.000013    1941.525063   \n5.01       1935.033279    1581.228240      0.000010    1941.527277   \n5.51       1935.035015    1581.230312      0.000009    1941.528919   \n6.01       1935.036338    1581.231891      0.000007    1941.530170   \n6.51       1935.037370    1581.233121      0.000006    1941.531145   \n7.01       1935.038189    1581.234099      0.000005    1941.531920   \n7.51       1935.038851    1581.234888      0.000005    1941.532546   \n8.01       1935.039393    1581.235535      0.000004    1941.533058   \n8.51       1935.039842    1581.236071      0.000004    1941.533483   \n9.01       1935.040219    1581.236521      0.000003    1941.533839   \n9.51       1935.040538    1581.236902      0.000003    1941.534141   \n\n        avg_mae_test  avg_r2_test  \nlambda                             \n0.01     1581.900735    -0.017643  \n0.51     1585.626440    -0.020503  \n1.01     1586.450694    -0.021660  \n1.51     1586.596238    -0.021821  \n2.01     1586.650668    -0.021880  \n2.51     1586.676709    -0.021908  \n3.01     1586.691112    -0.021924  \n3.51     1586.699890    -0.021933  \n4.01     1586.705627    -0.021939  \n4.51     1586.709579    -0.021944  \n5.01     1586.712416    -0.021947  \n5.51     1586.714521    -0.021949  \n6.01     1586.716125    -0.021951  \n6.51     1586.717375    -0.021952  \n7.01     1586.718368    -0.021953  \n7.51     1586.719170    -0.021954  \n8.01     1586.719827    -0.021955  \n8.51     1586.720372    -0.021955  \n9.01     1586.720829    -0.021956  \n9.51     1586.721216    -0.021956  ",
                  "text/html": "\n  <div id=\"df-3916ca32-a272-4da1-b1e5-e0a04fd584f0\" class=\"colab-df-container\">\n    <div>\n<style scoped>\n    .dataframe tbody tr th:only-of-type {\n        vertical-align: middle;\n    }\n\n    .dataframe tbody tr th {\n        vertical-align: top;\n    }\n\n    .dataframe thead th {\n        text-align: right;\n    }\n</style>\n<table border=\"1\" class=\"dataframe\">\n  <thead>\n    <tr style=\"text-align: right;\">\n      <th></th>\n      <th>avg_rmse_train</th>\n      <th>avg_mae_train</th>\n      <th>avg_r2_train</th>\n      <th>avg_rmse_test</th>\n      <th>avg_mae_test</th>\n      <th>avg_r2_test</th>\n    </tr>\n    <tr>\n      <th>lambda</th>\n      <th></th>\n      <th></th>\n      <th></th>\n      <th></th>\n      <th></th>\n      <th></th>\n    </tr>\n  </thead>\n  <tbody>\n    <tr>\n      <th>0.01</th>\n      <td>1930.422679</td>\n      <td>1576.645865</td>\n      <td>0.004778</td>\n      <td>1937.638469</td>\n      <td>1581.900735</td>\n      <td>-0.017643</td>\n    </tr>\n    <tr>\n      <th>0.51</th>\n      <td>1933.735020</td>\n      <td>1580.182357</td>\n      <td>0.001354</td>\n      <td>1940.284377</td>\n      <td>1585.626440</td>\n      <td>-0.020503</td>\n    </tr>\n    <tr>\n      <th>1.01</th>\n      <td>1934.806521</td>\n      <td>1580.988711</td>\n      <td>0.000245</td>\n      <td>1941.311598</td>\n      <td>1586.450694</td>\n      <td>-0.021660</td>\n    </tr>\n    <tr>\n      <th>1.51</th>\n      <td>1934.936338</td>\n      <td>1581.120339</td>\n      <td>0.000111</td>\n      <td>1941.435372</td>\n      <td>1586.596238</td>\n      <td>-0.021821</td>\n    </tr>\n    <tr>\n      <th>2.01</th>\n      <td>1934.982134</td>\n      <td>1581.169626</td>\n      <td>0.000063</td>\n      <td>1941.478847</td>\n      <td>1586.650668</td>\n      <td>-0.021880</td>\n    </tr>\n    <tr>\n      <th>2.51</th>\n      <td>1935.003768</td>\n      <td>1581.193675</td>\n      <td>0.000041</td>\n      <td>1941.499348</td>\n      <td>1586.676709</td>\n      <td>-0.021908</td>\n    </tr>\n    <tr>\n      <th>3.01</th>\n      <td>1935.015686</td>\n      <td>1581.207464</td>\n      <td>0.000029</td>\n      <td>1941.510632</td>\n      <td>1586.691112</td>\n      <td>-0.021924</td>\n    </tr>\n    <tr>\n      <th>3.51</th>\n      <td>1935.022938</td>\n      <td>1581.215903</td>\n      <td>0.000021</td>\n      <td>1941.517496</td>\n      <td>1586.699890</td>\n      <td>-0.021933</td>\n    </tr>\n    <tr>\n      <th>4.01</th>\n      <td>1935.027675</td>\n      <td>1581.221554</td>\n      <td>0.000016</td>\n      <td>1941.521977</td>\n      <td>1586.705627</td>\n      <td>-0.021939</td>\n    </tr>\n    <tr>\n      <th>4.51</th>\n      <td>1935.030938</td>\n      <td>1581.225447</td>\n      <td>0.000013</td>\n      <td>1941.525063</td>\n      <td>1586.709579</td>\n      <td>-0.021944</td>\n    </tr>\n    <tr>\n      <th>5.01</th>\n      <td>1935.033279</td>\n      <td>1581.228240</td>\n      <td>0.000010</td>\n      <td>1941.527277</td>\n      <td>1586.712416</td>\n      <td>-0.021947</td>\n    </tr>\n    <tr>\n      <th>5.51</th>\n      <td>1935.035015</td>\n      <td>1581.230312</td>\n      <td>0.000009</td>\n      <td>1941.528919</td>\n      <td>1586.714521</td>\n      <td>-0.021949</td>\n    </tr>\n    <tr>\n      <th>6.01</th>\n      <td>1935.036338</td>\n      <td>1581.231891</td>\n      <td>0.000007</td>\n      <td>1941.530170</td>\n      <td>1586.716125</td>\n      <td>-0.021951</td>\n    </tr>\n    <tr>\n      <th>6.51</th>\n      <td>1935.037370</td>\n      <td>1581.233121</td>\n      <td>0.000006</td>\n      <td>1941.531145</td>\n      <td>1586.717375</td>\n      <td>-0.021952</td>\n    </tr>\n    <tr>\n      <th>7.01</th>\n      <td>1935.038189</td>\n      <td>1581.234099</td>\n      <td>0.000005</td>\n      <td>1941.531920</td>\n      <td>1586.718368</td>\n      <td>-0.021953</td>\n    </tr>\n    <tr>\n      <th>7.51</th>\n      <td>1935.038851</td>\n      <td>1581.234888</td>\n      <td>0.000005</td>\n      <td>1941.532546</td>\n      <td>1586.719170</td>\n      <td>-0.021954</td>\n    </tr>\n    <tr>\n      <th>8.01</th>\n      <td>1935.039393</td>\n      <td>1581.235535</td>\n      <td>0.000004</td>\n      <td>1941.533058</td>\n      <td>1586.719827</td>\n      <td>-0.021955</td>\n    </tr>\n    <tr>\n      <th>8.51</th>\n      <td>1935.039842</td>\n      <td>1581.236071</td>\n      <td>0.000004</td>\n      <td>1941.533483</td>\n      <td>1586.720372</td>\n      <td>-0.021955</td>\n    </tr>\n    <tr>\n      <th>9.01</th>\n      <td>1935.040219</td>\n      <td>1581.236521</td>\n      <td>0.000003</td>\n      <td>1941.533839</td>\n      <td>1586.720829</td>\n      <td>-0.021956</td>\n    </tr>\n    <tr>\n      <th>9.51</th>\n      <td>1935.040538</td>\n      <td>1581.236902</td>\n      <td>0.000003</td>\n      <td>1941.534141</td>\n      <td>1586.721216</td>\n      <td>-0.021956</td>\n    </tr>\n  </tbody>\n</table>\n</div>\n    <div class=\"colab-df-buttons\">\n\n  <div class=\"colab-df-container\">\n    <button class=\"colab-df-convert\" onclick=\"convertToInteractive('df-3916ca32-a272-4da1-b1e5-e0a04fd584f0')\"\n            title=\"Convert this dataframe to an interactive table.\"\n            style=\"display:none;\">\n\n  <svg xmlns=\"http://www.w3.org/2000/svg\" height=\"24px\" viewBox=\"0 -960 960 960\">\n    <path d=\"M120-120v-720h720v720H120Zm60-500h600v-160H180v160Zm220 220h160v-160H400v160Zm0 220h160v-160H400v160ZM180-400h160v-160H180v160Zm440 0h160v-160H620v160ZM180-180h160v-160H180v160Zm440 0h160v-160H620v160Z\"/>\n  </svg>\n    </button>\n\n  <style>\n    .colab-df-container {\n      display:flex;\n      gap: 12px;\n    }\n\n    .colab-df-convert {\n      background-color: #E8F0FE;\n      border: none;\n      border-radius: 50%;\n      cursor: pointer;\n      display: none;\n      fill: #1967D2;\n      height: 32px;\n      padding: 0 0 0 0;\n      width: 32px;\n    }\n\n    .colab-df-convert:hover {\n      background-color: #E2EBFA;\n      box-shadow: 0px 1px 2px rgba(60, 64, 67, 0.3), 0px 1px 3px 1px rgba(60, 64, 67, 0.15);\n      fill: #174EA6;\n    }\n\n    .colab-df-buttons div {\n      margin-bottom: 4px;\n    }\n\n    [theme=dark] .colab-df-convert {\n      background-color: #3B4455;\n      fill: #D2E3FC;\n    }\n\n    [theme=dark] .colab-df-convert:hover {\n      background-color: #434B5C;\n      box-shadow: 0px 1px 3px 1px rgba(0, 0, 0, 0.15);\n      filter: drop-shadow(0px 1px 2px rgba(0, 0, 0, 0.3));\n      fill: #FFFFFF;\n    }\n  </style>\n\n    <script>\n      const buttonEl =\n        document.querySelector('#df-3916ca32-a272-4da1-b1e5-e0a04fd584f0 button.colab-df-convert');\n      buttonEl.style.display =\n        google.colab.kernel.accessAllowed ? 'block' : 'none';\n\n      async function convertToInteractive(key) {\n        const element = document.querySelector('#df-3916ca32-a272-4da1-b1e5-e0a04fd584f0');\n        const dataTable =\n          await google.colab.kernel.invokeFunction('convertToInteractive',\n                                                    [key], {});\n        if (!dataTable) return;\n\n        const docLinkHtml = 'Like what you see? Visit the ' +\n          '<a target=\"_blank\" href=https://colab.research.google.com/notebooks/data_table.ipynb>data table notebook</a>'\n          + ' to learn more about interactive tables.';\n        element.innerHTML = '';\n        dataTable['output_type'] = 'display_data';\n        await google.colab.output.renderOutput(dataTable, element);\n        const docLink = document.createElement('div');\n        docLink.innerHTML = docLinkHtml;\n        element.appendChild(docLink);\n      }\n    </script>\n  </div>\n\n\n<div id=\"df-2dc90261-e30b-4798-9c11-eb0b36831a96\">\n  <button class=\"colab-df-quickchart\" onclick=\"quickchart('df-2dc90261-e30b-4798-9c11-eb0b36831a96')\"\n            title=\"Suggest charts\"\n            style=\"display:none;\">\n\n<svg xmlns=\"http://www.w3.org/2000/svg\" height=\"24px\"viewBox=\"0 0 24 24\"\n     width=\"24px\">\n    <g>\n        <path d=\"M19 3H5c-1.1 0-2 .9-2 2v14c0 1.1.9 2 2 2h14c1.1 0 2-.9 2-2V5c0-1.1-.9-2-2-2zM9 17H7v-7h2v7zm4 0h-2V7h2v10zm4 0h-2v-4h2v4z\"/>\n    </g>\n</svg>\n  </button>\n\n<style>\n  .colab-df-quickchart {\n      --bg-color: #E8F0FE;\n      --fill-color: #1967D2;\n      --hover-bg-color: #E2EBFA;\n      --hover-fill-color: #174EA6;\n      --disabled-fill-color: #AAA;\n      --disabled-bg-color: #DDD;\n  }\n\n  [theme=dark] .colab-df-quickchart {\n      --bg-color: #3B4455;\n      --fill-color: #D2E3FC;\n      --hover-bg-color: #434B5C;\n      --hover-fill-color: #FFFFFF;\n      --disabled-bg-color: #3B4455;\n      --disabled-fill-color: #666;\n  }\n\n  .colab-df-quickchart {\n    background-color: var(--bg-color);\n    border: none;\n    border-radius: 50%;\n    cursor: pointer;\n    display: none;\n    fill: var(--fill-color);\n    height: 32px;\n    padding: 0;\n    width: 32px;\n  }\n\n  .colab-df-quickchart:hover {\n    background-color: var(--hover-bg-color);\n    box-shadow: 0 1px 2px rgba(60, 64, 67, 0.3), 0 1px 3px 1px rgba(60, 64, 67, 0.15);\n    fill: var(--button-hover-fill-color);\n  }\n\n  .colab-df-quickchart-complete:disabled,\n  .colab-df-quickchart-complete:disabled:hover {\n    background-color: var(--disabled-bg-color);\n    fill: var(--disabled-fill-color);\n    box-shadow: none;\n  }\n\n  .colab-df-spinner {\n    border: 2px solid var(--fill-color);\n    border-color: transparent;\n    border-bottom-color: var(--fill-color);\n    animation:\n      spin 1s steps(1) infinite;\n  }\n\n  @keyframes spin {\n    0% {\n      border-color: transparent;\n      border-bottom-color: var(--fill-color);\n      border-left-color: var(--fill-color);\n    }\n    20% {\n      border-color: transparent;\n      border-left-color: var(--fill-color);\n      border-top-color: var(--fill-color);\n    }\n    30% {\n      border-color: transparent;\n      border-left-color: var(--fill-color);\n      border-top-color: var(--fill-color);\n      border-right-color: var(--fill-color);\n    }\n    40% {\n      border-color: transparent;\n      border-right-color: var(--fill-color);\n      border-top-color: var(--fill-color);\n    }\n    60% {\n      border-color: transparent;\n      border-right-color: var(--fill-color);\n    }\n    80% {\n      border-color: transparent;\n      border-right-color: var(--fill-color);\n      border-bottom-color: var(--fill-color);\n    }\n    90% {\n      border-color: transparent;\n      border-bottom-color: var(--fill-color);\n    }\n  }\n</style>\n\n  <script>\n    async function quickchart(key) {\n      const quickchartButtonEl =\n        document.querySelector('#' + key + ' button');\n      quickchartButtonEl.disabled = true;  // To prevent multiple clicks.\n      quickchartButtonEl.classList.add('colab-df-spinner');\n      try {\n        const charts = await google.colab.kernel.invokeFunction(\n            'suggestCharts', [key], {});\n      } catch (error) {\n        console.error('Error during call to suggestCharts:', error);\n      }\n      quickchartButtonEl.classList.remove('colab-df-spinner');\n      quickchartButtonEl.classList.add('colab-df-quickchart-complete');\n    }\n    (() => {\n      let quickchartButtonEl =\n        document.querySelector('#df-2dc90261-e30b-4798-9c11-eb0b36831a96 button');\n      quickchartButtonEl.style.display =\n        google.colab.kernel.accessAllowed ? 'block' : 'none';\n    })();\n  </script>\n</div>\n\n    </div>\n  </div>\n",
                  "application/vnd.google.colaboratory.intrinsic+json": {
                    "type": "dataframe",
                    "summary": "{\n  \"name\": \"display(widgets\",\n  \"rows\": 20,\n  \"fields\": [\n    {\n      \"column\": \"lambda\",\n      \"properties\": {\n        \"dtype\": \"number\",\n        \"std\": 2.9580398915498085,\n        \"min\": 0.01,\n        \"max\": 9.51,\n        \"num_unique_values\": 20,\n        \"samples\": [\n          0.01,\n          8.51,\n          7.51\n        ],\n        \"semantic_type\": \"\",\n        \"description\": \"\"\n      }\n    },\n    {\n      \"column\": \"avg_rmse_train\",\n      \"properties\": {\n        \"dtype\": \"number\",\n        \"std\": 1.051861509818738,\n        \"min\": 1930.42267868825,\n        \"max\": 1935.0405383608982,\n        \"num_unique_values\": 20,\n        \"samples\": [\n          1930.42267868825,\n          1935.039842280165,\n          1935.0388507720047\n        ],\n        \"semantic_type\": \"\",\n        \"description\": \"\"\n      }\n    },\n    {\n      \"column\": \"avg_mae_train\",\n      \"properties\": {\n        \"dtype\": \"number\",\n        \"std\": 1.0344784498181847,\n        \"min\": 1576.6458650529082,\n        \"max\": 1581.2369017462756,\n        \"num_unique_values\": 20,\n        \"samples\": [\n          1576.6458650529082,\n          1581.2360713478886,\n          1581.2348884680046\n        ],\n        \"semantic_type\": \"\",\n        \"description\": \"\"\n      }\n    },\n    {\n      \"column\": \"avg_r2_train\",\n      \"properties\": {\n        \"dtype\": \"number\",\n        \"std\": 0.0010877960662898252,\n        \"min\": 2.9000514411015033e-06,\n        \"max\": 0.004778389411352157,\n        \"num_unique_values\": 20,\n        \"samples\": [\n          0.004778389411352157,\n          3.620434600226652e-06,\n          4.646559047061239e-06\n        ],\n        \"semantic_type\": \"\",\n        \"description\": \"\"\n      }\n    },\n    {\n      \"column\": \"avg_rmse_test\",\n      \"properties\": {\n        \"dtype\": \"number\",\n        \"std\": 0.8947399694620232,\n        \"min\": 1937.6384691660471,\n        \"max\": 1941.5341409200125,\n        \"num_unique_values\": 20,\n        \"samples\": [\n          1937.6384691660471,\n          1941.5334828732812,\n          1941.532545502459\n        ],\n        \"semantic_type\": \"\",\n        \"description\": \"\"\n      }\n    },\n    {\n      \"column\": \"avg_mae_test\",\n      \"properties\": {\n        \"dtype\": \"number\",\n        \"std\": 1.0857212059968386,\n        \"min\": 1581.900734575178,\n        \"max\": 1586.72121594097,\n        \"num_unique_values\": 20,\n        \"samples\": [\n          1581.900734575178,\n          1586.720372122722,\n          1586.7191701967754\n        ],\n        \"semantic_type\": \"\",\n        \"description\": \"\"\n      }\n    },\n    {\n      \"column\": \"avg_r2_test\",\n      \"properties\": {\n        \"dtype\": \"number\",\n        \"std\": 0.0009936620541991425,\n        \"min\": -0.02195623067019703,\n        \"max\": -0.017642786389975785,\n        \"num_unique_values\": 20,\n        \"samples\": [\n          -0.017642786389975785,\n          -0.02195531620985016,\n          -0.02195401385258231\n        ],\n        \"semantic_type\": \"\",\n        \"description\": \"\"\n      }\n    }\n  ]\n}"
                  }
                },
                "metadata": {}
              },
              {
                "output_type": "stream",
                "name": "stdout",
                "text": [
                  "La mejor lambda para la variable holiday es: 0.01\n"
                ]
              }
            ]
          }
        },
        "69ccec45e8a64205ae186063fabf1f7c": {
          "model_module": "@jupyter-widgets/base",
          "model_name": "LayoutModel",
          "model_module_version": "1.2.0",
          "state": {
            "_model_module": "@jupyter-widgets/base",
            "_model_module_version": "1.2.0",
            "_model_name": "LayoutModel",
            "_view_count": null,
            "_view_module": "@jupyter-widgets/base",
            "_view_module_version": "1.2.0",
            "_view_name": "LayoutView",
            "align_content": null,
            "align_items": null,
            "align_self": null,
            "border": null,
            "bottom": null,
            "display": null,
            "flex": null,
            "flex_flow": null,
            "grid_area": null,
            "grid_auto_columns": null,
            "grid_auto_flow": null,
            "grid_auto_rows": null,
            "grid_column": null,
            "grid_gap": null,
            "grid_row": null,
            "grid_template_areas": null,
            "grid_template_columns": null,
            "grid_template_rows": null,
            "height": null,
            "justify_content": null,
            "justify_items": null,
            "left": null,
            "margin": null,
            "max_height": null,
            "max_width": null,
            "min_height": null,
            "min_width": null,
            "object_fit": null,
            "object_position": null,
            "order": null,
            "overflow": null,
            "overflow_x": null,
            "overflow_y": null,
            "padding": null,
            "right": null,
            "top": null,
            "visibility": null,
            "width": null
          }
        },
        "81f869d20d194c7ba64ea7ba6e77976c": {
          "model_module": "@jupyter-widgets/base",
          "model_name": "LayoutModel",
          "model_module_version": "1.2.0",
          "state": {
            "_model_module": "@jupyter-widgets/base",
            "_model_module_version": "1.2.0",
            "_model_name": "LayoutModel",
            "_view_count": null,
            "_view_module": "@jupyter-widgets/base",
            "_view_module_version": "1.2.0",
            "_view_name": "LayoutView",
            "align_content": null,
            "align_items": null,
            "align_self": null,
            "border": null,
            "bottom": null,
            "display": null,
            "flex": null,
            "flex_flow": null,
            "grid_area": null,
            "grid_auto_columns": null,
            "grid_auto_flow": null,
            "grid_auto_rows": null,
            "grid_column": null,
            "grid_gap": null,
            "grid_row": null,
            "grid_template_areas": null,
            "grid_template_columns": null,
            "grid_template_rows": null,
            "height": null,
            "justify_content": null,
            "justify_items": null,
            "left": null,
            "margin": null,
            "max_height": null,
            "max_width": null,
            "min_height": null,
            "min_width": null,
            "object_fit": null,
            "object_position": null,
            "order": null,
            "overflow": null,
            "overflow_x": null,
            "overflow_y": null,
            "padding": null,
            "right": null,
            "top": null,
            "visibility": null,
            "width": null
          }
        },
        "acc8787314114452a570fb768ea0078b": {
          "model_module": "@jupyter-widgets/controls",
          "model_name": "DescriptionStyleModel",
          "model_module_version": "1.5.0",
          "state": {
            "_model_module": "@jupyter-widgets/controls",
            "_model_module_version": "1.5.0",
            "_model_name": "DescriptionStyleModel",
            "_view_count": null,
            "_view_module": "@jupyter-widgets/base",
            "_view_module_version": "1.2.0",
            "_view_name": "StyleView",
            "description_width": ""
          }
        },
        "50bf3e6169b24abd9f2e98a25aaa3934": {
          "model_module": "@jupyter-widgets/base",
          "model_name": "LayoutModel",
          "model_module_version": "1.2.0",
          "state": {
            "_model_module": "@jupyter-widgets/base",
            "_model_module_version": "1.2.0",
            "_model_name": "LayoutModel",
            "_view_count": null,
            "_view_module": "@jupyter-widgets/base",
            "_view_module_version": "1.2.0",
            "_view_name": "LayoutView",
            "align_content": null,
            "align_items": null,
            "align_self": null,
            "border": null,
            "bottom": null,
            "display": null,
            "flex": null,
            "flex_flow": null,
            "grid_area": null,
            "grid_auto_columns": null,
            "grid_auto_flow": null,
            "grid_auto_rows": null,
            "grid_column": null,
            "grid_gap": null,
            "grid_row": null,
            "grid_template_areas": null,
            "grid_template_columns": null,
            "grid_template_rows": null,
            "height": null,
            "justify_content": null,
            "justify_items": null,
            "left": null,
            "margin": null,
            "max_height": null,
            "max_width": null,
            "min_height": null,
            "min_width": null,
            "object_fit": null,
            "object_position": null,
            "order": null,
            "overflow": null,
            "overflow_x": null,
            "overflow_y": null,
            "padding": null,
            "right": null,
            "top": null,
            "visibility": null,
            "width": null
          }
        },
        "f15248a7b9224768842741b485df31b9": {
          "model_module": "@jupyter-widgets/controls",
          "model_name": "VBoxModel",
          "model_module_version": "1.5.0",
          "state": {
            "_dom_classes": [
              "widget-interact"
            ],
            "_model_module": "@jupyter-widgets/controls",
            "_model_module_version": "1.5.0",
            "_model_name": "VBoxModel",
            "_view_count": null,
            "_view_module": "@jupyter-widgets/controls",
            "_view_module_version": "1.5.0",
            "_view_name": "VBoxView",
            "box_style": "",
            "children": [
              "IPY_MODEL_1abdf640f56a460cbd85c0507904a92a",
              "IPY_MODEL_20e2cfda455445e8b10858c826391607"
            ],
            "layout": "IPY_MODEL_9c785cafd3144e33b5bbeba890af1f3d"
          }
        },
        "1abdf640f56a460cbd85c0507904a92a": {
          "model_module": "@jupyter-widgets/controls",
          "model_name": "DropdownModel",
          "model_module_version": "1.5.0",
          "state": {
            "_dom_classes": [],
            "_model_module": "@jupyter-widgets/controls",
            "_model_module_version": "1.5.0",
            "_model_name": "DropdownModel",
            "_options_labels": [
              "season",
              "yr",
              "mnth",
              "holiday",
              "workingday",
              "weathersit",
              "temp",
              "atemp",
              "casual",
              "registered"
            ],
            "_view_count": null,
            "_view_module": "@jupyter-widgets/controls",
            "_view_module_version": "1.5.0",
            "_view_name": "DropdownView",
            "description": "Feature:",
            "description_tooltip": null,
            "disabled": false,
            "index": 5,
            "layout": "IPY_MODEL_ba49c3eb7ec248f2aa88f944c1087b24",
            "style": "IPY_MODEL_da1acfb2e2a4431e96ff9fe013d6f4a0"
          }
        },
        "20e2cfda455445e8b10858c826391607": {
          "model_module": "@jupyter-widgets/output",
          "model_name": "OutputModel",
          "model_module_version": "1.0.0",
          "state": {
            "_dom_classes": [],
            "_model_module": "@jupyter-widgets/output",
            "_model_module_version": "1.0.0",
            "_model_name": "OutputModel",
            "_view_count": null,
            "_view_module": "@jupyter-widgets/output",
            "_view_module_version": "1.0.0",
            "_view_name": "OutputView",
            "layout": "IPY_MODEL_7f3cdbefb4f84b7db10117311cfe3e48",
            "msg_id": "",
            "outputs": [
              {
                "output_type": "display_data",
                "data": {
                  "text/plain": "        avg_rmse_train  avg_mae_train  avg_r2_train  avg_rmse_test  \\\nlambda                                                               \n0.01       1835.953913    1487.246782      0.099706    1848.975031   \n0.51       1854.643946    1512.057817      0.081300    1864.739309   \n1.01       1897.633665    1550.399184      0.038261    1904.664904   \n1.51       1915.716962    1564.959236      0.019861    1922.304578   \n2.01       1923.490643    1571.366758      0.011896    1929.996931   \n2.51       1927.415234    1574.682548      0.007863    1933.903456   \n3.01       1929.649300    1576.579072      0.005563    1936.133740   \n3.51       1931.034902    1577.777166      0.004136    1937.519270   \n4.01       1931.950809    1578.569633      0.003192    1938.436055   \n4.51       1932.586669    1579.118217      0.002536    1939.072951   \n5.01       1933.045592    1579.514147      0.002062    1939.532833   \n5.51       1933.387403    1579.810417      0.001710    1939.875475   \n6.01       1933.648697    1580.036756      0.001440    1940.137468   \n6.51       1933.852848    1580.213370      0.001229    1940.342205   \n7.01       1934.015345    1580.353806      0.001062    1940.505192   \n7.51       1934.146772    1580.467299      0.000926    1940.637033   \n8.01       1934.254560    1580.560316      0.000815    1940.745170   \n8.51       1934.344048    1580.637498      0.000722    1940.834955   \n9.01       1934.419149    1580.702243      0.000645    1940.910310   \n9.51       1934.482786    1580.757083      0.000579    1940.974166   \n\n        avg_mae_test  avg_r2_test  \nlambda                             \n0.01     1502.049835     0.071419  \n0.51     1519.729487     0.056869  \n1.01     1556.920588     0.016693  \n1.51     1571.084599    -0.001629  \n2.01     1577.229053    -0.009716  \n2.51     1580.389417    -0.013846  \n3.01     1582.237060    -0.016211  \n3.51     1583.390563    -0.017682  \n4.01     1584.150762    -0.018657  \n4.51     1584.676736    -0.019335  \n5.01     1585.059796    -0.019824  \n5.51     1585.345690    -0.020189  \n6.01     1585.563948    -0.020468  \n6.51     1585.734301    -0.020686  \n7.01     1585.869785    -0.020860  \n7.51     1585.979293    -0.021001  \n8.01     1586.069057    -0.021116  \n8.51     1586.143547    -0.021211  \n9.01     1586.206039    -0.021292  \n9.51     1586.258976    -0.021360  ",
                  "text/html": "\n  <div id=\"df-18cc2184-05c0-46bf-8d25-b8b772a6d910\" class=\"colab-df-container\">\n    <div>\n<style scoped>\n    .dataframe tbody tr th:only-of-type {\n        vertical-align: middle;\n    }\n\n    .dataframe tbody tr th {\n        vertical-align: top;\n    }\n\n    .dataframe thead th {\n        text-align: right;\n    }\n</style>\n<table border=\"1\" class=\"dataframe\">\n  <thead>\n    <tr style=\"text-align: right;\">\n      <th></th>\n      <th>avg_rmse_train</th>\n      <th>avg_mae_train</th>\n      <th>avg_r2_train</th>\n      <th>avg_rmse_test</th>\n      <th>avg_mae_test</th>\n      <th>avg_r2_test</th>\n    </tr>\n    <tr>\n      <th>lambda</th>\n      <th></th>\n      <th></th>\n      <th></th>\n      <th></th>\n      <th></th>\n      <th></th>\n    </tr>\n  </thead>\n  <tbody>\n    <tr>\n      <th>0.01</th>\n      <td>1835.953913</td>\n      <td>1487.246782</td>\n      <td>0.099706</td>\n      <td>1848.975031</td>\n      <td>1502.049835</td>\n      <td>0.071419</td>\n    </tr>\n    <tr>\n      <th>0.51</th>\n      <td>1854.643946</td>\n      <td>1512.057817</td>\n      <td>0.081300</td>\n      <td>1864.739309</td>\n      <td>1519.729487</td>\n      <td>0.056869</td>\n    </tr>\n    <tr>\n      <th>1.01</th>\n      <td>1897.633665</td>\n      <td>1550.399184</td>\n      <td>0.038261</td>\n      <td>1904.664904</td>\n      <td>1556.920588</td>\n      <td>0.016693</td>\n    </tr>\n    <tr>\n      <th>1.51</th>\n      <td>1915.716962</td>\n      <td>1564.959236</td>\n      <td>0.019861</td>\n      <td>1922.304578</td>\n      <td>1571.084599</td>\n      <td>-0.001629</td>\n    </tr>\n    <tr>\n      <th>2.01</th>\n      <td>1923.490643</td>\n      <td>1571.366758</td>\n      <td>0.011896</td>\n      <td>1929.996931</td>\n      <td>1577.229053</td>\n      <td>-0.009716</td>\n    </tr>\n    <tr>\n      <th>2.51</th>\n      <td>1927.415234</td>\n      <td>1574.682548</td>\n      <td>0.007863</td>\n      <td>1933.903456</td>\n      <td>1580.389417</td>\n      <td>-0.013846</td>\n    </tr>\n    <tr>\n      <th>3.01</th>\n      <td>1929.649300</td>\n      <td>1576.579072</td>\n      <td>0.005563</td>\n      <td>1936.133740</td>\n      <td>1582.237060</td>\n      <td>-0.016211</td>\n    </tr>\n    <tr>\n      <th>3.51</th>\n      <td>1931.034902</td>\n      <td>1577.777166</td>\n      <td>0.004136</td>\n      <td>1937.519270</td>\n      <td>1583.390563</td>\n      <td>-0.017682</td>\n    </tr>\n    <tr>\n      <th>4.01</th>\n      <td>1931.950809</td>\n      <td>1578.569633</td>\n      <td>0.003192</td>\n      <td>1938.436055</td>\n      <td>1584.150762</td>\n      <td>-0.018657</td>\n    </tr>\n    <tr>\n      <th>4.51</th>\n      <td>1932.586669</td>\n      <td>1579.118217</td>\n      <td>0.002536</td>\n      <td>1939.072951</td>\n      <td>1584.676736</td>\n      <td>-0.019335</td>\n    </tr>\n    <tr>\n      <th>5.01</th>\n      <td>1933.045592</td>\n      <td>1579.514147</td>\n      <td>0.002062</td>\n      <td>1939.532833</td>\n      <td>1585.059796</td>\n      <td>-0.019824</td>\n    </tr>\n    <tr>\n      <th>5.51</th>\n      <td>1933.387403</td>\n      <td>1579.810417</td>\n      <td>0.001710</td>\n      <td>1939.875475</td>\n      <td>1585.345690</td>\n      <td>-0.020189</td>\n    </tr>\n    <tr>\n      <th>6.01</th>\n      <td>1933.648697</td>\n      <td>1580.036756</td>\n      <td>0.001440</td>\n      <td>1940.137468</td>\n      <td>1585.563948</td>\n      <td>-0.020468</td>\n    </tr>\n    <tr>\n      <th>6.51</th>\n      <td>1933.852848</td>\n      <td>1580.213370</td>\n      <td>0.001229</td>\n      <td>1940.342205</td>\n      <td>1585.734301</td>\n      <td>-0.020686</td>\n    </tr>\n    <tr>\n      <th>7.01</th>\n      <td>1934.015345</td>\n      <td>1580.353806</td>\n      <td>0.001062</td>\n      <td>1940.505192</td>\n      <td>1585.869785</td>\n      <td>-0.020860</td>\n    </tr>\n    <tr>\n      <th>7.51</th>\n      <td>1934.146772</td>\n      <td>1580.467299</td>\n      <td>0.000926</td>\n      <td>1940.637033</td>\n      <td>1585.979293</td>\n      <td>-0.021001</td>\n    </tr>\n    <tr>\n      <th>8.01</th>\n      <td>1934.254560</td>\n      <td>1580.560316</td>\n      <td>0.000815</td>\n      <td>1940.745170</td>\n      <td>1586.069057</td>\n      <td>-0.021116</td>\n    </tr>\n    <tr>\n      <th>8.51</th>\n      <td>1934.344048</td>\n      <td>1580.637498</td>\n      <td>0.000722</td>\n      <td>1940.834955</td>\n      <td>1586.143547</td>\n      <td>-0.021211</td>\n    </tr>\n    <tr>\n      <th>9.01</th>\n      <td>1934.419149</td>\n      <td>1580.702243</td>\n      <td>0.000645</td>\n      <td>1940.910310</td>\n      <td>1586.206039</td>\n      <td>-0.021292</td>\n    </tr>\n    <tr>\n      <th>9.51</th>\n      <td>1934.482786</td>\n      <td>1580.757083</td>\n      <td>0.000579</td>\n      <td>1940.974166</td>\n      <td>1586.258976</td>\n      <td>-0.021360</td>\n    </tr>\n  </tbody>\n</table>\n</div>\n    <div class=\"colab-df-buttons\">\n\n  <div class=\"colab-df-container\">\n    <button class=\"colab-df-convert\" onclick=\"convertToInteractive('df-18cc2184-05c0-46bf-8d25-b8b772a6d910')\"\n            title=\"Convert this dataframe to an interactive table.\"\n            style=\"display:none;\">\n\n  <svg xmlns=\"http://www.w3.org/2000/svg\" height=\"24px\" viewBox=\"0 -960 960 960\">\n    <path d=\"M120-120v-720h720v720H120Zm60-500h600v-160H180v160Zm220 220h160v-160H400v160Zm0 220h160v-160H400v160ZM180-400h160v-160H180v160Zm440 0h160v-160H620v160ZM180-180h160v-160H180v160Zm440 0h160v-160H620v160Z\"/>\n  </svg>\n    </button>\n\n  <style>\n    .colab-df-container {\n      display:flex;\n      gap: 12px;\n    }\n\n    .colab-df-convert {\n      background-color: #E8F0FE;\n      border: none;\n      border-radius: 50%;\n      cursor: pointer;\n      display: none;\n      fill: #1967D2;\n      height: 32px;\n      padding: 0 0 0 0;\n      width: 32px;\n    }\n\n    .colab-df-convert:hover {\n      background-color: #E2EBFA;\n      box-shadow: 0px 1px 2px rgba(60, 64, 67, 0.3), 0px 1px 3px 1px rgba(60, 64, 67, 0.15);\n      fill: #174EA6;\n    }\n\n    .colab-df-buttons div {\n      margin-bottom: 4px;\n    }\n\n    [theme=dark] .colab-df-convert {\n      background-color: #3B4455;\n      fill: #D2E3FC;\n    }\n\n    [theme=dark] .colab-df-convert:hover {\n      background-color: #434B5C;\n      box-shadow: 0px 1px 3px 1px rgba(0, 0, 0, 0.15);\n      filter: drop-shadow(0px 1px 2px rgba(0, 0, 0, 0.3));\n      fill: #FFFFFF;\n    }\n  </style>\n\n    <script>\n      const buttonEl =\n        document.querySelector('#df-18cc2184-05c0-46bf-8d25-b8b772a6d910 button.colab-df-convert');\n      buttonEl.style.display =\n        google.colab.kernel.accessAllowed ? 'block' : 'none';\n\n      async function convertToInteractive(key) {\n        const element = document.querySelector('#df-18cc2184-05c0-46bf-8d25-b8b772a6d910');\n        const dataTable =\n          await google.colab.kernel.invokeFunction('convertToInteractive',\n                                                    [key], {});\n        if (!dataTable) return;\n\n        const docLinkHtml = 'Like what you see? Visit the ' +\n          '<a target=\"_blank\" href=https://colab.research.google.com/notebooks/data_table.ipynb>data table notebook</a>'\n          + ' to learn more about interactive tables.';\n        element.innerHTML = '';\n        dataTable['output_type'] = 'display_data';\n        await google.colab.output.renderOutput(dataTable, element);\n        const docLink = document.createElement('div');\n        docLink.innerHTML = docLinkHtml;\n        element.appendChild(docLink);\n      }\n    </script>\n  </div>\n\n\n<div id=\"df-d6b9bc6e-60be-459b-8f44-8b5735c348b5\">\n  <button class=\"colab-df-quickchart\" onclick=\"quickchart('df-d6b9bc6e-60be-459b-8f44-8b5735c348b5')\"\n            title=\"Suggest charts\"\n            style=\"display:none;\">\n\n<svg xmlns=\"http://www.w3.org/2000/svg\" height=\"24px\"viewBox=\"0 0 24 24\"\n     width=\"24px\">\n    <g>\n        <path d=\"M19 3H5c-1.1 0-2 .9-2 2v14c0 1.1.9 2 2 2h14c1.1 0 2-.9 2-2V5c0-1.1-.9-2-2-2zM9 17H7v-7h2v7zm4 0h-2V7h2v10zm4 0h-2v-4h2v4z\"/>\n    </g>\n</svg>\n  </button>\n\n<style>\n  .colab-df-quickchart {\n      --bg-color: #E8F0FE;\n      --fill-color: #1967D2;\n      --hover-bg-color: #E2EBFA;\n      --hover-fill-color: #174EA6;\n      --disabled-fill-color: #AAA;\n      --disabled-bg-color: #DDD;\n  }\n\n  [theme=dark] .colab-df-quickchart {\n      --bg-color: #3B4455;\n      --fill-color: #D2E3FC;\n      --hover-bg-color: #434B5C;\n      --hover-fill-color: #FFFFFF;\n      --disabled-bg-color: #3B4455;\n      --disabled-fill-color: #666;\n  }\n\n  .colab-df-quickchart {\n    background-color: var(--bg-color);\n    border: none;\n    border-radius: 50%;\n    cursor: pointer;\n    display: none;\n    fill: var(--fill-color);\n    height: 32px;\n    padding: 0;\n    width: 32px;\n  }\n\n  .colab-df-quickchart:hover {\n    background-color: var(--hover-bg-color);\n    box-shadow: 0 1px 2px rgba(60, 64, 67, 0.3), 0 1px 3px 1px rgba(60, 64, 67, 0.15);\n    fill: var(--button-hover-fill-color);\n  }\n\n  .colab-df-quickchart-complete:disabled,\n  .colab-df-quickchart-complete:disabled:hover {\n    background-color: var(--disabled-bg-color);\n    fill: var(--disabled-fill-color);\n    box-shadow: none;\n  }\n\n  .colab-df-spinner {\n    border: 2px solid var(--fill-color);\n    border-color: transparent;\n    border-bottom-color: var(--fill-color);\n    animation:\n      spin 1s steps(1) infinite;\n  }\n\n  @keyframes spin {\n    0% {\n      border-color: transparent;\n      border-bottom-color: var(--fill-color);\n      border-left-color: var(--fill-color);\n    }\n    20% {\n      border-color: transparent;\n      border-left-color: var(--fill-color);\n      border-top-color: var(--fill-color);\n    }\n    30% {\n      border-color: transparent;\n      border-left-color: var(--fill-color);\n      border-top-color: var(--fill-color);\n      border-right-color: var(--fill-color);\n    }\n    40% {\n      border-color: transparent;\n      border-right-color: var(--fill-color);\n      border-top-color: var(--fill-color);\n    }\n    60% {\n      border-color: transparent;\n      border-right-color: var(--fill-color);\n    }\n    80% {\n      border-color: transparent;\n      border-right-color: var(--fill-color);\n      border-bottom-color: var(--fill-color);\n    }\n    90% {\n      border-color: transparent;\n      border-bottom-color: var(--fill-color);\n    }\n  }\n</style>\n\n  <script>\n    async function quickchart(key) {\n      const quickchartButtonEl =\n        document.querySelector('#' + key + ' button');\n      quickchartButtonEl.disabled = true;  // To prevent multiple clicks.\n      quickchartButtonEl.classList.add('colab-df-spinner');\n      try {\n        const charts = await google.colab.kernel.invokeFunction(\n            'suggestCharts', [key], {});\n      } catch (error) {\n        console.error('Error during call to suggestCharts:', error);\n      }\n      quickchartButtonEl.classList.remove('colab-df-spinner');\n      quickchartButtonEl.classList.add('colab-df-quickchart-complete');\n    }\n    (() => {\n      let quickchartButtonEl =\n        document.querySelector('#df-d6b9bc6e-60be-459b-8f44-8b5735c348b5 button');\n      quickchartButtonEl.style.display =\n        google.colab.kernel.accessAllowed ? 'block' : 'none';\n    })();\n  </script>\n</div>\n\n    </div>\n  </div>\n",
                  "application/vnd.google.colaboratory.intrinsic+json": {
                    "type": "dataframe",
                    "summary": "{\n  \"name\": \"display(widgets\",\n  \"rows\": 20,\n  \"fields\": [\n    {\n      \"column\": \"lambda\",\n      \"properties\": {\n        \"dtype\": \"number\",\n        \"std\": 2.9580398915498085,\n        \"min\": 0.01,\n        \"max\": 9.51,\n        \"num_unique_values\": 20,\n        \"samples\": [\n          0.01,\n          8.51,\n          7.51\n        ],\n        \"semantic_type\": \"\",\n        \"description\": \"\"\n      }\n    },\n    {\n      \"column\": \"avg_rmse_train\",\n      \"properties\": {\n        \"dtype\": \"number\",\n        \"std\": 27.499727327139052,\n        \"min\": 1835.9539126195486,\n        \"max\": 1934.482786372387,\n        \"num_unique_values\": 20,\n        \"samples\": [\n          1835.9539126195486,\n          1934.344048034829,\n          1934.1467720512064\n        ],\n        \"semantic_type\": \"\",\n        \"description\": \"\"\n      }\n    },\n    {\n      \"column\": \"avg_mae_train\",\n      \"properties\": {\n        \"dtype\": \"number\",\n        \"std\": 25.06138220711755,\n        \"min\": 1487.2467815432806,\n        \"max\": 1580.75708281287,\n        \"num_unique_values\": 20,\n        \"samples\": [\n          1487.2467815432806,\n          1580.6374983358962,\n          1580.467298662497\n        ],\n        \"semantic_type\": \"\",\n        \"description\": \"\"\n      }\n    },\n    {\n      \"column\": \"avg_r2_train\",\n      \"properties\": {\n        \"dtype\": \"number\",\n        \"std\": 0.027736140501850325,\n        \"min\": 0.0005788993752250838,\n        \"max\": 0.09970641366745499,\n        \"num_unique_values\": 20,\n        \"samples\": [\n          0.09970641366745499,\n          0.000722151848273822,\n          0.0009258286185486409\n        ],\n        \"semantic_type\": \"\",\n        \"description\": \"\"\n      }\n    },\n    {\n      \"column\": \"avg_rmse_test\",\n      \"properties\": {\n        \"dtype\": \"number\",\n        \"std\": 25.95836026363596,\n        \"min\": 1848.9750310718744,\n        \"max\": 1940.9741660515235,\n        \"num_unique_values\": 20,\n        \"samples\": [\n          1848.9750310718744,\n          1940.834954519604,\n          1940.6370325610465\n        ],\n        \"semantic_type\": \"\",\n        \"description\": \"\"\n      }\n    },\n    {\n      \"column\": \"avg_mae_test\",\n      \"properties\": {\n        \"dtype\": \"number\",\n        \"std\": 23.199038929902667,\n        \"min\": 1502.0498346571053,\n        \"max\": 1586.2589755310705,\n        \"num_unique_values\": 20,\n        \"samples\": [\n          1502.0498346571053,\n          1586.1435474604375,\n          1585.9792934300901\n        ],\n        \"semantic_type\": \"\",\n        \"description\": \"\"\n      }\n    },\n    {\n      \"column\": \"avg_r2_test\",\n      \"properties\": {\n        \"dtype\": \"number\",\n        \"std\": 0.026404726868110993,\n        \"min\": -0.021359897876180377,\n        \"max\": 0.07141926028694326,\n        \"num_unique_values\": 20,\n        \"samples\": [\n          0.07141926028694326,\n          -0.02121148229518859,\n          -0.021000507361230512\n        ],\n        \"semantic_type\": \"\",\n        \"description\": \"\"\n      }\n    }\n  ]\n}"
                  }
                },
                "metadata": {}
              },
              {
                "output_type": "stream",
                "name": "stdout",
                "text": [
                  "La mejor lambda para la variable weathersit es: 0.01\n"
                ]
              }
            ]
          }
        },
        "9c785cafd3144e33b5bbeba890af1f3d": {
          "model_module": "@jupyter-widgets/base",
          "model_name": "LayoutModel",
          "model_module_version": "1.2.0",
          "state": {
            "_model_module": "@jupyter-widgets/base",
            "_model_module_version": "1.2.0",
            "_model_name": "LayoutModel",
            "_view_count": null,
            "_view_module": "@jupyter-widgets/base",
            "_view_module_version": "1.2.0",
            "_view_name": "LayoutView",
            "align_content": null,
            "align_items": null,
            "align_self": null,
            "border": null,
            "bottom": null,
            "display": null,
            "flex": null,
            "flex_flow": null,
            "grid_area": null,
            "grid_auto_columns": null,
            "grid_auto_flow": null,
            "grid_auto_rows": null,
            "grid_column": null,
            "grid_gap": null,
            "grid_row": null,
            "grid_template_areas": null,
            "grid_template_columns": null,
            "grid_template_rows": null,
            "height": null,
            "justify_content": null,
            "justify_items": null,
            "left": null,
            "margin": null,
            "max_height": null,
            "max_width": null,
            "min_height": null,
            "min_width": null,
            "object_fit": null,
            "object_position": null,
            "order": null,
            "overflow": null,
            "overflow_x": null,
            "overflow_y": null,
            "padding": null,
            "right": null,
            "top": null,
            "visibility": null,
            "width": null
          }
        },
        "ba49c3eb7ec248f2aa88f944c1087b24": {
          "model_module": "@jupyter-widgets/base",
          "model_name": "LayoutModel",
          "model_module_version": "1.2.0",
          "state": {
            "_model_module": "@jupyter-widgets/base",
            "_model_module_version": "1.2.0",
            "_model_name": "LayoutModel",
            "_view_count": null,
            "_view_module": "@jupyter-widgets/base",
            "_view_module_version": "1.2.0",
            "_view_name": "LayoutView",
            "align_content": null,
            "align_items": null,
            "align_self": null,
            "border": null,
            "bottom": null,
            "display": null,
            "flex": null,
            "flex_flow": null,
            "grid_area": null,
            "grid_auto_columns": null,
            "grid_auto_flow": null,
            "grid_auto_rows": null,
            "grid_column": null,
            "grid_gap": null,
            "grid_row": null,
            "grid_template_areas": null,
            "grid_template_columns": null,
            "grid_template_rows": null,
            "height": null,
            "justify_content": null,
            "justify_items": null,
            "left": null,
            "margin": null,
            "max_height": null,
            "max_width": null,
            "min_height": null,
            "min_width": null,
            "object_fit": null,
            "object_position": null,
            "order": null,
            "overflow": null,
            "overflow_x": null,
            "overflow_y": null,
            "padding": null,
            "right": null,
            "top": null,
            "visibility": null,
            "width": null
          }
        },
        "da1acfb2e2a4431e96ff9fe013d6f4a0": {
          "model_module": "@jupyter-widgets/controls",
          "model_name": "DescriptionStyleModel",
          "model_module_version": "1.5.0",
          "state": {
            "_model_module": "@jupyter-widgets/controls",
            "_model_module_version": "1.5.0",
            "_model_name": "DescriptionStyleModel",
            "_view_count": null,
            "_view_module": "@jupyter-widgets/base",
            "_view_module_version": "1.2.0",
            "_view_name": "StyleView",
            "description_width": ""
          }
        },
        "7f3cdbefb4f84b7db10117311cfe3e48": {
          "model_module": "@jupyter-widgets/base",
          "model_name": "LayoutModel",
          "model_module_version": "1.2.0",
          "state": {
            "_model_module": "@jupyter-widgets/base",
            "_model_module_version": "1.2.0",
            "_model_name": "LayoutModel",
            "_view_count": null,
            "_view_module": "@jupyter-widgets/base",
            "_view_module_version": "1.2.0",
            "_view_name": "LayoutView",
            "align_content": null,
            "align_items": null,
            "align_self": null,
            "border": null,
            "bottom": null,
            "display": null,
            "flex": null,
            "flex_flow": null,
            "grid_area": null,
            "grid_auto_columns": null,
            "grid_auto_flow": null,
            "grid_auto_rows": null,
            "grid_column": null,
            "grid_gap": null,
            "grid_row": null,
            "grid_template_areas": null,
            "grid_template_columns": null,
            "grid_template_rows": null,
            "height": null,
            "justify_content": null,
            "justify_items": null,
            "left": null,
            "margin": null,
            "max_height": null,
            "max_width": null,
            "min_height": null,
            "min_width": null,
            "object_fit": null,
            "object_position": null,
            "order": null,
            "overflow": null,
            "overflow_x": null,
            "overflow_y": null,
            "padding": null,
            "right": null,
            "top": null,
            "visibility": null,
            "width": null
          }
        },
        "c0db67d4549948e69b8de3be712e9dd3": {
          "model_module": "@jupyter-widgets/controls",
          "model_name": "VBoxModel",
          "model_module_version": "1.5.0",
          "state": {
            "_dom_classes": [
              "widget-interact"
            ],
            "_model_module": "@jupyter-widgets/controls",
            "_model_module_version": "1.5.0",
            "_model_name": "VBoxModel",
            "_view_count": null,
            "_view_module": "@jupyter-widgets/controls",
            "_view_module_version": "1.5.0",
            "_view_name": "VBoxView",
            "box_style": "",
            "children": [
              "IPY_MODEL_ee88b2237edd4024b73558db24b2d060",
              "IPY_MODEL_e108642fe6aa4b1198b338c42283026a"
            ],
            "layout": "IPY_MODEL_27e4952f084449b695410c40f9f471a7"
          }
        },
        "ee88b2237edd4024b73558db24b2d060": {
          "model_module": "@jupyter-widgets/controls",
          "model_name": "DropdownModel",
          "model_module_version": "1.5.0",
          "state": {
            "_dom_classes": [],
            "_model_module": "@jupyter-widgets/controls",
            "_model_module_version": "1.5.0",
            "_model_name": "DropdownModel",
            "_options_labels": [
              "season",
              "yr",
              "mnth",
              "holiday",
              "workingday",
              "weathersit",
              "temp",
              "atemp",
              "casual",
              "registered"
            ],
            "_view_count": null,
            "_view_module": "@jupyter-widgets/controls",
            "_view_module_version": "1.5.0",
            "_view_name": "DropdownView",
            "description": "Feature:",
            "description_tooltip": null,
            "disabled": false,
            "index": 9,
            "layout": "IPY_MODEL_5bccce1568e34eab97214fa43db8614f",
            "style": "IPY_MODEL_799088075f204b2f9923eafdf09cc052"
          }
        },
        "e108642fe6aa4b1198b338c42283026a": {
          "model_module": "@jupyter-widgets/output",
          "model_name": "OutputModel",
          "model_module_version": "1.0.0",
          "state": {
            "_dom_classes": [],
            "_model_module": "@jupyter-widgets/output",
            "_model_module_version": "1.0.0",
            "_model_name": "OutputModel",
            "_view_count": null,
            "_view_module": "@jupyter-widgets/output",
            "_view_module_version": "1.0.0",
            "_view_name": "OutputView",
            "layout": "IPY_MODEL_6aba4c14200c48ca859d0538f408d767",
            "msg_id": "",
            "outputs": [
              {
                "output_type": "display_data",
                "data": {
                  "text/plain": "        avg_rmse_train  avg_mae_train  avg_r2_train  avg_rmse_test  \\\nlambda                                                               \n0.01        166.393223      37.556278      0.992563    4646.221722   \n0.51        176.521251      53.228108      0.991641    1358.690062   \n1.01        235.367285      92.114159      0.985125     874.234373   \n1.51        267.187909     120.251210      0.980832     814.416863   \n2.01        291.375913     144.575985      0.977217     804.418656   \n2.51        311.743160     165.768882      0.973930     794.140740   \n3.01        329.121194     184.215182      0.970947     784.408275   \n3.51        344.251499     200.808537      0.968220     775.155806   \n4.01        357.971291     216.004942      0.965643     766.324920   \n4.51        370.774254     229.851134      0.963150     758.033971   \n5.01        382.837464     242.369734      0.960722     750.314638   \n5.51        394.196766     253.756464      0.958367     743.066055   \n6.01        404.845581     264.141200      0.956098     736.172400   \n6.51        414.773241     273.607243      0.953928     729.579049   \n7.01        423.981020     282.226931      0.951869     723.287668   \n7.51        432.488590     290.190347      0.949927     717.320249   \n8.01        440.333035     297.495513      0.948101     711.693494   \n8.51        447.563307     304.213162      0.946389     706.411888   \n9.01        454.233827     310.415789      0.944785     701.470739   \n9.51        460.399454     316.096802      0.943281     696.860461   \n\n        avg_mae_test  avg_r2_test  \nlambda                             \n0.01     4090.634866    -4.934466  \n0.51      753.620470     0.480251  \n1.01      571.087874     0.788498  \n1.51      552.988448     0.814438  \n2.01      547.649282     0.818834  \n2.51      542.536837     0.823405  \n3.01      536.616505     0.827798  \n3.51      531.166440     0.831993  \n4.01      525.990161     0.835967  \n4.51      521.225761     0.839655  \n5.01      516.832370     0.843055  \n5.51      512.795572     0.846228  \n6.01      509.293584     0.849231  \n6.51      505.970532     0.852084  \n7.01      502.872461     0.854781  \n7.51      500.130760     0.857309  \n8.01      497.641792     0.859660  \n8.51      495.237943     0.861836  \n9.01      492.753726     0.863842  \n9.51      490.391210     0.865689  ",
                  "text/html": "\n  <div id=\"df-f41b53d5-c395-432d-8095-f0c5dd9464c5\" class=\"colab-df-container\">\n    <div>\n<style scoped>\n    .dataframe tbody tr th:only-of-type {\n        vertical-align: middle;\n    }\n\n    .dataframe tbody tr th {\n        vertical-align: top;\n    }\n\n    .dataframe thead th {\n        text-align: right;\n    }\n</style>\n<table border=\"1\" class=\"dataframe\">\n  <thead>\n    <tr style=\"text-align: right;\">\n      <th></th>\n      <th>avg_rmse_train</th>\n      <th>avg_mae_train</th>\n      <th>avg_r2_train</th>\n      <th>avg_rmse_test</th>\n      <th>avg_mae_test</th>\n      <th>avg_r2_test</th>\n    </tr>\n    <tr>\n      <th>lambda</th>\n      <th></th>\n      <th></th>\n      <th></th>\n      <th></th>\n      <th></th>\n      <th></th>\n    </tr>\n  </thead>\n  <tbody>\n    <tr>\n      <th>0.01</th>\n      <td>166.393223</td>\n      <td>37.556278</td>\n      <td>0.992563</td>\n      <td>4646.221722</td>\n      <td>4090.634866</td>\n      <td>-4.934466</td>\n    </tr>\n    <tr>\n      <th>0.51</th>\n      <td>176.521251</td>\n      <td>53.228108</td>\n      <td>0.991641</td>\n      <td>1358.690062</td>\n      <td>753.620470</td>\n      <td>0.480251</td>\n    </tr>\n    <tr>\n      <th>1.01</th>\n      <td>235.367285</td>\n      <td>92.114159</td>\n      <td>0.985125</td>\n      <td>874.234373</td>\n      <td>571.087874</td>\n      <td>0.788498</td>\n    </tr>\n    <tr>\n      <th>1.51</th>\n      <td>267.187909</td>\n      <td>120.251210</td>\n      <td>0.980832</td>\n      <td>814.416863</td>\n      <td>552.988448</td>\n      <td>0.814438</td>\n    </tr>\n    <tr>\n      <th>2.01</th>\n      <td>291.375913</td>\n      <td>144.575985</td>\n      <td>0.977217</td>\n      <td>804.418656</td>\n      <td>547.649282</td>\n      <td>0.818834</td>\n    </tr>\n    <tr>\n      <th>2.51</th>\n      <td>311.743160</td>\n      <td>165.768882</td>\n      <td>0.973930</td>\n      <td>794.140740</td>\n      <td>542.536837</td>\n      <td>0.823405</td>\n    </tr>\n    <tr>\n      <th>3.01</th>\n      <td>329.121194</td>\n      <td>184.215182</td>\n      <td>0.970947</td>\n      <td>784.408275</td>\n      <td>536.616505</td>\n      <td>0.827798</td>\n    </tr>\n    <tr>\n      <th>3.51</th>\n      <td>344.251499</td>\n      <td>200.808537</td>\n      <td>0.968220</td>\n      <td>775.155806</td>\n      <td>531.166440</td>\n      <td>0.831993</td>\n    </tr>\n    <tr>\n      <th>4.01</th>\n      <td>357.971291</td>\n      <td>216.004942</td>\n      <td>0.965643</td>\n      <td>766.324920</td>\n      <td>525.990161</td>\n      <td>0.835967</td>\n    </tr>\n    <tr>\n      <th>4.51</th>\n      <td>370.774254</td>\n      <td>229.851134</td>\n      <td>0.963150</td>\n      <td>758.033971</td>\n      <td>521.225761</td>\n      <td>0.839655</td>\n    </tr>\n    <tr>\n      <th>5.01</th>\n      <td>382.837464</td>\n      <td>242.369734</td>\n      <td>0.960722</td>\n      <td>750.314638</td>\n      <td>516.832370</td>\n      <td>0.843055</td>\n    </tr>\n    <tr>\n      <th>5.51</th>\n      <td>394.196766</td>\n      <td>253.756464</td>\n      <td>0.958367</td>\n      <td>743.066055</td>\n      <td>512.795572</td>\n      <td>0.846228</td>\n    </tr>\n    <tr>\n      <th>6.01</th>\n      <td>404.845581</td>\n      <td>264.141200</td>\n      <td>0.956098</td>\n      <td>736.172400</td>\n      <td>509.293584</td>\n      <td>0.849231</td>\n    </tr>\n    <tr>\n      <th>6.51</th>\n      <td>414.773241</td>\n      <td>273.607243</td>\n      <td>0.953928</td>\n      <td>729.579049</td>\n      <td>505.970532</td>\n      <td>0.852084</td>\n    </tr>\n    <tr>\n      <th>7.01</th>\n      <td>423.981020</td>\n      <td>282.226931</td>\n      <td>0.951869</td>\n      <td>723.287668</td>\n      <td>502.872461</td>\n      <td>0.854781</td>\n    </tr>\n    <tr>\n      <th>7.51</th>\n      <td>432.488590</td>\n      <td>290.190347</td>\n      <td>0.949927</td>\n      <td>717.320249</td>\n      <td>500.130760</td>\n      <td>0.857309</td>\n    </tr>\n    <tr>\n      <th>8.01</th>\n      <td>440.333035</td>\n      <td>297.495513</td>\n      <td>0.948101</td>\n      <td>711.693494</td>\n      <td>497.641792</td>\n      <td>0.859660</td>\n    </tr>\n    <tr>\n      <th>8.51</th>\n      <td>447.563307</td>\n      <td>304.213162</td>\n      <td>0.946389</td>\n      <td>706.411888</td>\n      <td>495.237943</td>\n      <td>0.861836</td>\n    </tr>\n    <tr>\n      <th>9.01</th>\n      <td>454.233827</td>\n      <td>310.415789</td>\n      <td>0.944785</td>\n      <td>701.470739</td>\n      <td>492.753726</td>\n      <td>0.863842</td>\n    </tr>\n    <tr>\n      <th>9.51</th>\n      <td>460.399454</td>\n      <td>316.096802</td>\n      <td>0.943281</td>\n      <td>696.860461</td>\n      <td>490.391210</td>\n      <td>0.865689</td>\n    </tr>\n  </tbody>\n</table>\n</div>\n    <div class=\"colab-df-buttons\">\n\n  <div class=\"colab-df-container\">\n    <button class=\"colab-df-convert\" onclick=\"convertToInteractive('df-f41b53d5-c395-432d-8095-f0c5dd9464c5')\"\n            title=\"Convert this dataframe to an interactive table.\"\n            style=\"display:none;\">\n\n  <svg xmlns=\"http://www.w3.org/2000/svg\" height=\"24px\" viewBox=\"0 -960 960 960\">\n    <path d=\"M120-120v-720h720v720H120Zm60-500h600v-160H180v160Zm220 220h160v-160H400v160Zm0 220h160v-160H400v160ZM180-400h160v-160H180v160Zm440 0h160v-160H620v160ZM180-180h160v-160H180v160Zm440 0h160v-160H620v160Z\"/>\n  </svg>\n    </button>\n\n  <style>\n    .colab-df-container {\n      display:flex;\n      gap: 12px;\n    }\n\n    .colab-df-convert {\n      background-color: #E8F0FE;\n      border: none;\n      border-radius: 50%;\n      cursor: pointer;\n      display: none;\n      fill: #1967D2;\n      height: 32px;\n      padding: 0 0 0 0;\n      width: 32px;\n    }\n\n    .colab-df-convert:hover {\n      background-color: #E2EBFA;\n      box-shadow: 0px 1px 2px rgba(60, 64, 67, 0.3), 0px 1px 3px 1px rgba(60, 64, 67, 0.15);\n      fill: #174EA6;\n    }\n\n    .colab-df-buttons div {\n      margin-bottom: 4px;\n    }\n\n    [theme=dark] .colab-df-convert {\n      background-color: #3B4455;\n      fill: #D2E3FC;\n    }\n\n    [theme=dark] .colab-df-convert:hover {\n      background-color: #434B5C;\n      box-shadow: 0px 1px 3px 1px rgba(0, 0, 0, 0.15);\n      filter: drop-shadow(0px 1px 2px rgba(0, 0, 0, 0.3));\n      fill: #FFFFFF;\n    }\n  </style>\n\n    <script>\n      const buttonEl =\n        document.querySelector('#df-f41b53d5-c395-432d-8095-f0c5dd9464c5 button.colab-df-convert');\n      buttonEl.style.display =\n        google.colab.kernel.accessAllowed ? 'block' : 'none';\n\n      async function convertToInteractive(key) {\n        const element = document.querySelector('#df-f41b53d5-c395-432d-8095-f0c5dd9464c5');\n        const dataTable =\n          await google.colab.kernel.invokeFunction('convertToInteractive',\n                                                    [key], {});\n        if (!dataTable) return;\n\n        const docLinkHtml = 'Like what you see? Visit the ' +\n          '<a target=\"_blank\" href=https://colab.research.google.com/notebooks/data_table.ipynb>data table notebook</a>'\n          + ' to learn more about interactive tables.';\n        element.innerHTML = '';\n        dataTable['output_type'] = 'display_data';\n        await google.colab.output.renderOutput(dataTable, element);\n        const docLink = document.createElement('div');\n        docLink.innerHTML = docLinkHtml;\n        element.appendChild(docLink);\n      }\n    </script>\n  </div>\n\n\n<div id=\"df-d5e1c9ed-717e-4437-af72-65e974552dae\">\n  <button class=\"colab-df-quickchart\" onclick=\"quickchart('df-d5e1c9ed-717e-4437-af72-65e974552dae')\"\n            title=\"Suggest charts\"\n            style=\"display:none;\">\n\n<svg xmlns=\"http://www.w3.org/2000/svg\" height=\"24px\"viewBox=\"0 0 24 24\"\n     width=\"24px\">\n    <g>\n        <path d=\"M19 3H5c-1.1 0-2 .9-2 2v14c0 1.1.9 2 2 2h14c1.1 0 2-.9 2-2V5c0-1.1-.9-2-2-2zM9 17H7v-7h2v7zm4 0h-2V7h2v10zm4 0h-2v-4h2v4z\"/>\n    </g>\n</svg>\n  </button>\n\n<style>\n  .colab-df-quickchart {\n      --bg-color: #E8F0FE;\n      --fill-color: #1967D2;\n      --hover-bg-color: #E2EBFA;\n      --hover-fill-color: #174EA6;\n      --disabled-fill-color: #AAA;\n      --disabled-bg-color: #DDD;\n  }\n\n  [theme=dark] .colab-df-quickchart {\n      --bg-color: #3B4455;\n      --fill-color: #D2E3FC;\n      --hover-bg-color: #434B5C;\n      --hover-fill-color: #FFFFFF;\n      --disabled-bg-color: #3B4455;\n      --disabled-fill-color: #666;\n  }\n\n  .colab-df-quickchart {\n    background-color: var(--bg-color);\n    border: none;\n    border-radius: 50%;\n    cursor: pointer;\n    display: none;\n    fill: var(--fill-color);\n    height: 32px;\n    padding: 0;\n    width: 32px;\n  }\n\n  .colab-df-quickchart:hover {\n    background-color: var(--hover-bg-color);\n    box-shadow: 0 1px 2px rgba(60, 64, 67, 0.3), 0 1px 3px 1px rgba(60, 64, 67, 0.15);\n    fill: var(--button-hover-fill-color);\n  }\n\n  .colab-df-quickchart-complete:disabled,\n  .colab-df-quickchart-complete:disabled:hover {\n    background-color: var(--disabled-bg-color);\n    fill: var(--disabled-fill-color);\n    box-shadow: none;\n  }\n\n  .colab-df-spinner {\n    border: 2px solid var(--fill-color);\n    border-color: transparent;\n    border-bottom-color: var(--fill-color);\n    animation:\n      spin 1s steps(1) infinite;\n  }\n\n  @keyframes spin {\n    0% {\n      border-color: transparent;\n      border-bottom-color: var(--fill-color);\n      border-left-color: var(--fill-color);\n    }\n    20% {\n      border-color: transparent;\n      border-left-color: var(--fill-color);\n      border-top-color: var(--fill-color);\n    }\n    30% {\n      border-color: transparent;\n      border-left-color: var(--fill-color);\n      border-top-color: var(--fill-color);\n      border-right-color: var(--fill-color);\n    }\n    40% {\n      border-color: transparent;\n      border-right-color: var(--fill-color);\n      border-top-color: var(--fill-color);\n    }\n    60% {\n      border-color: transparent;\n      border-right-color: var(--fill-color);\n    }\n    80% {\n      border-color: transparent;\n      border-right-color: var(--fill-color);\n      border-bottom-color: var(--fill-color);\n    }\n    90% {\n      border-color: transparent;\n      border-bottom-color: var(--fill-color);\n    }\n  }\n</style>\n\n  <script>\n    async function quickchart(key) {\n      const quickchartButtonEl =\n        document.querySelector('#' + key + ' button');\n      quickchartButtonEl.disabled = true;  // To prevent multiple clicks.\n      quickchartButtonEl.classList.add('colab-df-spinner');\n      try {\n        const charts = await google.colab.kernel.invokeFunction(\n            'suggestCharts', [key], {});\n      } catch (error) {\n        console.error('Error during call to suggestCharts:', error);\n      }\n      quickchartButtonEl.classList.remove('colab-df-spinner');\n      quickchartButtonEl.classList.add('colab-df-quickchart-complete');\n    }\n    (() => {\n      let quickchartButtonEl =\n        document.querySelector('#df-d5e1c9ed-717e-4437-af72-65e974552dae button');\n      quickchartButtonEl.style.display =\n        google.colab.kernel.accessAllowed ? 'block' : 'none';\n    })();\n  </script>\n</div>\n\n    </div>\n  </div>\n",
                  "application/vnd.google.colaboratory.intrinsic+json": {
                    "type": "dataframe",
                    "summary": "{\n  \"name\": \"display(widgets\",\n  \"rows\": 20,\n  \"fields\": [\n    {\n      \"column\": \"lambda\",\n      \"properties\": {\n        \"dtype\": \"number\",\n        \"std\": 2.9580398915498085,\n        \"min\": 0.01,\n        \"max\": 9.51,\n        \"num_unique_values\": 20,\n        \"samples\": [\n          0.01,\n          8.51,\n          7.51\n        ],\n        \"semantic_type\": \"\",\n        \"description\": \"\"\n      }\n    },\n    {\n      \"column\": \"avg_rmse_train\",\n      \"properties\": {\n        \"dtype\": \"number\",\n        \"std\": 89.54501100129345,\n        \"min\": 166.39322288328734,\n        \"max\": 460.39945447738154,\n        \"num_unique_values\": 20,\n        \"samples\": [\n          166.39322288328734,\n          447.56330691211735,\n          432.48859010315863\n        ],\n        \"semantic_type\": \"\",\n        \"description\": \"\"\n      }\n    },\n    {\n      \"column\": \"avg_mae_train\",\n      \"properties\": {\n        \"dtype\": \"number\",\n        \"std\": 86.70258437382255,\n        \"min\": 37.55627775826412,\n        \"max\": 316.0968017530144,\n        \"num_unique_values\": 20,\n        \"samples\": [\n          37.55627775826412,\n          304.2131623267779,\n          290.1903466652162\n        ],\n        \"semantic_type\": \"\",\n        \"description\": \"\"\n      }\n    },\n    {\n      \"column\": \"avg_r2_train\",\n      \"properties\": {\n        \"dtype\": \"number\",\n        \"std\": 0.01550012877916235,\n        \"min\": 0.9432811928963776,\n        \"max\": 0.9925629801693792,\n        \"num_unique_values\": 20,\n        \"samples\": [\n          0.9925629801693792,\n          0.9463893330504085,\n          0.949926533636156\n        ],\n        \"semantic_type\": \"\",\n        \"description\": \"\"\n      }\n    },\n    {\n      \"column\": \"avg_rmse_test\",\n      \"properties\": {\n        \"dtype\": \"number\",\n        \"std\": 874.6201449190748,\n        \"min\": 696.8604607948527,\n        \"max\": 4646.221721819145,\n        \"num_unique_values\": 20,\n        \"samples\": [\n          4646.221721819145,\n          706.4118879061299,\n          717.320249036385\n        ],\n        \"semantic_type\": \"\",\n        \"description\": \"\"\n      }\n    },\n    {\n      \"column\": \"avg_mae_test\",\n      \"properties\": {\n        \"dtype\": \"number\",\n        \"std\": 797.7662248019207,\n        \"min\": 490.39120951716785,\n        \"max\": 4090.6348662752775,\n        \"num_unique_values\": 20,\n        \"samples\": [\n          4090.6348662752775,\n          495.2379434241676,\n          500.13075979399366\n        ],\n        \"semantic_type\": \"\",\n        \"description\": \"\"\n      }\n    },\n    {\n      \"column\": \"avg_r2_test\",\n      \"properties\": {\n        \"dtype\": \"number\",\n        \"std\": 1.2898053823264226,\n        \"min\": -4.934466208553454,\n        \"max\": 0.8656894796905886,\n        \"num_unique_values\": 20,\n        \"samples\": [\n          -4.934466208553454,\n          0.8618358011887599,\n          0.857309303329972\n        ],\n        \"semantic_type\": \"\",\n        \"description\": \"\"\n      }\n    }\n  ]\n}"
                  }
                },
                "metadata": {}
              },
              {
                "output_type": "stream",
                "name": "stdout",
                "text": [
                  "La mejor lambda para la variable registered es: 9.51\n"
                ]
              }
            ]
          }
        },
        "27e4952f084449b695410c40f9f471a7": {
          "model_module": "@jupyter-widgets/base",
          "model_name": "LayoutModel",
          "model_module_version": "1.2.0",
          "state": {
            "_model_module": "@jupyter-widgets/base",
            "_model_module_version": "1.2.0",
            "_model_name": "LayoutModel",
            "_view_count": null,
            "_view_module": "@jupyter-widgets/base",
            "_view_module_version": "1.2.0",
            "_view_name": "LayoutView",
            "align_content": null,
            "align_items": null,
            "align_self": null,
            "border": null,
            "bottom": null,
            "display": null,
            "flex": null,
            "flex_flow": null,
            "grid_area": null,
            "grid_auto_columns": null,
            "grid_auto_flow": null,
            "grid_auto_rows": null,
            "grid_column": null,
            "grid_gap": null,
            "grid_row": null,
            "grid_template_areas": null,
            "grid_template_columns": null,
            "grid_template_rows": null,
            "height": null,
            "justify_content": null,
            "justify_items": null,
            "left": null,
            "margin": null,
            "max_height": null,
            "max_width": null,
            "min_height": null,
            "min_width": null,
            "object_fit": null,
            "object_position": null,
            "order": null,
            "overflow": null,
            "overflow_x": null,
            "overflow_y": null,
            "padding": null,
            "right": null,
            "top": null,
            "visibility": null,
            "width": null
          }
        },
        "5bccce1568e34eab97214fa43db8614f": {
          "model_module": "@jupyter-widgets/base",
          "model_name": "LayoutModel",
          "model_module_version": "1.2.0",
          "state": {
            "_model_module": "@jupyter-widgets/base",
            "_model_module_version": "1.2.0",
            "_model_name": "LayoutModel",
            "_view_count": null,
            "_view_module": "@jupyter-widgets/base",
            "_view_module_version": "1.2.0",
            "_view_name": "LayoutView",
            "align_content": null,
            "align_items": null,
            "align_self": null,
            "border": null,
            "bottom": null,
            "display": null,
            "flex": null,
            "flex_flow": null,
            "grid_area": null,
            "grid_auto_columns": null,
            "grid_auto_flow": null,
            "grid_auto_rows": null,
            "grid_column": null,
            "grid_gap": null,
            "grid_row": null,
            "grid_template_areas": null,
            "grid_template_columns": null,
            "grid_template_rows": null,
            "height": null,
            "justify_content": null,
            "justify_items": null,
            "left": null,
            "margin": null,
            "max_height": null,
            "max_width": null,
            "min_height": null,
            "min_width": null,
            "object_fit": null,
            "object_position": null,
            "order": null,
            "overflow": null,
            "overflow_x": null,
            "overflow_y": null,
            "padding": null,
            "right": null,
            "top": null,
            "visibility": null,
            "width": null
          }
        },
        "799088075f204b2f9923eafdf09cc052": {
          "model_module": "@jupyter-widgets/controls",
          "model_name": "DescriptionStyleModel",
          "model_module_version": "1.5.0",
          "state": {
            "_model_module": "@jupyter-widgets/controls",
            "_model_module_version": "1.5.0",
            "_model_name": "DescriptionStyleModel",
            "_view_count": null,
            "_view_module": "@jupyter-widgets/base",
            "_view_module_version": "1.2.0",
            "_view_name": "StyleView",
            "description_width": ""
          }
        },
        "6aba4c14200c48ca859d0538f408d767": {
          "model_module": "@jupyter-widgets/base",
          "model_name": "LayoutModel",
          "model_module_version": "1.2.0",
          "state": {
            "_model_module": "@jupyter-widgets/base",
            "_model_module_version": "1.2.0",
            "_model_name": "LayoutModel",
            "_view_count": null,
            "_view_module": "@jupyter-widgets/base",
            "_view_module_version": "1.2.0",
            "_view_name": "LayoutView",
            "align_content": null,
            "align_items": null,
            "align_self": null,
            "border": null,
            "bottom": null,
            "display": null,
            "flex": null,
            "flex_flow": null,
            "grid_area": null,
            "grid_auto_columns": null,
            "grid_auto_flow": null,
            "grid_auto_rows": null,
            "grid_column": null,
            "grid_gap": null,
            "grid_row": null,
            "grid_template_areas": null,
            "grid_template_columns": null,
            "grid_template_rows": null,
            "height": null,
            "justify_content": null,
            "justify_items": null,
            "left": null,
            "margin": null,
            "max_height": null,
            "max_width": null,
            "min_height": null,
            "min_width": null,
            "object_fit": null,
            "object_position": null,
            "order": null,
            "overflow": null,
            "overflow_x": null,
            "overflow_y": null,
            "padding": null,
            "right": null,
            "top": null,
            "visibility": null,
            "width": null
          }
        },
        "46591ccf5e19428f8da95a5b3aab6301": {
          "model_module": "@jupyter-widgets/controls",
          "model_name": "HBoxModel",
          "model_module_version": "1.5.0",
          "state": {
            "_dom_classes": [],
            "_model_module": "@jupyter-widgets/controls",
            "_model_module_version": "1.5.0",
            "_model_name": "HBoxModel",
            "_view_count": null,
            "_view_module": "@jupyter-widgets/controls",
            "_view_module_version": "1.5.0",
            "_view_name": "HBoxView",
            "box_style": "",
            "children": [
              "IPY_MODEL_59cd42ea35534c958224c7188bdce94b",
              "IPY_MODEL_9184d3cc69534cb48538dd310ae20616"
            ],
            "layout": "IPY_MODEL_cf3a1ee48dd5460caaf6cf55ae3a5f44"
          }
        },
        "59cd42ea35534c958224c7188bdce94b": {
          "model_module": "@jupyter-widgets/controls",
          "model_name": "DropdownModel",
          "model_module_version": "1.5.0",
          "state": {
            "_dom_classes": [],
            "_model_module": "@jupyter-widgets/controls",
            "_model_module_version": "1.5.0",
            "_model_name": "DropdownModel",
            "_options_labels": [
              "season",
              "yr",
              "mnth",
              "holiday",
              "workingday",
              "weathersit",
              "temp",
              "atemp",
              "casual",
              "registered"
            ],
            "_view_count": null,
            "_view_module": "@jupyter-widgets/controls",
            "_view_module_version": "1.5.0",
            "_view_name": "DropdownView",
            "description": "Columna:",
            "description_tooltip": null,
            "disabled": false,
            "index": 5,
            "layout": "IPY_MODEL_cd8c152fbed94f3aa959dc275fe2ce08",
            "style": "IPY_MODEL_6f831555e3a445e2a509ee317174e2d4"
          }
        },
        "9184d3cc69534cb48538dd310ae20616": {
          "model_module": "@jupyter-widgets/controls",
          "model_name": "DropdownModel",
          "model_module_version": "1.5.0",
          "state": {
            "_dom_classes": [],
            "_model_module": "@jupyter-widgets/controls",
            "_model_module_version": "1.5.0",
            "_model_name": "DropdownModel",
            "_options_labels": [
              "Gaussian",
              "Tricubic",
              "Epanechnikov",
              "Rectangular"
            ],
            "_view_count": null,
            "_view_module": "@jupyter-widgets/controls",
            "_view_module_version": "1.5.0",
            "_view_name": "DropdownView",
            "description": "Kernel:",
            "description_tooltip": null,
            "disabled": false,
            "index": 2,
            "layout": "IPY_MODEL_21ed9ae6a01747be880b48042015ab3e",
            "style": "IPY_MODEL_4bffc27f3d5a45428a4d82fc2bf499fb"
          }
        },
        "cf3a1ee48dd5460caaf6cf55ae3a5f44": {
          "model_module": "@jupyter-widgets/base",
          "model_name": "LayoutModel",
          "model_module_version": "1.2.0",
          "state": {
            "_model_module": "@jupyter-widgets/base",
            "_model_module_version": "1.2.0",
            "_model_name": "LayoutModel",
            "_view_count": null,
            "_view_module": "@jupyter-widgets/base",
            "_view_module_version": "1.2.0",
            "_view_name": "LayoutView",
            "align_content": null,
            "align_items": null,
            "align_self": null,
            "border": null,
            "bottom": null,
            "display": null,
            "flex": null,
            "flex_flow": null,
            "grid_area": null,
            "grid_auto_columns": null,
            "grid_auto_flow": null,
            "grid_auto_rows": null,
            "grid_column": null,
            "grid_gap": null,
            "grid_row": null,
            "grid_template_areas": null,
            "grid_template_columns": null,
            "grid_template_rows": null,
            "height": null,
            "justify_content": null,
            "justify_items": null,
            "left": null,
            "margin": null,
            "max_height": null,
            "max_width": null,
            "min_height": null,
            "min_width": null,
            "object_fit": null,
            "object_position": null,
            "order": null,
            "overflow": null,
            "overflow_x": null,
            "overflow_y": null,
            "padding": null,
            "right": null,
            "top": null,
            "visibility": null,
            "width": null
          }
        },
        "cd8c152fbed94f3aa959dc275fe2ce08": {
          "model_module": "@jupyter-widgets/base",
          "model_name": "LayoutModel",
          "model_module_version": "1.2.0",
          "state": {
            "_model_module": "@jupyter-widgets/base",
            "_model_module_version": "1.2.0",
            "_model_name": "LayoutModel",
            "_view_count": null,
            "_view_module": "@jupyter-widgets/base",
            "_view_module_version": "1.2.0",
            "_view_name": "LayoutView",
            "align_content": null,
            "align_items": null,
            "align_self": null,
            "border": null,
            "bottom": null,
            "display": null,
            "flex": null,
            "flex_flow": null,
            "grid_area": null,
            "grid_auto_columns": null,
            "grid_auto_flow": null,
            "grid_auto_rows": null,
            "grid_column": null,
            "grid_gap": null,
            "grid_row": null,
            "grid_template_areas": null,
            "grid_template_columns": null,
            "grid_template_rows": null,
            "height": null,
            "justify_content": null,
            "justify_items": null,
            "left": null,
            "margin": null,
            "max_height": null,
            "max_width": null,
            "min_height": null,
            "min_width": null,
            "object_fit": null,
            "object_position": null,
            "order": null,
            "overflow": null,
            "overflow_x": null,
            "overflow_y": null,
            "padding": null,
            "right": null,
            "top": null,
            "visibility": null,
            "width": null
          }
        },
        "6f831555e3a445e2a509ee317174e2d4": {
          "model_module": "@jupyter-widgets/controls",
          "model_name": "DescriptionStyleModel",
          "model_module_version": "1.5.0",
          "state": {
            "_model_module": "@jupyter-widgets/controls",
            "_model_module_version": "1.5.0",
            "_model_name": "DescriptionStyleModel",
            "_view_count": null,
            "_view_module": "@jupyter-widgets/base",
            "_view_module_version": "1.2.0",
            "_view_name": "StyleView",
            "description_width": ""
          }
        },
        "21ed9ae6a01747be880b48042015ab3e": {
          "model_module": "@jupyter-widgets/base",
          "model_name": "LayoutModel",
          "model_module_version": "1.2.0",
          "state": {
            "_model_module": "@jupyter-widgets/base",
            "_model_module_version": "1.2.0",
            "_model_name": "LayoutModel",
            "_view_count": null,
            "_view_module": "@jupyter-widgets/base",
            "_view_module_version": "1.2.0",
            "_view_name": "LayoutView",
            "align_content": null,
            "align_items": null,
            "align_self": null,
            "border": null,
            "bottom": null,
            "display": null,
            "flex": null,
            "flex_flow": null,
            "grid_area": null,
            "grid_auto_columns": null,
            "grid_auto_flow": null,
            "grid_auto_rows": null,
            "grid_column": null,
            "grid_gap": null,
            "grid_row": null,
            "grid_template_areas": null,
            "grid_template_columns": null,
            "grid_template_rows": null,
            "height": null,
            "justify_content": null,
            "justify_items": null,
            "left": null,
            "margin": null,
            "max_height": null,
            "max_width": null,
            "min_height": null,
            "min_width": null,
            "object_fit": null,
            "object_position": null,
            "order": null,
            "overflow": null,
            "overflow_x": null,
            "overflow_y": null,
            "padding": null,
            "right": null,
            "top": null,
            "visibility": null,
            "width": null
          }
        },
        "4bffc27f3d5a45428a4d82fc2bf499fb": {
          "model_module": "@jupyter-widgets/controls",
          "model_name": "DescriptionStyleModel",
          "model_module_version": "1.5.0",
          "state": {
            "_model_module": "@jupyter-widgets/controls",
            "_model_module_version": "1.5.0",
            "_model_name": "DescriptionStyleModel",
            "_view_count": null,
            "_view_module": "@jupyter-widgets/base",
            "_view_module_version": "1.2.0",
            "_view_name": "StyleView",
            "description_width": ""
          }
        },
        "496f9ff62d9f4002ba5169abf2d085fd": {
          "model_module": "@jupyter-widgets/output",
          "model_name": "OutputModel",
          "model_module_version": "1.0.0",
          "state": {
            "_dom_classes": [],
            "_model_module": "@jupyter-widgets/output",
            "_model_module_version": "1.0.0",
            "_model_name": "OutputModel",
            "_view_count": null,
            "_view_module": "@jupyter-widgets/output",
            "_view_module_version": "1.0.0",
            "_view_name": "OutputView",
            "layout": "IPY_MODEL_f3058dfc351845dd9a6dc76771f2688c",
            "msg_id": "",
            "outputs": [
              {
                "output_type": "display_data",
                "data": {
                  "text/plain": "<Figure size 1000x600 with 1 Axes>",
                  "image/png": "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\n"
                },
                "metadata": {}
              }
            ]
          }
        },
        "f3058dfc351845dd9a6dc76771f2688c": {
          "model_module": "@jupyter-widgets/base",
          "model_name": "LayoutModel",
          "model_module_version": "1.2.0",
          "state": {
            "_model_module": "@jupyter-widgets/base",
            "_model_module_version": "1.2.0",
            "_model_name": "LayoutModel",
            "_view_count": null,
            "_view_module": "@jupyter-widgets/base",
            "_view_module_version": "1.2.0",
            "_view_name": "LayoutView",
            "align_content": null,
            "align_items": null,
            "align_self": null,
            "border": null,
            "bottom": null,
            "display": null,
            "flex": null,
            "flex_flow": null,
            "grid_area": null,
            "grid_auto_columns": null,
            "grid_auto_flow": null,
            "grid_auto_rows": null,
            "grid_column": null,
            "grid_gap": null,
            "grid_row": null,
            "grid_template_areas": null,
            "grid_template_columns": null,
            "grid_template_rows": null,
            "height": null,
            "justify_content": null,
            "justify_items": null,
            "left": null,
            "margin": null,
            "max_height": null,
            "max_width": null,
            "min_height": null,
            "min_width": null,
            "object_fit": null,
            "object_position": null,
            "order": null,
            "overflow": null,
            "overflow_x": null,
            "overflow_y": null,
            "padding": null,
            "right": null,
            "top": null,
            "visibility": null,
            "width": null
          }
        }
      }
    }
  },
  "nbformat": 4,
  "nbformat_minor": 0
}